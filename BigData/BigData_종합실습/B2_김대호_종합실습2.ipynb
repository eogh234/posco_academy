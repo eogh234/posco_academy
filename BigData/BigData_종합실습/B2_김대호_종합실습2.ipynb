{
 "cells": [
  {
   "cell_type": "markdown",
   "metadata": {},
   "source": [
    "# B2 김대호 종합실습 2\n",
    "\n",
    "## 스케일 불량 원인 변수 분석"
   ]
  },
  {
   "cell_type": "code",
   "execution_count": 384,
   "metadata": {},
   "outputs": [],
   "source": [
    "import pandas as pd\n",
    "import numpy as np\n",
    "\n",
    "# 데이터 시각화 패키지\n",
    "import matplotlib\n",
    "import matplotlib.pyplot as plt\n",
    "import seaborn as sns\n",
    "\n",
    "from statsmodels.api import add_constant\n",
    "\n",
    "from sklearn.svm import SVC \n",
    "\n",
    "# 모델 전처리\n",
    "from sklearn.model_selection import train_test_split\n",
    "from sklearn.preprocessing import StandardScaler\n",
    "from sklearn.model_selection import GridSearchCV\n",
    "\n",
    "from sklearn.metrics import mean_squared_error\n",
    "from sklearn.metrics import mean_absolute_error\n",
    "\n",
    "# grhpviz\n",
    "from sklearn.tree import export_graphviz\n",
    "import graphviz\n",
    "\n",
    "# 로지스틱 회귀\n",
    "from statsmodels.api import Logit\n",
    "from sklearn.metrics import accuracy_score\n",
    "\n",
    "# 의사결정나무\n",
    "from sklearn.tree import DecisionTreeClassifier\n",
    "\n",
    "\n",
    "# 랜덤포레스트\n",
    "from sklearn.ensemble import RandomForestClassifier\n",
    "\n",
    "# 그레디언트 부스팅\n",
    "from sklearn.ensemble import GradientBoostingClassifier\n",
    "\n",
    "# 모델 성능 평가\n",
    "from sklearn.metrics import confusion_matrix"
   ]
  },
  {
   "cell_type": "markdown",
   "metadata": {},
   "source": [
    "# 압연 공정 데이터 파일 불러오기"
   ]
  },
  {
   "cell_type": "code",
   "execution_count": 385,
   "metadata": {},
   "outputs": [],
   "source": [
    "df_raw = pd.read_csv(\"../../data/SCALE불량.csv\", encoding=\"cp949\")"
   ]
  },
  {
   "cell_type": "code",
   "execution_count": 386,
   "metadata": {},
   "outputs": [
    {
     "data": {
      "text/html": [
       "<div>\n",
       "<style scoped>\n",
       "    .dataframe tbody tr th:only-of-type {\n",
       "        vertical-align: middle;\n",
       "    }\n",
       "\n",
       "    .dataframe tbody tr th {\n",
       "        vertical-align: top;\n",
       "    }\n",
       "\n",
       "    .dataframe thead th {\n",
       "        text-align: right;\n",
       "    }\n",
       "</style>\n",
       "<table border=\"1\" class=\"dataframe\">\n",
       "  <thead>\n",
       "    <tr style=\"text-align: right;\">\n",
       "      <th></th>\n",
       "      <th>PLATE_NO</th>\n",
       "      <th>ROLLING_DATE</th>\n",
       "      <th>SCALE</th>\n",
       "      <th>SPEC</th>\n",
       "      <th>STEEL_KIND</th>\n",
       "      <th>PT_THK</th>\n",
       "      <th>PT_WDTH</th>\n",
       "      <th>PT_LTH</th>\n",
       "      <th>PT_WGT</th>\n",
       "      <th>FUR_NO</th>\n",
       "      <th>...</th>\n",
       "      <th>FUR_HZ_TEMP</th>\n",
       "      <th>FUR_HZ_TIME</th>\n",
       "      <th>FUR_SZ_TEMP</th>\n",
       "      <th>FUR_SZ_TIME</th>\n",
       "      <th>FUR_TIME</th>\n",
       "      <th>FUR_EXTEMP</th>\n",
       "      <th>ROLLING_TEMP_T5</th>\n",
       "      <th>HSB</th>\n",
       "      <th>ROLLING_DESCALING</th>\n",
       "      <th>WORK_GR</th>\n",
       "    </tr>\n",
       "  </thead>\n",
       "  <tbody>\n",
       "    <tr>\n",
       "      <th>0</th>\n",
       "      <td>PB562774</td>\n",
       "      <td>2008-08-01:00:00:15</td>\n",
       "      <td>양품</td>\n",
       "      <td>AB/EH32-TM</td>\n",
       "      <td>T1</td>\n",
       "      <td>32.25</td>\n",
       "      <td>3707</td>\n",
       "      <td>15109</td>\n",
       "      <td>14180</td>\n",
       "      <td>1호기</td>\n",
       "      <td>...</td>\n",
       "      <td>1144</td>\n",
       "      <td>116</td>\n",
       "      <td>1133</td>\n",
       "      <td>59</td>\n",
       "      <td>282</td>\n",
       "      <td>1125</td>\n",
       "      <td>934</td>\n",
       "      <td>적용</td>\n",
       "      <td>8</td>\n",
       "      <td>2조</td>\n",
       "    </tr>\n",
       "    <tr>\n",
       "      <th>1</th>\n",
       "      <td>PB562775</td>\n",
       "      <td>2008-08-01:00:00:16</td>\n",
       "      <td>양품</td>\n",
       "      <td>AB/EH32-TM</td>\n",
       "      <td>T1</td>\n",
       "      <td>32.25</td>\n",
       "      <td>3707</td>\n",
       "      <td>15109</td>\n",
       "      <td>14180</td>\n",
       "      <td>1호기</td>\n",
       "      <td>...</td>\n",
       "      <td>1144</td>\n",
       "      <td>122</td>\n",
       "      <td>1135</td>\n",
       "      <td>53</td>\n",
       "      <td>283</td>\n",
       "      <td>1120</td>\n",
       "      <td>937</td>\n",
       "      <td>적용</td>\n",
       "      <td>8</td>\n",
       "      <td>2조</td>\n",
       "    </tr>\n",
       "    <tr>\n",
       "      <th>2</th>\n",
       "      <td>PB562776</td>\n",
       "      <td>2008-08-01:00:00:59</td>\n",
       "      <td>양품</td>\n",
       "      <td>NV-E36-TM</td>\n",
       "      <td>T8</td>\n",
       "      <td>33.27</td>\n",
       "      <td>3619</td>\n",
       "      <td>19181</td>\n",
       "      <td>18130</td>\n",
       "      <td>2호기</td>\n",
       "      <td>...</td>\n",
       "      <td>1129</td>\n",
       "      <td>116</td>\n",
       "      <td>1121</td>\n",
       "      <td>55</td>\n",
       "      <td>282</td>\n",
       "      <td>1106</td>\n",
       "      <td>889</td>\n",
       "      <td>적용</td>\n",
       "      <td>8</td>\n",
       "      <td>3조</td>\n",
       "    </tr>\n",
       "    <tr>\n",
       "      <th>3</th>\n",
       "      <td>PB562777</td>\n",
       "      <td>2008-08-01:00:01:24</td>\n",
       "      <td>양품</td>\n",
       "      <td>NV-E36-TM</td>\n",
       "      <td>T8</td>\n",
       "      <td>33.27</td>\n",
       "      <td>3619</td>\n",
       "      <td>19181</td>\n",
       "      <td>18130</td>\n",
       "      <td>2호기</td>\n",
       "      <td>...</td>\n",
       "      <td>1152</td>\n",
       "      <td>125</td>\n",
       "      <td>1127</td>\n",
       "      <td>68</td>\n",
       "      <td>316</td>\n",
       "      <td>1113</td>\n",
       "      <td>885</td>\n",
       "      <td>적용</td>\n",
       "      <td>8</td>\n",
       "      <td>3조</td>\n",
       "    </tr>\n",
       "    <tr>\n",
       "      <th>4</th>\n",
       "      <td>PB562778</td>\n",
       "      <td>2008-08-01:00:01:44</td>\n",
       "      <td>양품</td>\n",
       "      <td>BV-EH36-TM</td>\n",
       "      <td>T8</td>\n",
       "      <td>38.33</td>\n",
       "      <td>3098</td>\n",
       "      <td>13334</td>\n",
       "      <td>12430</td>\n",
       "      <td>3호기</td>\n",
       "      <td>...</td>\n",
       "      <td>1140</td>\n",
       "      <td>134</td>\n",
       "      <td>1128</td>\n",
       "      <td>48</td>\n",
       "      <td>314</td>\n",
       "      <td>1118</td>\n",
       "      <td>873</td>\n",
       "      <td>적용</td>\n",
       "      <td>8</td>\n",
       "      <td>1조</td>\n",
       "    </tr>\n",
       "  </tbody>\n",
       "</table>\n",
       "<p>5 rows × 21 columns</p>\n",
       "</div>"
      ],
      "text/plain": [
       "   PLATE_NO         ROLLING_DATE SCALE        SPEC STEEL_KIND  PT_THK  \\\n",
       "0  PB562774  2008-08-01:00:00:15    양품  AB/EH32-TM         T1   32.25   \n",
       "1  PB562775  2008-08-01:00:00:16    양품  AB/EH32-TM         T1   32.25   \n",
       "2  PB562776  2008-08-01:00:00:59    양품   NV-E36-TM         T8   33.27   \n",
       "3  PB562777  2008-08-01:00:01:24    양품   NV-E36-TM         T8   33.27   \n",
       "4  PB562778  2008-08-01:00:01:44    양품  BV-EH36-TM         T8   38.33   \n",
       "\n",
       "   PT_WDTH  PT_LTH  PT_WGT FUR_NO  ...  FUR_HZ_TEMP  FUR_HZ_TIME  FUR_SZ_TEMP  \\\n",
       "0     3707   15109   14180    1호기  ...         1144          116         1133   \n",
       "1     3707   15109   14180    1호기  ...         1144          122         1135   \n",
       "2     3619   19181   18130    2호기  ...         1129          116         1121   \n",
       "3     3619   19181   18130    2호기  ...         1152          125         1127   \n",
       "4     3098   13334   12430    3호기  ...         1140          134         1128   \n",
       "\n",
       "   FUR_SZ_TIME  FUR_TIME  FUR_EXTEMP  ROLLING_TEMP_T5  HSB ROLLING_DESCALING  \\\n",
       "0           59       282        1125              934   적용                 8   \n",
       "1           53       283        1120              937   적용                 8   \n",
       "2           55       282        1106              889   적용                 8   \n",
       "3           68       316        1113              885   적용                 8   \n",
       "4           48       314        1118              873   적용                 8   \n",
       "\n",
       "   WORK_GR  \n",
       "0       2조  \n",
       "1       2조  \n",
       "2       3조  \n",
       "3       3조  \n",
       "4       1조  \n",
       "\n",
       "[5 rows x 21 columns]"
      ]
     },
     "execution_count": 386,
     "metadata": {},
     "output_type": "execute_result"
    }
   ],
   "source": [
    "df_raw.head()"
   ]
  },
  {
   "cell_type": "code",
   "execution_count": 387,
   "metadata": {},
   "outputs": [
    {
     "name": "stdout",
     "output_type": "stream",
     "text": [
      "<class 'pandas.core.frame.DataFrame'>\n",
      "RangeIndex: 720 entries, 0 to 719\n",
      "Data columns (total 21 columns):\n",
      " #   Column             Non-Null Count  Dtype  \n",
      "---  ------             --------------  -----  \n",
      " 0   PLATE_NO           720 non-null    object \n",
      " 1   ROLLING_DATE       720 non-null    object \n",
      " 2   SCALE              720 non-null    object \n",
      " 3   SPEC               720 non-null    object \n",
      " 4   STEEL_KIND         720 non-null    object \n",
      " 5   PT_THK             720 non-null    float64\n",
      " 6   PT_WDTH            720 non-null    int64  \n",
      " 7   PT_LTH             720 non-null    int64  \n",
      " 8   PT_WGT             720 non-null    int64  \n",
      " 9   FUR_NO             720 non-null    object \n",
      " 10  FUR_NO_ROW         720 non-null    int64  \n",
      " 11  FUR_HZ_TEMP        720 non-null    int64  \n",
      " 12  FUR_HZ_TIME        720 non-null    int64  \n",
      " 13  FUR_SZ_TEMP        720 non-null    int64  \n",
      " 14  FUR_SZ_TIME        720 non-null    int64  \n",
      " 15  FUR_TIME           720 non-null    int64  \n",
      " 16  FUR_EXTEMP         720 non-null    int64  \n",
      " 17  ROLLING_TEMP_T5    720 non-null    int64  \n",
      " 18  HSB                720 non-null    object \n",
      " 19  ROLLING_DESCALING  720 non-null    int64  \n",
      " 20  WORK_GR            720 non-null    object \n",
      "dtypes: float64(1), int64(12), object(8)\n",
      "memory usage: 118.2+ KB\n"
     ]
    }
   ],
   "source": [
    "df_raw.info()"
   ]
  },
  {
   "cell_type": "markdown",
   "metadata": {},
   "source": [
    "# 1. 데이터 분석 및 전처리"
   ]
  },
  {
   "cell_type": "markdown",
   "metadata": {},
   "source": [
    " * PLATE_NO, ROLLING_DATE(날짜) 컬럼 삭제\n",
    " * 철판번호와 날짜는 SCALE 오류에 영향을 끼치지 않는다고 생각하여 삭제한다."
   ]
  },
  {
   "cell_type": "code",
   "execution_count": 388,
   "metadata": {
    "scrolled": false
   },
   "outputs": [
    {
     "data": {
      "text/html": [
       "<div>\n",
       "<style scoped>\n",
       "    .dataframe tbody tr th:only-of-type {\n",
       "        vertical-align: middle;\n",
       "    }\n",
       "\n",
       "    .dataframe tbody tr th {\n",
       "        vertical-align: top;\n",
       "    }\n",
       "\n",
       "    .dataframe thead th {\n",
       "        text-align: right;\n",
       "    }\n",
       "</style>\n",
       "<table border=\"1\" class=\"dataframe\">\n",
       "  <thead>\n",
       "    <tr style=\"text-align: right;\">\n",
       "      <th></th>\n",
       "      <th>SCALE</th>\n",
       "      <th>SPEC</th>\n",
       "      <th>STEEL_KIND</th>\n",
       "      <th>PT_THK</th>\n",
       "      <th>PT_WDTH</th>\n",
       "      <th>PT_LTH</th>\n",
       "      <th>PT_WGT</th>\n",
       "      <th>FUR_NO</th>\n",
       "      <th>FUR_NO_ROW</th>\n",
       "      <th>FUR_HZ_TEMP</th>\n",
       "      <th>FUR_HZ_TIME</th>\n",
       "      <th>FUR_SZ_TEMP</th>\n",
       "      <th>FUR_SZ_TIME</th>\n",
       "      <th>FUR_TIME</th>\n",
       "      <th>FUR_EXTEMP</th>\n",
       "      <th>ROLLING_TEMP_T5</th>\n",
       "      <th>HSB</th>\n",
       "      <th>ROLLING_DESCALING</th>\n",
       "      <th>WORK_GR</th>\n",
       "    </tr>\n",
       "  </thead>\n",
       "  <tbody>\n",
       "    <tr>\n",
       "      <th>0</th>\n",
       "      <td>양품</td>\n",
       "      <td>AB/EH32-TM</td>\n",
       "      <td>T1</td>\n",
       "      <td>32.25</td>\n",
       "      <td>3707</td>\n",
       "      <td>15109</td>\n",
       "      <td>14180</td>\n",
       "      <td>1호기</td>\n",
       "      <td>1</td>\n",
       "      <td>1144</td>\n",
       "      <td>116</td>\n",
       "      <td>1133</td>\n",
       "      <td>59</td>\n",
       "      <td>282</td>\n",
       "      <td>1125</td>\n",
       "      <td>934</td>\n",
       "      <td>적용</td>\n",
       "      <td>8</td>\n",
       "      <td>2조</td>\n",
       "    </tr>\n",
       "    <tr>\n",
       "      <th>1</th>\n",
       "      <td>양품</td>\n",
       "      <td>AB/EH32-TM</td>\n",
       "      <td>T1</td>\n",
       "      <td>32.25</td>\n",
       "      <td>3707</td>\n",
       "      <td>15109</td>\n",
       "      <td>14180</td>\n",
       "      <td>1호기</td>\n",
       "      <td>2</td>\n",
       "      <td>1144</td>\n",
       "      <td>122</td>\n",
       "      <td>1135</td>\n",
       "      <td>53</td>\n",
       "      <td>283</td>\n",
       "      <td>1120</td>\n",
       "      <td>937</td>\n",
       "      <td>적용</td>\n",
       "      <td>8</td>\n",
       "      <td>2조</td>\n",
       "    </tr>\n",
       "    <tr>\n",
       "      <th>2</th>\n",
       "      <td>양품</td>\n",
       "      <td>NV-E36-TM</td>\n",
       "      <td>T8</td>\n",
       "      <td>33.27</td>\n",
       "      <td>3619</td>\n",
       "      <td>19181</td>\n",
       "      <td>18130</td>\n",
       "      <td>2호기</td>\n",
       "      <td>1</td>\n",
       "      <td>1129</td>\n",
       "      <td>116</td>\n",
       "      <td>1121</td>\n",
       "      <td>55</td>\n",
       "      <td>282</td>\n",
       "      <td>1106</td>\n",
       "      <td>889</td>\n",
       "      <td>적용</td>\n",
       "      <td>8</td>\n",
       "      <td>3조</td>\n",
       "    </tr>\n",
       "    <tr>\n",
       "      <th>3</th>\n",
       "      <td>양품</td>\n",
       "      <td>NV-E36-TM</td>\n",
       "      <td>T8</td>\n",
       "      <td>33.27</td>\n",
       "      <td>3619</td>\n",
       "      <td>19181</td>\n",
       "      <td>18130</td>\n",
       "      <td>2호기</td>\n",
       "      <td>2</td>\n",
       "      <td>1152</td>\n",
       "      <td>125</td>\n",
       "      <td>1127</td>\n",
       "      <td>68</td>\n",
       "      <td>316</td>\n",
       "      <td>1113</td>\n",
       "      <td>885</td>\n",
       "      <td>적용</td>\n",
       "      <td>8</td>\n",
       "      <td>3조</td>\n",
       "    </tr>\n",
       "    <tr>\n",
       "      <th>4</th>\n",
       "      <td>양품</td>\n",
       "      <td>BV-EH36-TM</td>\n",
       "      <td>T8</td>\n",
       "      <td>38.33</td>\n",
       "      <td>3098</td>\n",
       "      <td>13334</td>\n",
       "      <td>12430</td>\n",
       "      <td>3호기</td>\n",
       "      <td>1</td>\n",
       "      <td>1140</td>\n",
       "      <td>134</td>\n",
       "      <td>1128</td>\n",
       "      <td>48</td>\n",
       "      <td>314</td>\n",
       "      <td>1118</td>\n",
       "      <td>873</td>\n",
       "      <td>적용</td>\n",
       "      <td>8</td>\n",
       "      <td>1조</td>\n",
       "    </tr>\n",
       "  </tbody>\n",
       "</table>\n",
       "</div>"
      ],
      "text/plain": [
       "  SCALE        SPEC STEEL_KIND  PT_THK  PT_WDTH  PT_LTH  PT_WGT FUR_NO  \\\n",
       "0    양품  AB/EH32-TM         T1   32.25     3707   15109   14180    1호기   \n",
       "1    양품  AB/EH32-TM         T1   32.25     3707   15109   14180    1호기   \n",
       "2    양품   NV-E36-TM         T8   33.27     3619   19181   18130    2호기   \n",
       "3    양품   NV-E36-TM         T8   33.27     3619   19181   18130    2호기   \n",
       "4    양품  BV-EH36-TM         T8   38.33     3098   13334   12430    3호기   \n",
       "\n",
       "   FUR_NO_ROW  FUR_HZ_TEMP  FUR_HZ_TIME  FUR_SZ_TEMP  FUR_SZ_TIME  FUR_TIME  \\\n",
       "0           1         1144          116         1133           59       282   \n",
       "1           2         1144          122         1135           53       283   \n",
       "2           1         1129          116         1121           55       282   \n",
       "3           2         1152          125         1127           68       316   \n",
       "4           1         1140          134         1128           48       314   \n",
       "\n",
       "   FUR_EXTEMP  ROLLING_TEMP_T5 HSB  ROLLING_DESCALING WORK_GR  \n",
       "0        1125              934  적용                  8      2조  \n",
       "1        1120              937  적용                  8      2조  \n",
       "2        1106              889  적용                  8      3조  \n",
       "3        1113              885  적용                  8      3조  \n",
       "4        1118              873  적용                  8      1조  "
      ]
     },
     "execution_count": 388,
     "metadata": {},
     "output_type": "execute_result"
    }
   ],
   "source": [
    "df_raw.drop(['PLATE_NO', 'ROLLING_DATE'], axis = 1, inplace=True)\n",
    "df_raw.head()"
   ]
  },
  {
   "cell_type": "markdown",
   "metadata": {},
   "source": [
    "## 결측치 확인 및 처리"
   ]
  },
  {
   "cell_type": "code",
   "execution_count": 389,
   "metadata": {},
   "outputs": [
    {
     "data": {
      "text/plain": [
       "SCALE                0\n",
       "SPEC                 0\n",
       "STEEL_KIND           0\n",
       "PT_THK               0\n",
       "PT_WDTH              0\n",
       "PT_LTH               0\n",
       "PT_WGT               0\n",
       "FUR_NO               0\n",
       "FUR_NO_ROW           0\n",
       "FUR_HZ_TEMP          0\n",
       "FUR_HZ_TIME          0\n",
       "FUR_SZ_TEMP          0\n",
       "FUR_SZ_TIME          0\n",
       "FUR_TIME             0\n",
       "FUR_EXTEMP           0\n",
       "ROLLING_TEMP_T5      0\n",
       "HSB                  0\n",
       "ROLLING_DESCALING    0\n",
       "WORK_GR              0\n",
       "dtype: int64"
      ]
     },
     "execution_count": 389,
     "metadata": {},
     "output_type": "execute_result"
    }
   ],
   "source": [
    "df_raw.isnull().sum()"
   ]
  },
  {
   "cell_type": "markdown",
   "metadata": {},
   "source": [
    "## => 결측치가 존재하지 않는다."
   ]
  },
  {
   "cell_type": "markdown",
   "metadata": {},
   "source": [
    "- STEEL_KIND 변수의 범주를 보았을 때, T와 C로 나뉘고 뒤에 숫자만 바뀐다는 것을 unique()함수를 통해 확인할 수 있었다.\n",
    "\n",
    "- 분석을 용이하게 하기 위해서 STEEL_KIND 를 'T'와 'C' 두 범주로 나눠지도록 수정한다."
   ]
  },
  {
   "cell_type": "code",
   "execution_count": 390,
   "metadata": {},
   "outputs": [
    {
     "data": {
      "text/plain": [
       "array(['T1', 'T8', 'T0', 'T5', 'C0', 'C3', 'C1', 'T7', 'T3'], dtype=object)"
      ]
     },
     "execution_count": 390,
     "metadata": {},
     "output_type": "execute_result"
    }
   ],
   "source": [
    "df_raw[\"STEEL_KIND\"].unique()"
   ]
  },
  {
   "cell_type": "code",
   "execution_count": 391,
   "metadata": {
    "scrolled": true
   },
   "outputs": [
    {
     "data": {
      "text/html": [
       "<div>\n",
       "<style scoped>\n",
       "    .dataframe tbody tr th:only-of-type {\n",
       "        vertical-align: middle;\n",
       "    }\n",
       "\n",
       "    .dataframe tbody tr th {\n",
       "        vertical-align: top;\n",
       "    }\n",
       "\n",
       "    .dataframe thead th {\n",
       "        text-align: right;\n",
       "    }\n",
       "</style>\n",
       "<table border=\"1\" class=\"dataframe\">\n",
       "  <thead>\n",
       "    <tr style=\"text-align: right;\">\n",
       "      <th></th>\n",
       "      <th>SCALE</th>\n",
       "      <th>SPEC</th>\n",
       "      <th>STEEL_KIND</th>\n",
       "      <th>PT_THK</th>\n",
       "      <th>PT_WDTH</th>\n",
       "      <th>PT_LTH</th>\n",
       "      <th>PT_WGT</th>\n",
       "      <th>FUR_NO</th>\n",
       "      <th>FUR_NO_ROW</th>\n",
       "      <th>FUR_HZ_TEMP</th>\n",
       "      <th>FUR_HZ_TIME</th>\n",
       "      <th>FUR_SZ_TEMP</th>\n",
       "      <th>FUR_SZ_TIME</th>\n",
       "      <th>FUR_TIME</th>\n",
       "      <th>FUR_EXTEMP</th>\n",
       "      <th>ROLLING_TEMP_T5</th>\n",
       "      <th>HSB</th>\n",
       "      <th>ROLLING_DESCALING</th>\n",
       "      <th>WORK_GR</th>\n",
       "    </tr>\n",
       "  </thead>\n",
       "  <tbody>\n",
       "    <tr>\n",
       "      <th>0</th>\n",
       "      <td>양품</td>\n",
       "      <td>AB/EH32-TM</td>\n",
       "      <td>T</td>\n",
       "      <td>32.25</td>\n",
       "      <td>3707</td>\n",
       "      <td>15109</td>\n",
       "      <td>14180</td>\n",
       "      <td>1호기</td>\n",
       "      <td>1</td>\n",
       "      <td>1144</td>\n",
       "      <td>116</td>\n",
       "      <td>1133</td>\n",
       "      <td>59</td>\n",
       "      <td>282</td>\n",
       "      <td>1125</td>\n",
       "      <td>934</td>\n",
       "      <td>적용</td>\n",
       "      <td>8</td>\n",
       "      <td>2조</td>\n",
       "    </tr>\n",
       "    <tr>\n",
       "      <th>1</th>\n",
       "      <td>양품</td>\n",
       "      <td>AB/EH32-TM</td>\n",
       "      <td>T</td>\n",
       "      <td>32.25</td>\n",
       "      <td>3707</td>\n",
       "      <td>15109</td>\n",
       "      <td>14180</td>\n",
       "      <td>1호기</td>\n",
       "      <td>2</td>\n",
       "      <td>1144</td>\n",
       "      <td>122</td>\n",
       "      <td>1135</td>\n",
       "      <td>53</td>\n",
       "      <td>283</td>\n",
       "      <td>1120</td>\n",
       "      <td>937</td>\n",
       "      <td>적용</td>\n",
       "      <td>8</td>\n",
       "      <td>2조</td>\n",
       "    </tr>\n",
       "    <tr>\n",
       "      <th>2</th>\n",
       "      <td>양품</td>\n",
       "      <td>NV-E36-TM</td>\n",
       "      <td>T</td>\n",
       "      <td>33.27</td>\n",
       "      <td>3619</td>\n",
       "      <td>19181</td>\n",
       "      <td>18130</td>\n",
       "      <td>2호기</td>\n",
       "      <td>1</td>\n",
       "      <td>1129</td>\n",
       "      <td>116</td>\n",
       "      <td>1121</td>\n",
       "      <td>55</td>\n",
       "      <td>282</td>\n",
       "      <td>1106</td>\n",
       "      <td>889</td>\n",
       "      <td>적용</td>\n",
       "      <td>8</td>\n",
       "      <td>3조</td>\n",
       "    </tr>\n",
       "    <tr>\n",
       "      <th>3</th>\n",
       "      <td>양품</td>\n",
       "      <td>NV-E36-TM</td>\n",
       "      <td>T</td>\n",
       "      <td>33.27</td>\n",
       "      <td>3619</td>\n",
       "      <td>19181</td>\n",
       "      <td>18130</td>\n",
       "      <td>2호기</td>\n",
       "      <td>2</td>\n",
       "      <td>1152</td>\n",
       "      <td>125</td>\n",
       "      <td>1127</td>\n",
       "      <td>68</td>\n",
       "      <td>316</td>\n",
       "      <td>1113</td>\n",
       "      <td>885</td>\n",
       "      <td>적용</td>\n",
       "      <td>8</td>\n",
       "      <td>3조</td>\n",
       "    </tr>\n",
       "    <tr>\n",
       "      <th>4</th>\n",
       "      <td>양품</td>\n",
       "      <td>BV-EH36-TM</td>\n",
       "      <td>T</td>\n",
       "      <td>38.33</td>\n",
       "      <td>3098</td>\n",
       "      <td>13334</td>\n",
       "      <td>12430</td>\n",
       "      <td>3호기</td>\n",
       "      <td>1</td>\n",
       "      <td>1140</td>\n",
       "      <td>134</td>\n",
       "      <td>1128</td>\n",
       "      <td>48</td>\n",
       "      <td>314</td>\n",
       "      <td>1118</td>\n",
       "      <td>873</td>\n",
       "      <td>적용</td>\n",
       "      <td>8</td>\n",
       "      <td>1조</td>\n",
       "    </tr>\n",
       "  </tbody>\n",
       "</table>\n",
       "</div>"
      ],
      "text/plain": [
       "  SCALE        SPEC STEEL_KIND  PT_THK  PT_WDTH  PT_LTH  PT_WGT FUR_NO  \\\n",
       "0    양품  AB/EH32-TM          T   32.25     3707   15109   14180    1호기   \n",
       "1    양품  AB/EH32-TM          T   32.25     3707   15109   14180    1호기   \n",
       "2    양품   NV-E36-TM          T   33.27     3619   19181   18130    2호기   \n",
       "3    양품   NV-E36-TM          T   33.27     3619   19181   18130    2호기   \n",
       "4    양품  BV-EH36-TM          T   38.33     3098   13334   12430    3호기   \n",
       "\n",
       "   FUR_NO_ROW  FUR_HZ_TEMP  FUR_HZ_TIME  FUR_SZ_TEMP  FUR_SZ_TIME  FUR_TIME  \\\n",
       "0           1         1144          116         1133           59       282   \n",
       "1           2         1144          122         1135           53       283   \n",
       "2           1         1129          116         1121           55       282   \n",
       "3           2         1152          125         1127           68       316   \n",
       "4           1         1140          134         1128           48       314   \n",
       "\n",
       "   FUR_EXTEMP  ROLLING_TEMP_T5 HSB  ROLLING_DESCALING WORK_GR  \n",
       "0        1125              934  적용                  8      2조  \n",
       "1        1120              937  적용                  8      2조  \n",
       "2        1106              889  적용                  8      3조  \n",
       "3        1113              885  적용                  8      3조  \n",
       "4        1118              873  적용                  8      1조  "
      ]
     },
     "execution_count": 391,
     "metadata": {},
     "output_type": "execute_result"
    }
   ],
   "source": [
    "df_raw[\"STEEL_KIND\"] = df_raw[\"STEEL_KIND\"].str[:1]\n",
    "df_raw.head()"
   ]
  },
  {
   "cell_type": "markdown",
   "metadata": {},
   "source": [
    "## 이상치 확인 및 제거"
   ]
  },
  {
   "cell_type": "code",
   "execution_count": 392,
   "metadata": {},
   "outputs": [
    {
     "data": {
      "text/plain": [
       "<AxesSubplot:>"
      ]
     },
     "execution_count": 392,
     "metadata": {},
     "output_type": "execute_result"
    },
    {
     "data": {
      "image/png": "[encoded data removed]",
      "text/plain": [
       "<Figure size 2160x720 with 1 Axes>"
      ]
     },
     "metadata": {
      "needs_background": "light"
     },
     "output_type": "display_data"
    }
   ],
   "source": [
    "df_raw.boxplot(figsize = (30, 10))"
   ]
  },
  {
   "cell_type": "markdown",
   "metadata": {},
   "source": [
    "## ROLLING_TEMP_T5 변수 값이 0이 나오는 이상치 발견"
   ]
  },
  {
   "cell_type": "code",
   "execution_count": 393,
   "metadata": {
    "scrolled": true
   },
   "outputs": [
    {
     "data": {
      "text/html": [
       "<div>\n",
       "<style scoped>\n",
       "    .dataframe tbody tr th:only-of-type {\n",
       "        vertical-align: middle;\n",
       "    }\n",
       "\n",
       "    .dataframe tbody tr th {\n",
       "        vertical-align: top;\n",
       "    }\n",
       "\n",
       "    .dataframe thead th {\n",
       "        text-align: right;\n",
       "    }\n",
       "</style>\n",
       "<table border=\"1\" class=\"dataframe\">\n",
       "  <thead>\n",
       "    <tr style=\"text-align: right;\">\n",
       "      <th></th>\n",
       "      <th>SCALE</th>\n",
       "      <th>SPEC</th>\n",
       "      <th>STEEL_KIND</th>\n",
       "      <th>PT_THK</th>\n",
       "      <th>PT_WDTH</th>\n",
       "      <th>PT_LTH</th>\n",
       "      <th>PT_WGT</th>\n",
       "      <th>FUR_NO</th>\n",
       "      <th>FUR_NO_ROW</th>\n",
       "      <th>FUR_HZ_TEMP</th>\n",
       "      <th>FUR_HZ_TIME</th>\n",
       "      <th>FUR_SZ_TEMP</th>\n",
       "      <th>FUR_SZ_TIME</th>\n",
       "      <th>FUR_TIME</th>\n",
       "      <th>FUR_EXTEMP</th>\n",
       "      <th>ROLLING_TEMP_T5</th>\n",
       "      <th>HSB</th>\n",
       "      <th>ROLLING_DESCALING</th>\n",
       "      <th>WORK_GR</th>\n",
       "    </tr>\n",
       "  </thead>\n",
       "  <tbody>\n",
       "    <tr>\n",
       "      <th>41</th>\n",
       "      <td>양품</td>\n",
       "      <td>GL-E36-TM</td>\n",
       "      <td>T</td>\n",
       "      <td>55.51</td>\n",
       "      <td>3765</td>\n",
       "      <td>11398</td>\n",
       "      <td>37400</td>\n",
       "      <td>3호기</td>\n",
       "      <td>2</td>\n",
       "      <td>1132</td>\n",
       "      <td>95</td>\n",
       "      <td>1128</td>\n",
       "      <td>80</td>\n",
       "      <td>341</td>\n",
       "      <td>1123</td>\n",
       "      <td>0</td>\n",
       "      <td>적용</td>\n",
       "      <td>6</td>\n",
       "      <td>1조</td>\n",
       "    </tr>\n",
       "    <tr>\n",
       "      <th>184</th>\n",
       "      <td>양품</td>\n",
       "      <td>JS-SM490YB</td>\n",
       "      <td>C</td>\n",
       "      <td>16.09</td>\n",
       "      <td>2221</td>\n",
       "      <td>43596</td>\n",
       "      <td>61150</td>\n",
       "      <td>3호기</td>\n",
       "      <td>1</td>\n",
       "      <td>1169</td>\n",
       "      <td>64</td>\n",
       "      <td>1164</td>\n",
       "      <td>61</td>\n",
       "      <td>308</td>\n",
       "      <td>1155</td>\n",
       "      <td>0</td>\n",
       "      <td>적용</td>\n",
       "      <td>10</td>\n",
       "      <td>3조</td>\n",
       "    </tr>\n",
       "    <tr>\n",
       "      <th>185</th>\n",
       "      <td>양품</td>\n",
       "      <td>JS-SM490YB</td>\n",
       "      <td>C</td>\n",
       "      <td>16.09</td>\n",
       "      <td>2221</td>\n",
       "      <td>43596</td>\n",
       "      <td>61150</td>\n",
       "      <td>3호기</td>\n",
       "      <td>2</td>\n",
       "      <td>1163</td>\n",
       "      <td>57</td>\n",
       "      <td>1166</td>\n",
       "      <td>67</td>\n",
       "      <td>303</td>\n",
       "      <td>1158</td>\n",
       "      <td>0</td>\n",
       "      <td>적용</td>\n",
       "      <td>10</td>\n",
       "      <td>4조</td>\n",
       "    </tr>\n",
       "    <tr>\n",
       "      <th>494</th>\n",
       "      <td>양품</td>\n",
       "      <td>PILAC-BT33</td>\n",
       "      <td>T</td>\n",
       "      <td>80.82</td>\n",
       "      <td>2085</td>\n",
       "      <td>12919</td>\n",
       "      <td>17090</td>\n",
       "      <td>2호기</td>\n",
       "      <td>1</td>\n",
       "      <td>1133</td>\n",
       "      <td>89</td>\n",
       "      <td>1122</td>\n",
       "      <td>59</td>\n",
       "      <td>378</td>\n",
       "      <td>1112</td>\n",
       "      <td>0</td>\n",
       "      <td>적용</td>\n",
       "      <td>6</td>\n",
       "      <td>2조</td>\n",
       "    </tr>\n",
       "    <tr>\n",
       "      <th>495</th>\n",
       "      <td>양품</td>\n",
       "      <td>PILAC-BT33</td>\n",
       "      <td>T</td>\n",
       "      <td>80.82</td>\n",
       "      <td>2085</td>\n",
       "      <td>13176</td>\n",
       "      <td>17430</td>\n",
       "      <td>1호기</td>\n",
       "      <td>2</td>\n",
       "      <td>1130</td>\n",
       "      <td>92</td>\n",
       "      <td>1124</td>\n",
       "      <td>61</td>\n",
       "      <td>362</td>\n",
       "      <td>1116</td>\n",
       "      <td>0</td>\n",
       "      <td>적용</td>\n",
       "      <td>6</td>\n",
       "      <td>3조</td>\n",
       "    </tr>\n",
       "    <tr>\n",
       "      <th>496</th>\n",
       "      <td>양품</td>\n",
       "      <td>NV-D32-TM</td>\n",
       "      <td>T</td>\n",
       "      <td>40.35</td>\n",
       "      <td>2497</td>\n",
       "      <td>23592</td>\n",
       "      <td>37320</td>\n",
       "      <td>3호기</td>\n",
       "      <td>1</td>\n",
       "      <td>1119</td>\n",
       "      <td>109</td>\n",
       "      <td>1117</td>\n",
       "      <td>76</td>\n",
       "      <td>383</td>\n",
       "      <td>1107</td>\n",
       "      <td>0</td>\n",
       "      <td>적용</td>\n",
       "      <td>6</td>\n",
       "      <td>3조</td>\n",
       "    </tr>\n",
       "  </tbody>\n",
       "</table>\n",
       "</div>"
      ],
      "text/plain": [
       "    SCALE        SPEC STEEL_KIND  PT_THK  PT_WDTH  PT_LTH  PT_WGT FUR_NO  \\\n",
       "41     양품   GL-E36-TM          T   55.51     3765   11398   37400    3호기   \n",
       "184    양품  JS-SM490YB          C   16.09     2221   43596   61150    3호기   \n",
       "185    양품  JS-SM490YB          C   16.09     2221   43596   61150    3호기   \n",
       "494    양품  PILAC-BT33          T   80.82     2085   12919   17090    2호기   \n",
       "495    양품  PILAC-BT33          T   80.82     2085   13176   17430    1호기   \n",
       "496    양품   NV-D32-TM          T   40.35     2497   23592   37320    3호기   \n",
       "\n",
       "     FUR_NO_ROW  FUR_HZ_TEMP  FUR_HZ_TIME  FUR_SZ_TEMP  FUR_SZ_TIME  FUR_TIME  \\\n",
       "41            2         1132           95         1128           80       341   \n",
       "184           1         1169           64         1164           61       308   \n",
       "185           2         1163           57         1166           67       303   \n",
       "494           1         1133           89         1122           59       378   \n",
       "495           2         1130           92         1124           61       362   \n",
       "496           1         1119          109         1117           76       383   \n",
       "\n",
       "     FUR_EXTEMP  ROLLING_TEMP_T5 HSB  ROLLING_DESCALING WORK_GR  \n",
       "41         1123                0  적용                  6      1조  \n",
       "184        1155                0  적용                 10      3조  \n",
       "185        1158                0  적용                 10      4조  \n",
       "494        1112                0  적용                  6      2조  \n",
       "495        1116                0  적용                  6      3조  \n",
       "496        1107                0  적용                  6      3조  "
      ]
     },
     "execution_count": 393,
     "metadata": {},
     "output_type": "execute_result"
    }
   ],
   "source": [
    "df_raw[df_raw[\"ROLLING_TEMP_T5\"] == 0]"
   ]
  },
  {
   "cell_type": "code",
   "execution_count": 394,
   "metadata": {
    "scrolled": true
   },
   "outputs": [
    {
     "data": {
      "text/html": [
       "<div>\n",
       "<style scoped>\n",
       "    .dataframe tbody tr th:only-of-type {\n",
       "        vertical-align: middle;\n",
       "    }\n",
       "\n",
       "    .dataframe tbody tr th {\n",
       "        vertical-align: top;\n",
       "    }\n",
       "\n",
       "    .dataframe thead th {\n",
       "        text-align: right;\n",
       "    }\n",
       "</style>\n",
       "<table border=\"1\" class=\"dataframe\">\n",
       "  <thead>\n",
       "    <tr style=\"text-align: right;\">\n",
       "      <th></th>\n",
       "      <th>SCALE</th>\n",
       "      <th>SPEC</th>\n",
       "      <th>STEEL_KIND</th>\n",
       "      <th>PT_THK</th>\n",
       "      <th>PT_WDTH</th>\n",
       "      <th>PT_LTH</th>\n",
       "      <th>PT_WGT</th>\n",
       "      <th>FUR_NO</th>\n",
       "      <th>FUR_NO_ROW</th>\n",
       "      <th>FUR_HZ_TEMP</th>\n",
       "      <th>FUR_HZ_TIME</th>\n",
       "      <th>FUR_SZ_TEMP</th>\n",
       "      <th>FUR_SZ_TIME</th>\n",
       "      <th>FUR_TIME</th>\n",
       "      <th>FUR_EXTEMP</th>\n",
       "      <th>ROLLING_TEMP_T5</th>\n",
       "      <th>HSB</th>\n",
       "      <th>ROLLING_DESCALING</th>\n",
       "      <th>WORK_GR</th>\n",
       "    </tr>\n",
       "  </thead>\n",
       "  <tbody>\n",
       "  </tbody>\n",
       "</table>\n",
       "</div>"
      ],
      "text/plain": [
       "Empty DataFrame\n",
       "Columns: [SCALE, SPEC, STEEL_KIND, PT_THK, PT_WDTH, PT_LTH, PT_WGT, FUR_NO, FUR_NO_ROW, FUR_HZ_TEMP, FUR_HZ_TIME, FUR_SZ_TEMP, FUR_SZ_TIME, FUR_TIME, FUR_EXTEMP, ROLLING_TEMP_T5, HSB, ROLLING_DESCALING, WORK_GR]\n",
       "Index: []"
      ]
     },
     "execution_count": 394,
     "metadata": {},
     "output_type": "execute_result"
    }
   ],
   "source": [
    "df_raw.drop(df_raw[df_raw[\"ROLLING_TEMP_T5\"] == 0].index, inplace = True)\n",
    "df_raw[df_raw[\"ROLLING_TEMP_T5\"] == 0]"
   ]
  },
  {
   "cell_type": "code",
   "execution_count": 395,
   "metadata": {},
   "outputs": [
    {
     "name": "stdout",
     "output_type": "stream",
     "text": [
      "<class 'pandas.core.frame.DataFrame'>\n",
      "Int64Index: 714 entries, 0 to 719\n",
      "Data columns (total 19 columns):\n",
      " #   Column             Non-Null Count  Dtype  \n",
      "---  ------             --------------  -----  \n",
      " 0   SCALE              714 non-null    object \n",
      " 1   SPEC               714 non-null    object \n",
      " 2   STEEL_KIND         714 non-null    object \n",
      " 3   PT_THK             714 non-null    float64\n",
      " 4   PT_WDTH            714 non-null    int64  \n",
      " 5   PT_LTH             714 non-null    int64  \n",
      " 6   PT_WGT             714 non-null    int64  \n",
      " 7   FUR_NO             714 non-null    object \n",
      " 8   FUR_NO_ROW         714 non-null    int64  \n",
      " 9   FUR_HZ_TEMP        714 non-null    int64  \n",
      " 10  FUR_HZ_TIME        714 non-null    int64  \n",
      " 11  FUR_SZ_TEMP        714 non-null    int64  \n",
      " 12  FUR_SZ_TIME        714 non-null    int64  \n",
      " 13  FUR_TIME           714 non-null    int64  \n",
      " 14  FUR_EXTEMP         714 non-null    int64  \n",
      " 15  ROLLING_TEMP_T5    714 non-null    int64  \n",
      " 16  HSB                714 non-null    object \n",
      " 17  ROLLING_DESCALING  714 non-null    int64  \n",
      " 18  WORK_GR            714 non-null    object \n",
      "dtypes: float64(1), int64(12), object(6)\n",
      "memory usage: 111.6+ KB\n"
     ]
    }
   ],
   "source": [
    "df_raw.info()"
   ]
  },
  {
   "cell_type": "markdown",
   "metadata": {},
   "source": [
    "### => 압연온도가 0인 경우는 발생할 수 있는 정상적인 케이스가 아니라고 생각하여 해당 데이터들을 삭제했다."
   ]
  },
  {
   "cell_type": "markdown",
   "metadata": {},
   "source": [
    "- FUR_NO 변수는 가열로 몇 호기에서 생산했는지를 알려준다.\n",
    "- 그러나 가열로 자체가 원인이 되는 것은 다른 외부, 주변요인들의 영향이 클 수 있다고 생각했다.\n",
    "\n",
    "- 만약 FUR_NO가 영향이 큰 설명변수라고 해도 생산량과 관련되어 있는 원인에 대한 개선 방향이나 해결책을 제시하기는 어렵다고 판단하여 FUR_NO 변수를 제거하기로 결정했다."
   ]
  },
  {
   "cell_type": "code",
   "execution_count": 396,
   "metadata": {},
   "outputs": [],
   "source": [
    "def fun_plot_hist(data, var):\n",
    "    plt.hist(data[data[\"SCALE\"] == \"양품\"][var], label = \"양품\", alpha = 0.5)\n",
    "    plt.hist(data[data[\"SCALE\"] == \"불량\"][var], label = \"불량\", alpha = 0.5)\n",
    "    plt.title(var)\n",
    "    plt.legend()"
   ]
  },
  {
   "cell_type": "code",
   "execution_count": 397,
   "metadata": {},
   "outputs": [],
   "source": [
    "def fun_print_crosstab(data, var):\n",
    "    return pd.crosstab(data[\"SCALE\"], data[var], margins = True)"
   ]
  },
  {
   "cell_type": "code",
   "execution_count": 398,
   "metadata": {},
   "outputs": [
    {
     "name": "stderr",
     "output_type": "stream",
     "text": [
      "/Users/Daeho/opt/anaconda3/lib/python3.8/site-packages/matplotlib/backends/backend_agg.py:238: RuntimeWarning: Glyph 50577 missing from current font.\n",
      "  font.set_text(s, 0.0, flags=flags)\n",
      "/Users/Daeho/opt/anaconda3/lib/python3.8/site-packages/matplotlib/backends/backend_agg.py:238: RuntimeWarning: Glyph 54408 missing from current font.\n",
      "  font.set_text(s, 0.0, flags=flags)\n",
      "/Users/Daeho/opt/anaconda3/lib/python3.8/site-packages/matplotlib/backends/backend_agg.py:238: RuntimeWarning: Glyph 48520 missing from current font.\n",
      "  font.set_text(s, 0.0, flags=flags)\n",
      "/Users/Daeho/opt/anaconda3/lib/python3.8/site-packages/matplotlib/backends/backend_agg.py:238: RuntimeWarning: Glyph 47049 missing from current font.\n",
      "  font.set_text(s, 0.0, flags=flags)\n",
      "/Users/Daeho/opt/anaconda3/lib/python3.8/site-packages/matplotlib/backends/backend_agg.py:201: RuntimeWarning: Glyph 50577 missing from current font.\n",
      "  font.set_text(s, 0, flags=flags)\n",
      "/Users/Daeho/opt/anaconda3/lib/python3.8/site-packages/matplotlib/backends/backend_agg.py:201: RuntimeWarning: Glyph 54408 missing from current font.\n",
      "  font.set_text(s, 0, flags=flags)\n",
      "/Users/Daeho/opt/anaconda3/lib/python3.8/site-packages/matplotlib/backends/backend_agg.py:201: RuntimeWarning: Glyph 48520 missing from current font.\n",
      "  font.set_text(s, 0, flags=flags)\n",
      "/Users/Daeho/opt/anaconda3/lib/python3.8/site-packages/matplotlib/backends/backend_agg.py:201: RuntimeWarning: Glyph 47049 missing from current font.\n",
      "  font.set_text(s, 0, flags=flags)\n"
     ]
    },
    {
     "data": {
      "image/png": "[encoded data removed]",
      "text/plain": [
       "<Figure size 432x288 with 4 Axes>"
      ]
     },
     "metadata": {
      "needs_background": "light"
     },
     "output_type": "display_data"
    }
   ],
   "source": [
    "plt.subplot(2, 2, 1)\n",
    "fun_plot_hist(df_raw, \"PT_THK\")\n",
    "plt.subplot(2, 2, 2)\n",
    "fun_plot_hist(df_raw, \"PT_WDTH\")\n",
    "plt.subplot(2, 2, 3)\n",
    "fun_plot_hist(df_raw, \"PT_LTH\")\n",
    "plt.subplot(2, 2, 4)\n",
    "fun_plot_hist(df_raw, \"PT_WGT\")\n",
    "\n",
    "plt.tight_layout()"
   ]
  },
  {
   "cell_type": "markdown",
   "metadata": {},
   "source": [
    "### Plate 두께"
   ]
  },
  {
   "cell_type": "code",
   "execution_count": 399,
   "metadata": {},
   "outputs": [
    {
     "data": {
      "image/png": "[encoded data removed]",
      "text/plain": [
       "<Figure size 432x288 with 1 Axes>"
      ]
     },
     "metadata": {
      "needs_background": "light"
     },
     "output_type": "display_data"
    }
   ],
   "source": [
    "fun_plot_hist(df_raw, \"PT_THK\")"
   ]
  },
  {
   "cell_type": "markdown",
   "metadata": {},
   "source": [
    "### Plate 폭"
   ]
  },
  {
   "cell_type": "code",
   "execution_count": 400,
   "metadata": {},
   "outputs": [
    {
     "data": {
      "image/png": "[encoded data removed]",
      "text/plain": [
       "<Figure size 432x288 with 1 Axes>"
      ]
     },
     "metadata": {
      "needs_background": "light"
     },
     "output_type": "display_data"
    }
   ],
   "source": [
    "fun_plot_hist(df_raw, \"PT_WDTH\")"
   ]
  },
  {
   "cell_type": "markdown",
   "metadata": {},
   "source": [
    "### Plate 길이"
   ]
  },
  {
   "cell_type": "code",
   "execution_count": 401,
   "metadata": {
    "scrolled": true
   },
   "outputs": [
    {
     "data": {
      "image/png": "[encoded data removed]",
      "text/plain": [
       "<Figure size 432x288 with 1 Axes>"
      ]
     },
     "metadata": {
      "needs_background": "light"
     },
     "output_type": "display_data"
    }
   ],
   "source": [
    "fun_plot_hist(df_raw, \"PT_LTH\")"
   ]
  },
  {
   "cell_type": "markdown",
   "metadata": {},
   "source": [
    "### Plate 중량"
   ]
  },
  {
   "cell_type": "code",
   "execution_count": 402,
   "metadata": {},
   "outputs": [
    {
     "data": {
      "image/png": "[encoded data removed]",
      "text/plain": [
       "<Figure size 432x288 with 1 Axes>"
      ]
     },
     "metadata": {
      "needs_background": "light"
     },
     "output_type": "display_data"
    }
   ],
   "source": [
    "fun_plot_hist(df_raw, \"PT_WGT\")"
   ]
  },
  {
   "cell_type": "code",
   "execution_count": 403,
   "metadata": {},
   "outputs": [
    {
     "data": {
      "image/png": "[encoded data removed]",
      "text/plain": [
       "<Figure size 432x288 with 6 Axes>"
      ]
     },
     "metadata": {
      "needs_background": "light"
     },
     "output_type": "display_data"
    }
   ],
   "source": [
    "plt.subplot(2, 3, 1)\n",
    "fun_plot_hist(df_raw, \"FUR_NO_ROW\")\n",
    "plt.subplot(2, 3, 2)\n",
    "fun_plot_hist(df_raw, \"FUR_HZ_TEMP\")\n",
    "plt.subplot(2, 3, 3)\n",
    "fun_plot_hist(df_raw, \"FUR_HZ_TIME\")\n",
    "plt.subplot(2, 3, 4)\n",
    "fun_plot_hist(df_raw, \"FUR_SZ_TIME\")\n",
    "plt.subplot(2, 3, 5)\n",
    "fun_plot_hist(df_raw, \"FUR_TIME\")\n",
    "plt.subplot(2, 3, 6)\n",
    "fun_plot_hist(df_raw, \"ROLLING_TEMP_T5\")\n",
    "\n",
    "plt.tight_layout()"
   ]
  },
  {
   "cell_type": "markdown",
   "metadata": {},
   "source": [
    "### 가열로 작업순번"
   ]
  },
  {
   "cell_type": "code",
   "execution_count": 404,
   "metadata": {},
   "outputs": [
    {
     "data": {
      "text/html": [
       "<div>\n",
       "<style scoped>\n",
       "    .dataframe tbody tr th:only-of-type {\n",
       "        vertical-align: middle;\n",
       "    }\n",
       "\n",
       "    .dataframe tbody tr th {\n",
       "        vertical-align: top;\n",
       "    }\n",
       "\n",
       "    .dataframe thead th {\n",
       "        text-align: right;\n",
       "    }\n",
       "</style>\n",
       "<table border=\"1\" class=\"dataframe\">\n",
       "  <thead>\n",
       "    <tr style=\"text-align: right;\">\n",
       "      <th>FUR_NO_ROW</th>\n",
       "      <th>1</th>\n",
       "      <th>2</th>\n",
       "      <th>All</th>\n",
       "    </tr>\n",
       "    <tr>\n",
       "      <th>SCALE</th>\n",
       "      <th></th>\n",
       "      <th></th>\n",
       "      <th></th>\n",
       "    </tr>\n",
       "  </thead>\n",
       "  <tbody>\n",
       "    <tr>\n",
       "      <th>불량</th>\n",
       "      <td>120</td>\n",
       "      <td>111</td>\n",
       "      <td>231</td>\n",
       "    </tr>\n",
       "    <tr>\n",
       "      <th>양품</th>\n",
       "      <td>239</td>\n",
       "      <td>244</td>\n",
       "      <td>483</td>\n",
       "    </tr>\n",
       "    <tr>\n",
       "      <th>All</th>\n",
       "      <td>359</td>\n",
       "      <td>355</td>\n",
       "      <td>714</td>\n",
       "    </tr>\n",
       "  </tbody>\n",
       "</table>\n",
       "</div>"
      ],
      "text/plain": [
       "FUR_NO_ROW    1    2  All\n",
       "SCALE                    \n",
       "불량          120  111  231\n",
       "양품          239  244  483\n",
       "All         359  355  714"
      ]
     },
     "execution_count": 404,
     "metadata": {},
     "output_type": "execute_result"
    }
   ],
   "source": [
    "fun_print_crosstab(df_raw, \"FUR_NO_ROW\")"
   ]
  },
  {
   "cell_type": "markdown",
   "metadata": {},
   "source": [
    "### 가열로 가열대 온도"
   ]
  },
  {
   "cell_type": "code",
   "execution_count": 405,
   "metadata": {},
   "outputs": [
    {
     "name": "stderr",
     "output_type": "stream",
     "text": [
      "/Users/Daeho/opt/anaconda3/lib/python3.8/site-packages/matplotlib/backends/backend_agg.py:238: RuntimeWarning: Glyph 50577 missing from current font.\n",
      "  font.set_text(s, 0.0, flags=flags)\n",
      "/Users/Daeho/opt/anaconda3/lib/python3.8/site-packages/matplotlib/backends/backend_agg.py:238: RuntimeWarning: Glyph 54408 missing from current font.\n",
      "  font.set_text(s, 0.0, flags=flags)\n",
      "/Users/Daeho/opt/anaconda3/lib/python3.8/site-packages/matplotlib/backends/backend_agg.py:238: RuntimeWarning: Glyph 48520 missing from current font.\n",
      "  font.set_text(s, 0.0, flags=flags)\n",
      "/Users/Daeho/opt/anaconda3/lib/python3.8/site-packages/matplotlib/backends/backend_agg.py:238: RuntimeWarning: Glyph 47049 missing from current font.\n",
      "  font.set_text(s, 0.0, flags=flags)\n",
      "/Users/Daeho/opt/anaconda3/lib/python3.8/site-packages/matplotlib/backends/backend_agg.py:201: RuntimeWarning: Glyph 50577 missing from current font.\n",
      "  font.set_text(s, 0, flags=flags)\n",
      "/Users/Daeho/opt/anaconda3/lib/python3.8/site-packages/matplotlib/backends/backend_agg.py:201: RuntimeWarning: Glyph 54408 missing from current font.\n",
      "  font.set_text(s, 0, flags=flags)\n",
      "/Users/Daeho/opt/anaconda3/lib/python3.8/site-packages/matplotlib/backends/backend_agg.py:201: RuntimeWarning: Glyph 48520 missing from current font.\n",
      "  font.set_text(s, 0, flags=flags)\n",
      "/Users/Daeho/opt/anaconda3/lib/python3.8/site-packages/matplotlib/backends/backend_agg.py:201: RuntimeWarning: Glyph 47049 missing from current font.\n",
      "  font.set_text(s, 0, flags=flags)\n"
     ]
    },
    {
     "data": {
      "image/png": "[encoded data removed]",
      "text/plain": [
       "<Figure size 432x288 with 1 Axes>"
      ]
     },
     "metadata": {
      "needs_background": "light"
     },
     "output_type": "display_data"
    }
   ],
   "source": [
    "fun_plot_hist(df_raw, \"FUR_HZ_TEMP\")"
   ]
  },
  {
   "cell_type": "markdown",
   "metadata": {},
   "source": [
    "### 가열로 가열대 시간"
   ]
  },
  {
   "cell_type": "code",
   "execution_count": 406,
   "metadata": {},
   "outputs": [
    {
     "data": {
      "image/png": "[encoded data removed]",
      "text/plain": [
       "<Figure size 432x288 with 1 Axes>"
      ]
     },
     "metadata": {
      "needs_background": "light"
     },
     "output_type": "display_data"
    }
   ],
   "source": [
    "fun_plot_hist(df_raw, \"FUR_HZ_TIME\")"
   ]
  },
  {
   "cell_type": "markdown",
   "metadata": {},
   "source": [
    "### 가열로 균열대 온도"
   ]
  },
  {
   "cell_type": "code",
   "execution_count": 407,
   "metadata": {},
   "outputs": [
    {
     "data": {
      "image/png": "[encoded data removed]",
      "text/plain": [
       "<Figure size 432x288 with 1 Axes>"
      ]
     },
     "metadata": {
      "needs_background": "light"
     },
     "output_type": "display_data"
    }
   ],
   "source": [
    "fun_plot_hist(df_raw, \"FUR_SZ_TEMP\")"
   ]
  },
  {
   "cell_type": "markdown",
   "metadata": {},
   "source": [
    "### 가열로 균열대 시간"
   ]
  },
  {
   "cell_type": "code",
   "execution_count": 408,
   "metadata": {},
   "outputs": [
    {
     "data": {
      "image/png": "[encoded data removed]",
      "text/plain": [
       "<Figure size 432x288 with 1 Axes>"
      ]
     },
     "metadata": {
      "needs_background": "light"
     },
     "output_type": "display_data"
    }
   ],
   "source": [
    "fun_plot_hist(df_raw, \"FUR_SZ_TIME\")"
   ]
  },
  {
   "cell_type": "markdown",
   "metadata": {},
   "source": [
    "### 가열로 시간"
   ]
  },
  {
   "cell_type": "code",
   "execution_count": 409,
   "metadata": {},
   "outputs": [
    {
     "data": {
      "image/png": "[encoded data removed]",
      "text/plain": [
       "<Figure size 432x288 with 1 Axes>"
      ]
     },
     "metadata": {
      "needs_background": "light"
     },
     "output_type": "display_data"
    }
   ],
   "source": [
    "fun_plot_hist(df_raw, \"FUR_TIME\")"
   ]
  },
  {
   "cell_type": "markdown",
   "metadata": {},
   "source": [
    "### 추출온도"
   ]
  },
  {
   "cell_type": "code",
   "execution_count": 412,
   "metadata": {},
   "outputs": [
    {
     "data": {
      "image/png": "[encoded data removed]",
      "text/plain": [
       "<Figure size 432x288 with 1 Axes>"
      ]
     },
     "metadata": {
      "needs_background": "light"
     },
     "output_type": "display_data"
    }
   ],
   "source": [
    "fun_plot_hist(df_raw, \"FUR_EXTEMP\")"
   ]
  },
  {
   "cell_type": "markdown",
   "metadata": {},
   "source": [
    "### 압연온도"
   ]
  },
  {
   "cell_type": "code",
   "execution_count": 413,
   "metadata": {},
   "outputs": [
    {
     "data": {
      "image/png": "[encoded data removed]",
      "text/plain": [
       "<Figure size 432x288 with 1 Axes>"
      ]
     },
     "metadata": {
      "needs_background": "light"
     },
     "output_type": "display_data"
    }
   ],
   "source": [
    "fun_plot_hist(df_raw, \"ROLLING_TEMP_T5\")"
   ]
  },
  {
   "cell_type": "markdown",
   "metadata": {},
   "source": [
    "### 작업조"
   ]
  },
  {
   "cell_type": "code",
   "execution_count": 414,
   "metadata": {},
   "outputs": [
    {
     "data": {
      "text/html": [
       "<div>\n",
       "<style scoped>\n",
       "    .dataframe tbody tr th:only-of-type {\n",
       "        vertical-align: middle;\n",
       "    }\n",
       "\n",
       "    .dataframe tbody tr th {\n",
       "        vertical-align: top;\n",
       "    }\n",
       "\n",
       "    .dataframe thead th {\n",
       "        text-align: right;\n",
       "    }\n",
       "</style>\n",
       "<table border=\"1\" class=\"dataframe\">\n",
       "  <thead>\n",
       "    <tr style=\"text-align: right;\">\n",
       "      <th>WORK_GR</th>\n",
       "      <th>1조</th>\n",
       "      <th>2조</th>\n",
       "      <th>3조</th>\n",
       "      <th>4조</th>\n",
       "      <th>All</th>\n",
       "    </tr>\n",
       "    <tr>\n",
       "      <th>SCALE</th>\n",
       "      <th></th>\n",
       "      <th></th>\n",
       "      <th></th>\n",
       "      <th></th>\n",
       "      <th></th>\n",
       "    </tr>\n",
       "  </thead>\n",
       "  <tbody>\n",
       "    <tr>\n",
       "      <th>불량</th>\n",
       "      <td>67</td>\n",
       "      <td>45</td>\n",
       "      <td>54</td>\n",
       "      <td>65</td>\n",
       "      <td>231</td>\n",
       "    </tr>\n",
       "    <tr>\n",
       "      <th>양품</th>\n",
       "      <td>121</td>\n",
       "      <td>119</td>\n",
       "      <td>115</td>\n",
       "      <td>128</td>\n",
       "      <td>483</td>\n",
       "    </tr>\n",
       "    <tr>\n",
       "      <th>All</th>\n",
       "      <td>188</td>\n",
       "      <td>164</td>\n",
       "      <td>169</td>\n",
       "      <td>193</td>\n",
       "      <td>714</td>\n",
       "    </tr>\n",
       "  </tbody>\n",
       "</table>\n",
       "</div>"
      ],
      "text/plain": [
       "WORK_GR   1조   2조   3조   4조  All\n",
       "SCALE                           \n",
       "불량        67   45   54   65  231\n",
       "양품       121  119  115  128  483\n",
       "All      188  164  169  193  714"
      ]
     },
     "execution_count": 414,
     "metadata": {},
     "output_type": "execute_result"
    }
   ],
   "source": [
    "fun_print_crosstab(df_raw, \"WORK_GR\")"
   ]
  },
  {
   "cell_type": "markdown",
   "metadata": {},
   "source": [
    "### 가열로 작업순번"
   ]
  },
  {
   "cell_type": "code",
   "execution_count": 415,
   "metadata": {},
   "outputs": [
    {
     "data": {
      "text/html": [
       "<div>\n",
       "<style scoped>\n",
       "    .dataframe tbody tr th:only-of-type {\n",
       "        vertical-align: middle;\n",
       "    }\n",
       "\n",
       "    .dataframe tbody tr th {\n",
       "        vertical-align: top;\n",
       "    }\n",
       "\n",
       "    .dataframe thead th {\n",
       "        text-align: right;\n",
       "    }\n",
       "</style>\n",
       "<table border=\"1\" class=\"dataframe\">\n",
       "  <thead>\n",
       "    <tr style=\"text-align: right;\">\n",
       "      <th>FUR_NO_ROW</th>\n",
       "      <th>1</th>\n",
       "      <th>2</th>\n",
       "      <th>All</th>\n",
       "    </tr>\n",
       "    <tr>\n",
       "      <th>SCALE</th>\n",
       "      <th></th>\n",
       "      <th></th>\n",
       "      <th></th>\n",
       "    </tr>\n",
       "  </thead>\n",
       "  <tbody>\n",
       "    <tr>\n",
       "      <th>불량</th>\n",
       "      <td>120</td>\n",
       "      <td>111</td>\n",
       "      <td>231</td>\n",
       "    </tr>\n",
       "    <tr>\n",
       "      <th>양품</th>\n",
       "      <td>239</td>\n",
       "      <td>244</td>\n",
       "      <td>483</td>\n",
       "    </tr>\n",
       "    <tr>\n",
       "      <th>All</th>\n",
       "      <td>359</td>\n",
       "      <td>355</td>\n",
       "      <td>714</td>\n",
       "    </tr>\n",
       "  </tbody>\n",
       "</table>\n",
       "</div>"
      ],
      "text/plain": [
       "FUR_NO_ROW    1    2  All\n",
       "SCALE                    \n",
       "불량          120  111  231\n",
       "양품          239  244  483\n",
       "All         359  355  714"
      ]
     },
     "execution_count": 415,
     "metadata": {},
     "output_type": "execute_result"
    }
   ],
   "source": [
    "fun_print_crosstab(df_raw, \"FUR_NO_ROW\")"
   ]
  },
  {
   "cell_type": "markdown",
   "metadata": {},
   "source": [
    "### HSB 적용"
   ]
  },
  {
   "cell_type": "code",
   "execution_count": 416,
   "metadata": {},
   "outputs": [
    {
     "data": {
      "text/html": [
       "<div>\n",
       "<style scoped>\n",
       "    .dataframe tbody tr th:only-of-type {\n",
       "        vertical-align: middle;\n",
       "    }\n",
       "\n",
       "    .dataframe tbody tr th {\n",
       "        vertical-align: top;\n",
       "    }\n",
       "\n",
       "    .dataframe thead th {\n",
       "        text-align: right;\n",
       "    }\n",
       "</style>\n",
       "<table border=\"1\" class=\"dataframe\">\n",
       "  <thead>\n",
       "    <tr style=\"text-align: right;\">\n",
       "      <th>HSB</th>\n",
       "      <th>미적용</th>\n",
       "      <th>적용</th>\n",
       "      <th>All</th>\n",
       "    </tr>\n",
       "    <tr>\n",
       "      <th>SCALE</th>\n",
       "      <th></th>\n",
       "      <th></th>\n",
       "      <th></th>\n",
       "    </tr>\n",
       "  </thead>\n",
       "  <tbody>\n",
       "    <tr>\n",
       "      <th>불량</th>\n",
       "      <td>33</td>\n",
       "      <td>198</td>\n",
       "      <td>231</td>\n",
       "    </tr>\n",
       "    <tr>\n",
       "      <th>양품</th>\n",
       "      <td>0</td>\n",
       "      <td>483</td>\n",
       "      <td>483</td>\n",
       "    </tr>\n",
       "    <tr>\n",
       "      <th>All</th>\n",
       "      <td>33</td>\n",
       "      <td>681</td>\n",
       "      <td>714</td>\n",
       "    </tr>\n",
       "  </tbody>\n",
       "</table>\n",
       "</div>"
      ],
      "text/plain": [
       "HSB    미적용   적용  All\n",
       "SCALE               \n",
       "불량      33  198  231\n",
       "양품       0  483  483\n",
       "All     33  681  714"
      ]
     },
     "execution_count": 416,
     "metadata": {},
     "output_type": "execute_result"
    }
   ],
   "source": [
    "fun_print_crosstab(df_raw, \"HSB\")"
   ]
  },
  {
   "cell_type": "markdown",
   "metadata": {},
   "source": [
    "### 제품 규격"
   ]
  },
  {
   "cell_type": "code",
   "execution_count": 417,
   "metadata": {},
   "outputs": [
    {
     "data": {
      "text/html": [
       "<div>\n",
       "<style scoped>\n",
       "    .dataframe tbody tr th:only-of-type {\n",
       "        vertical-align: middle;\n",
       "    }\n",
       "\n",
       "    .dataframe tbody tr th {\n",
       "        vertical-align: top;\n",
       "    }\n",
       "\n",
       "    .dataframe thead th {\n",
       "        text-align: right;\n",
       "    }\n",
       "</style>\n",
       "<table border=\"1\" class=\"dataframe\">\n",
       "  <thead>\n",
       "    <tr style=\"text-align: right;\">\n",
       "      <th>SPEC</th>\n",
       "      <th>A131-DH36TM</th>\n",
       "      <th>A283-C</th>\n",
       "      <th>A516-60</th>\n",
       "      <th>A709-36</th>\n",
       "      <th>AB/A</th>\n",
       "      <th>AB/AH32</th>\n",
       "      <th>AB/B</th>\n",
       "      <th>AB/EH32-TM</th>\n",
       "      <th>AB/EH36-TM</th>\n",
       "      <th>API-2W-50T</th>\n",
       "      <th>...</th>\n",
       "      <th>NV-A36-TM</th>\n",
       "      <th>NV-B</th>\n",
       "      <th>NV-D32-TM</th>\n",
       "      <th>NV-D36-TM</th>\n",
       "      <th>NV-E32-TM</th>\n",
       "      <th>NV-E36-TM</th>\n",
       "      <th>PILAC-BT33</th>\n",
       "      <th>SA283-C</th>\n",
       "      <th>V42JBN3</th>\n",
       "      <th>All</th>\n",
       "    </tr>\n",
       "    <tr>\n",
       "      <th>SCALE</th>\n",
       "      <th></th>\n",
       "      <th></th>\n",
       "      <th></th>\n",
       "      <th></th>\n",
       "      <th></th>\n",
       "      <th></th>\n",
       "      <th></th>\n",
       "      <th></th>\n",
       "      <th></th>\n",
       "      <th></th>\n",
       "      <th></th>\n",
       "      <th></th>\n",
       "      <th></th>\n",
       "      <th></th>\n",
       "      <th></th>\n",
       "      <th></th>\n",
       "      <th></th>\n",
       "      <th></th>\n",
       "      <th></th>\n",
       "      <th></th>\n",
       "      <th></th>\n",
       "    </tr>\n",
       "  </thead>\n",
       "  <tbody>\n",
       "    <tr>\n",
       "      <th>불량</th>\n",
       "      <td>1</td>\n",
       "      <td>5</td>\n",
       "      <td>1</td>\n",
       "      <td>0</td>\n",
       "      <td>4</td>\n",
       "      <td>1</td>\n",
       "      <td>3</td>\n",
       "      <td>0</td>\n",
       "      <td>1</td>\n",
       "      <td>0</td>\n",
       "      <td>...</td>\n",
       "      <td>0</td>\n",
       "      <td>2</td>\n",
       "      <td>0</td>\n",
       "      <td>1</td>\n",
       "      <td>0</td>\n",
       "      <td>0</td>\n",
       "      <td>2</td>\n",
       "      <td>10</td>\n",
       "      <td>1</td>\n",
       "      <td>231</td>\n",
       "    </tr>\n",
       "    <tr>\n",
       "      <th>양품</th>\n",
       "      <td>0</td>\n",
       "      <td>1</td>\n",
       "      <td>1</td>\n",
       "      <td>1</td>\n",
       "      <td>3</td>\n",
       "      <td>4</td>\n",
       "      <td>3</td>\n",
       "      <td>2</td>\n",
       "      <td>16</td>\n",
       "      <td>2</td>\n",
       "      <td>...</td>\n",
       "      <td>2</td>\n",
       "      <td>1</td>\n",
       "      <td>3</td>\n",
       "      <td>4</td>\n",
       "      <td>2</td>\n",
       "      <td>5</td>\n",
       "      <td>36</td>\n",
       "      <td>11</td>\n",
       "      <td>3</td>\n",
       "      <td>483</td>\n",
       "    </tr>\n",
       "    <tr>\n",
       "      <th>All</th>\n",
       "      <td>1</td>\n",
       "      <td>6</td>\n",
       "      <td>2</td>\n",
       "      <td>1</td>\n",
       "      <td>7</td>\n",
       "      <td>5</td>\n",
       "      <td>6</td>\n",
       "      <td>2</td>\n",
       "      <td>17</td>\n",
       "      <td>2</td>\n",
       "      <td>...</td>\n",
       "      <td>2</td>\n",
       "      <td>3</td>\n",
       "      <td>3</td>\n",
       "      <td>5</td>\n",
       "      <td>2</td>\n",
       "      <td>5</td>\n",
       "      <td>38</td>\n",
       "      <td>21</td>\n",
       "      <td>4</td>\n",
       "      <td>714</td>\n",
       "    </tr>\n",
       "  </tbody>\n",
       "</table>\n",
       "<p>3 rows × 67 columns</p>\n",
       "</div>"
      ],
      "text/plain": [
       "SPEC   A131-DH36TM  A283-C  A516-60  A709-36  AB/A  AB/AH32  AB/B  AB/EH32-TM  \\\n",
       "SCALE                                                                           \n",
       "불량               1       5        1        0     4        1     3           0   \n",
       "양품               0       1        1        1     3        4     3           2   \n",
       "All              1       6        2        1     7        5     6           2   \n",
       "\n",
       "SPEC   AB/EH36-TM  API-2W-50T  ...  NV-A36-TM  NV-B  NV-D32-TM  NV-D36-TM  \\\n",
       "SCALE                          ...                                          \n",
       "불량              1           0  ...          0     2          0          1   \n",
       "양품             16           2  ...          2     1          3          4   \n",
       "All            17           2  ...          2     3          3          5   \n",
       "\n",
       "SPEC   NV-E32-TM  NV-E36-TM  PILAC-BT33  SA283-C  V42JBN3  All  \n",
       "SCALE                                                           \n",
       "불량             0          0           2       10        1  231  \n",
       "양품             2          5          36       11        3  483  \n",
       "All            2          5          38       21        4  714  \n",
       "\n",
       "[3 rows x 67 columns]"
      ]
     },
     "execution_count": 417,
     "metadata": {},
     "output_type": "execute_result"
    }
   ],
   "source": [
    "fun_print_crosstab(df_raw, \"SPEC\")"
   ]
  },
  {
   "cell_type": "markdown",
   "metadata": {},
   "source": [
    "### 강종"
   ]
  },
  {
   "cell_type": "code",
   "execution_count": 418,
   "metadata": {},
   "outputs": [
    {
     "data": {
      "text/html": [
       "<div>\n",
       "<style scoped>\n",
       "    .dataframe tbody tr th:only-of-type {\n",
       "        vertical-align: middle;\n",
       "    }\n",
       "\n",
       "    .dataframe tbody tr th {\n",
       "        vertical-align: top;\n",
       "    }\n",
       "\n",
       "    .dataframe thead th {\n",
       "        text-align: right;\n",
       "    }\n",
       "</style>\n",
       "<table border=\"1\" class=\"dataframe\">\n",
       "  <thead>\n",
       "    <tr style=\"text-align: right;\">\n",
       "      <th>STEEL_KIND</th>\n",
       "      <th>C</th>\n",
       "      <th>T</th>\n",
       "      <th>All</th>\n",
       "    </tr>\n",
       "    <tr>\n",
       "      <th>SCALE</th>\n",
       "      <th></th>\n",
       "      <th></th>\n",
       "      <th></th>\n",
       "    </tr>\n",
       "  </thead>\n",
       "  <tbody>\n",
       "    <tr>\n",
       "      <th>불량</th>\n",
       "      <td>214</td>\n",
       "      <td>17</td>\n",
       "      <td>231</td>\n",
       "    </tr>\n",
       "    <tr>\n",
       "      <th>양품</th>\n",
       "      <td>295</td>\n",
       "      <td>188</td>\n",
       "      <td>483</td>\n",
       "    </tr>\n",
       "    <tr>\n",
       "      <th>All</th>\n",
       "      <td>509</td>\n",
       "      <td>205</td>\n",
       "      <td>714</td>\n",
       "    </tr>\n",
       "  </tbody>\n",
       "</table>\n",
       "</div>"
      ],
      "text/plain": [
       "STEEL_KIND    C    T  All\n",
       "SCALE                    \n",
       "불량          214   17  231\n",
       "양품          295  188  483\n",
       "All         509  205  714"
      ]
     },
     "execution_count": 418,
     "metadata": {},
     "output_type": "execute_result"
    }
   ],
   "source": [
    "fun_print_crosstab(df_raw, \"STEEL_KIND\")"
   ]
  },
  {
   "cell_type": "markdown",
   "metadata": {},
   "source": [
    "## 모델 학습 전 목표변수 SCALE의 변화에 영향을 주지 않는 SPEC, FUR_NO, FUR_NO_ROW, WORK_GR 변수를 제거한다."
   ]
  },
  {
   "cell_type": "code",
   "execution_count": 419,
   "metadata": {},
   "outputs": [],
   "source": [
    "df_raw_final = df_raw.drop([\"SPEC\", \"FUR_NO\", \"FUR_NO_ROW\", \"WORK_GR\"], axis=1)"
   ]
  },
  {
   "cell_type": "code",
   "execution_count": 420,
   "metadata": {},
   "outputs": [
    {
     "name": "stdout",
     "output_type": "stream",
     "text": [
      "<class 'pandas.core.frame.DataFrame'>\n",
      "Int64Index: 714 entries, 0 to 719\n",
      "Data columns (total 15 columns):\n",
      " #   Column             Non-Null Count  Dtype  \n",
      "---  ------             --------------  -----  \n",
      " 0   SCALE              714 non-null    object \n",
      " 1   STEEL_KIND         714 non-null    object \n",
      " 2   PT_THK             714 non-null    float64\n",
      " 3   PT_WDTH            714 non-null    int64  \n",
      " 4   PT_LTH             714 non-null    int64  \n",
      " 5   PT_WGT             714 non-null    int64  \n",
      " 6   FUR_HZ_TEMP        714 non-null    int64  \n",
      " 7   FUR_HZ_TIME        714 non-null    int64  \n",
      " 8   FUR_SZ_TEMP        714 non-null    int64  \n",
      " 9   FUR_SZ_TIME        714 non-null    int64  \n",
      " 10  FUR_TIME           714 non-null    int64  \n",
      " 11  FUR_EXTEMP         714 non-null    int64  \n",
      " 12  ROLLING_TEMP_T5    714 non-null    int64  \n",
      " 13  HSB                714 non-null    object \n",
      " 14  ROLLING_DESCALING  714 non-null    int64  \n",
      "dtypes: float64(1), int64(11), object(3)\n",
      "memory usage: 89.2+ KB\n"
     ]
    }
   ],
   "source": [
    "df_raw_final.info()"
   ]
  },
  {
   "cell_type": "markdown",
   "metadata": {},
   "source": [
    "### HSB 변수는 \"미적용\"일 때 반드시 SCALE이 \"불량\"이다.\n",
    "### 즉 HSB 변수에 따라 SCALE 이 바뀌는 것이 아닌\n",
    "### HSB와 SCALE이 서로 큰 영향을 주지 않기 때문에 HSB 컬럼을 제거한다."
   ]
  },
  {
   "cell_type": "code",
   "execution_count": 422,
   "metadata": {},
   "outputs": [],
   "source": [
    "df_raw_final = df_raw_final.drop(df_raw[df_raw_final[\"HSB\"]==\"미적용\"].index, inplace=False)"
   ]
  },
  {
   "cell_type": "code",
   "execution_count": 423,
   "metadata": {},
   "outputs": [],
   "source": [
    "df_raw_final.drop(\"HSB\", axis=1, inplace = True)"
   ]
  },
  {
   "cell_type": "code",
   "execution_count": 424,
   "metadata": {},
   "outputs": [
    {
     "data": {
      "text/plain": [
       "Index(['SCALE', 'STEEL_KIND', 'PT_THK', 'PT_WDTH', 'PT_LTH', 'PT_WGT',\n",
       "       'FUR_HZ_TEMP', 'FUR_HZ_TIME', 'FUR_SZ_TEMP', 'FUR_SZ_TIME', 'FUR_TIME',\n",
       "       'FUR_EXTEMP', 'ROLLING_TEMP_T5', 'ROLLING_DESCALING'],\n",
       "      dtype='object')"
      ]
     },
     "execution_count": 424,
     "metadata": {},
     "output_type": "execute_result"
    }
   ],
   "source": [
    "df_raw_final.columns"
   ]
  },
  {
   "cell_type": "markdown",
   "metadata": {},
   "source": [
    "### SCALE 변수를 양품일 때 0, 불량일 때 1로 바꾼다."
   ]
  },
  {
   "cell_type": "code",
   "execution_count": 425,
   "metadata": {},
   "outputs": [],
   "source": [
    "df_raw_final[\"SCALE\"] = np.where(df_raw_final[\"SCALE\"] == \"불량\", 1, 0)"
   ]
  },
  {
   "cell_type": "code",
   "execution_count": 426,
   "metadata": {},
   "outputs": [
    {
     "data": {
      "text/html": [
       "<div>\n",
       "<style scoped>\n",
       "    .dataframe tbody tr th:only-of-type {\n",
       "        vertical-align: middle;\n",
       "    }\n",
       "\n",
       "    .dataframe tbody tr th {\n",
       "        vertical-align: top;\n",
       "    }\n",
       "\n",
       "    .dataframe thead th {\n",
       "        text-align: right;\n",
       "    }\n",
       "</style>\n",
       "<table border=\"1\" class=\"dataframe\">\n",
       "  <thead>\n",
       "    <tr style=\"text-align: right;\">\n",
       "      <th></th>\n",
       "      <th>SCALE</th>\n",
       "      <th>STEEL_KIND</th>\n",
       "      <th>PT_THK</th>\n",
       "      <th>PT_WDTH</th>\n",
       "      <th>PT_LTH</th>\n",
       "      <th>PT_WGT</th>\n",
       "      <th>FUR_HZ_TEMP</th>\n",
       "      <th>FUR_HZ_TIME</th>\n",
       "      <th>FUR_SZ_TEMP</th>\n",
       "      <th>FUR_SZ_TIME</th>\n",
       "      <th>FUR_TIME</th>\n",
       "      <th>FUR_EXTEMP</th>\n",
       "      <th>ROLLING_TEMP_T5</th>\n",
       "      <th>ROLLING_DESCALING</th>\n",
       "    </tr>\n",
       "  </thead>\n",
       "  <tbody>\n",
       "    <tr>\n",
       "      <th>0</th>\n",
       "      <td>0</td>\n",
       "      <td>T</td>\n",
       "      <td>32.25</td>\n",
       "      <td>3707</td>\n",
       "      <td>15109</td>\n",
       "      <td>14180</td>\n",
       "      <td>1144</td>\n",
       "      <td>116</td>\n",
       "      <td>1133</td>\n",
       "      <td>59</td>\n",
       "      <td>282</td>\n",
       "      <td>1125</td>\n",
       "      <td>934</td>\n",
       "      <td>8</td>\n",
       "    </tr>\n",
       "    <tr>\n",
       "      <th>1</th>\n",
       "      <td>0</td>\n",
       "      <td>T</td>\n",
       "      <td>32.25</td>\n",
       "      <td>3707</td>\n",
       "      <td>15109</td>\n",
       "      <td>14180</td>\n",
       "      <td>1144</td>\n",
       "      <td>122</td>\n",
       "      <td>1135</td>\n",
       "      <td>53</td>\n",
       "      <td>283</td>\n",
       "      <td>1120</td>\n",
       "      <td>937</td>\n",
       "      <td>8</td>\n",
       "    </tr>\n",
       "    <tr>\n",
       "      <th>2</th>\n",
       "      <td>0</td>\n",
       "      <td>T</td>\n",
       "      <td>33.27</td>\n",
       "      <td>3619</td>\n",
       "      <td>19181</td>\n",
       "      <td>18130</td>\n",
       "      <td>1129</td>\n",
       "      <td>116</td>\n",
       "      <td>1121</td>\n",
       "      <td>55</td>\n",
       "      <td>282</td>\n",
       "      <td>1106</td>\n",
       "      <td>889</td>\n",
       "      <td>8</td>\n",
       "    </tr>\n",
       "    <tr>\n",
       "      <th>3</th>\n",
       "      <td>0</td>\n",
       "      <td>T</td>\n",
       "      <td>33.27</td>\n",
       "      <td>3619</td>\n",
       "      <td>19181</td>\n",
       "      <td>18130</td>\n",
       "      <td>1152</td>\n",
       "      <td>125</td>\n",
       "      <td>1127</td>\n",
       "      <td>68</td>\n",
       "      <td>316</td>\n",
       "      <td>1113</td>\n",
       "      <td>885</td>\n",
       "      <td>8</td>\n",
       "    </tr>\n",
       "    <tr>\n",
       "      <th>4</th>\n",
       "      <td>0</td>\n",
       "      <td>T</td>\n",
       "      <td>38.33</td>\n",
       "      <td>3098</td>\n",
       "      <td>13334</td>\n",
       "      <td>12430</td>\n",
       "      <td>1140</td>\n",
       "      <td>134</td>\n",
       "      <td>1128</td>\n",
       "      <td>48</td>\n",
       "      <td>314</td>\n",
       "      <td>1118</td>\n",
       "      <td>873</td>\n",
       "      <td>8</td>\n",
       "    </tr>\n",
       "  </tbody>\n",
       "</table>\n",
       "</div>"
      ],
      "text/plain": [
       "   SCALE STEEL_KIND  PT_THK  PT_WDTH  PT_LTH  PT_WGT  FUR_HZ_TEMP  \\\n",
       "0      0          T   32.25     3707   15109   14180         1144   \n",
       "1      0          T   32.25     3707   15109   14180         1144   \n",
       "2      0          T   33.27     3619   19181   18130         1129   \n",
       "3      0          T   33.27     3619   19181   18130         1152   \n",
       "4      0          T   38.33     3098   13334   12430         1140   \n",
       "\n",
       "   FUR_HZ_TIME  FUR_SZ_TEMP  FUR_SZ_TIME  FUR_TIME  FUR_EXTEMP  \\\n",
       "0          116         1133           59       282        1125   \n",
       "1          122         1135           53       283        1120   \n",
       "2          116         1121           55       282        1106   \n",
       "3          125         1127           68       316        1113   \n",
       "4          134         1128           48       314        1118   \n",
       "\n",
       "   ROLLING_TEMP_T5  ROLLING_DESCALING  \n",
       "0              934                  8  \n",
       "1              937                  8  \n",
       "2              889                  8  \n",
       "3              885                  8  \n",
       "4              873                  8  "
      ]
     },
     "execution_count": 426,
     "metadata": {},
     "output_type": "execute_result"
    }
   ],
   "source": [
    "df_raw_final.head()"
   ]
  },
  {
   "cell_type": "code",
   "execution_count": 428,
   "metadata": {},
   "outputs": [
    {
     "name": "stdout",
     "output_type": "stream",
     "text": [
      "train data size: (476, 14)\n",
      "Test data size: (205, 14)\n"
     ]
    }
   ],
   "source": [
    "df_train, df_test = train_test_split(df_raw_final,\n",
    "                                     test_size =0.3, random_state=1234)\n",
    "\n",
    "print(\"train data size: {}\".format(df_train.shape))\n",
    "print(\"Test data size: {}\".format(df_test.shape))"
   ]
  },
  {
   "cell_type": "markdown",
   "metadata": {},
   "source": [
    "### SCALE 변수를 목표 변수로 하고 \n",
    "### 나머지 변수들을 설명변수로 설정하여\n",
    "### 로지스틱 회귀를 수행한다."
   ]
  },
  {
   "cell_type": "code",
   "execution_count": 431,
   "metadata": {},
   "outputs": [
    {
     "name": "stdout",
     "output_type": "stream",
     "text": [
      "Optimization terminated successfully.\n",
      "         Current function value: 0.282416\n",
      "         Iterations 8\n",
      "                           Logit Regression Results                           \n",
      "==============================================================================\n",
      "Dep. Variable:                  SCALE   No. Observations:                  476\n",
      "Model:                          Logit   Df Residuals:                      465\n",
      "Method:                           MLE   Df Model:                           10\n",
      "Date:                Wed, 26 May 2021   Pseudo R-squ.:                  0.5183\n",
      "Time:                        01:22:06   Log-Likelihood:                -134.43\n",
      "converged:                       True   LL-Null:                       -279.09\n",
      "Covariance Type:            nonrobust   LLR p-value:                 2.802e-56\n",
      "======================================================================================\n",
      "                         coef    std err          z      P>|z|      [0.025      0.975]\n",
      "--------------------------------------------------------------------------------------\n",
      "Intercept           -127.7341     24.887     -5.133      0.000    -176.511     -78.957\n",
      "C(STEEL_KIND)[T.T]     0.5549      1.270      0.437      0.662      -1.934       3.044\n",
      "PT_THK                -0.0264      0.029     -0.902      0.367      -0.084       0.031\n",
      "PT_WDTH               -0.0010      0.000     -2.091      0.037      -0.002   -6.02e-05\n",
      "PT_LTH             -4.313e-05   2.95e-05     -1.461      0.144      -0.000    1.47e-05\n",
      "PT_WGT              -2.69e-06   7.24e-06     -0.372      0.710   -1.69e-05    1.15e-05\n",
      "FUR_HZ_TIME            0.0060      0.005      1.189      0.234      -0.004       0.016\n",
      "FUR_SZ_TEMP            0.0911      0.021      4.333      0.000       0.050       0.132\n",
      "FUR_TIME              -0.0027      0.005     -0.589      0.556      -0.012       0.006\n",
      "ROLLING_TEMP_T5        0.0336      0.007      4.676      0.000       0.020       0.048\n",
      "ROLLING_DESCALING     -0.6731      0.201     -3.342      0.001      -1.068      -0.278\n",
      "======================================================================================\n"
     ]
    }
   ],
   "source": [
    "log_model = Logit.from_formula(\"\"\"SCALE ~ + PT_THK \n",
    "+ PT_WDTH + PT_LTH + C(STEEL_KIND) + PT_WGT + PT_WGT\n",
    "+ FUR_HZ_TIME + FUR_SZ_TEMP + FUR_TIME  \n",
    "+ ROLLING_TEMP_T5 + ROLLING_DESCAILING\"\"\", df_train)\n",
    "log_result = log_model.fit()\n",
    "\n",
    "print(log_result.summary())"
   ]
  },
  {
   "cell_type": "markdown",
   "metadata": {},
   "source": [
    "### => Pseudo R-Squared : 0.52\n",
    "\n",
    "### P-Value < 0.05 인 변수\n",
    "- PT_WDTH, FUR_SZ_TEMP, ROLLING_TEMP_T5, ROLLING_DESCAILING"
   ]
  },
  {
   "cell_type": "code",
   "execution_count": 432,
   "metadata": {},
   "outputs": [],
   "source": [
    "df_raw_final.drop(\"FUR_SZ_TEMP\", axis=1, inplace = True)"
   ]
  },
  {
   "cell_type": "code",
   "execution_count": 433,
   "metadata": {},
   "outputs": [],
   "source": [
    "df_raw_final.drop(\"FUR_EXTEMP\", axis=1, inplace = True)"
   ]
  },
  {
   "cell_type": "code",
   "execution_count": 434,
   "metadata": {},
   "outputs": [
    {
     "data": {
      "text/plain": [
       "Index(['SCALE', 'STEEL_KIND', 'PT_THK', 'PT_WDTH', 'PT_LTH', 'PT_WGT',\n",
       "       'FUR_HZ_TEMP', 'FUR_HZ_TIME', 'FUR_SZ_TIME', 'FUR_TIME',\n",
       "       'ROLLING_TEMP_T5', 'ROLLING_DESCALING'],\n",
       "      dtype='object')"
      ]
     },
     "execution_count": 434,
     "metadata": {},
     "output_type": "execute_result"
    }
   ],
   "source": [
    "df_raw_final.columns"
   ]
  },
  {
   "cell_type": "code",
   "execution_count": 435,
   "metadata": {},
   "outputs": [],
   "source": [
    "y_pred = log_result.predict(df_test)"
   ]
  },
  {
   "cell_type": "code",
   "execution_count": 436,
   "metadata": {},
   "outputs": [],
   "source": [
    "y_pred_class = (y_pred > 0.5).astype(int)"
   ]
  },
  {
   "cell_type": "code",
   "execution_count": 437,
   "metadata": {},
   "outputs": [
    {
     "data": {
      "text/plain": [
       "205"
      ]
     },
     "execution_count": 437,
     "metadata": {},
     "output_type": "execute_result"
    }
   ],
   "source": [
    "y_pred_class.count()"
   ]
  },
  {
   "cell_type": "code",
   "execution_count": 438,
   "metadata": {},
   "outputs": [
    {
     "name": "stdout",
     "output_type": "stream",
     "text": [
      "(205,)\n",
      "Accuracy:0.873\n",
      "\n",
      "Confusion Matrix: \n",
      "[[126  11]\n",
      " [ 15  53]]\n"
     ]
    }
   ],
   "source": [
    "print(df_test[\"SCALE\"].shape)\n",
    "print(\"Accuracy:{0:.3f}\\n\".format(accuracy_score(df_test[\"SCALE\"], y_pred_class)))\n",
    "print(\"Confusion Matrix: \\n{}\".format(confusion_matrix(df_test[\"SCALE\"], y_pred_class)))"
   ]
  },
  {
   "cell_type": "markdown",
   "metadata": {},
   "source": [
    "## SCALE 오류 예측 정확도 : 87.3%\n",
    "\n",
    "## 정분류율 : 87.3%"
   ]
  },
  {
   "cell_type": "code",
   "execution_count": 439,
   "metadata": {},
   "outputs": [
    {
     "data": {
      "text/html": [
       "<div>\n",
       "<style scoped>\n",
       "    .dataframe tbody tr th:only-of-type {\n",
       "        vertical-align: middle;\n",
       "    }\n",
       "\n",
       "    .dataframe tbody tr th {\n",
       "        vertical-align: top;\n",
       "    }\n",
       "\n",
       "    .dataframe thead th {\n",
       "        text-align: right;\n",
       "    }\n",
       "</style>\n",
       "<table border=\"1\" class=\"dataframe\">\n",
       "  <thead>\n",
       "    <tr style=\"text-align: right;\">\n",
       "      <th></th>\n",
       "      <th>SCALE</th>\n",
       "      <th>PT_THK</th>\n",
       "      <th>PT_WDTH</th>\n",
       "      <th>PT_LTH</th>\n",
       "      <th>PT_WGT</th>\n",
       "      <th>FUR_HZ_TEMP</th>\n",
       "      <th>FUR_HZ_TIME</th>\n",
       "      <th>FUR_SZ_TIME</th>\n",
       "      <th>FUR_TIME</th>\n",
       "      <th>ROLLING_TEMP_T5</th>\n",
       "      <th>ROLLING_DESCALING</th>\n",
       "      <th>STEEL_KIND</th>\n",
       "    </tr>\n",
       "  </thead>\n",
       "  <tbody>\n",
       "    <tr>\n",
       "      <th>0</th>\n",
       "      <td>-0.640264</td>\n",
       "      <td>0.172128</td>\n",
       "      <td>1.750079</td>\n",
       "      <td>-1.400609</td>\n",
       "      <td>-1.103183</td>\n",
       "      <td>-0.543827</td>\n",
       "      <td>0.768190</td>\n",
       "      <td>-0.624527</td>\n",
       "      <td>-0.403553</td>\n",
       "      <td>-0.125779</td>\n",
       "      <td>-0.19688</td>\n",
       "      <td>T</td>\n",
       "    </tr>\n",
       "    <tr>\n",
       "      <th>1</th>\n",
       "      <td>-0.640264</td>\n",
       "      <td>0.172128</td>\n",
       "      <td>1.750079</td>\n",
       "      <td>-1.400609</td>\n",
       "      <td>-1.103183</td>\n",
       "      <td>-0.543827</td>\n",
       "      <td>0.934547</td>\n",
       "      <td>-0.854151</td>\n",
       "      <td>-0.381367</td>\n",
       "      <td>-0.080379</td>\n",
       "      <td>-0.19688</td>\n",
       "      <td>T</td>\n",
       "    </tr>\n",
       "    <tr>\n",
       "      <th>2</th>\n",
       "      <td>-0.640264</td>\n",
       "      <td>0.226581</td>\n",
       "      <td>1.579297</td>\n",
       "      <td>-1.104231</td>\n",
       "      <td>-0.944443</td>\n",
       "      <td>-1.265656</td>\n",
       "      <td>0.768190</td>\n",
       "      <td>-0.777610</td>\n",
       "      <td>-0.403553</td>\n",
       "      <td>-0.806785</td>\n",
       "      <td>-0.19688</td>\n",
       "      <td>T</td>\n",
       "    </tr>\n",
       "    <tr>\n",
       "      <th>3</th>\n",
       "      <td>-0.640264</td>\n",
       "      <td>0.226581</td>\n",
       "      <td>1.579297</td>\n",
       "      <td>-1.104231</td>\n",
       "      <td>-0.944443</td>\n",
       "      <td>-0.158852</td>\n",
       "      <td>1.017725</td>\n",
       "      <td>-0.280090</td>\n",
       "      <td>0.350775</td>\n",
       "      <td>-0.867319</td>\n",
       "      <td>-0.19688</td>\n",
       "      <td>T</td>\n",
       "    </tr>\n",
       "    <tr>\n",
       "      <th>4</th>\n",
       "      <td>-0.640264</td>\n",
       "      <td>0.496711</td>\n",
       "      <td>0.568192</td>\n",
       "      <td>-1.529801</td>\n",
       "      <td>-1.173511</td>\n",
       "      <td>-0.736315</td>\n",
       "      <td>1.267261</td>\n",
       "      <td>-1.045505</td>\n",
       "      <td>0.306403</td>\n",
       "      <td>-1.048921</td>\n",
       "      <td>-0.19688</td>\n",
       "      <td>T</td>\n",
       "    </tr>\n",
       "  </tbody>\n",
       "</table>\n",
       "</div>"
      ],
      "text/plain": [
       "      SCALE    PT_THK   PT_WDTH    PT_LTH    PT_WGT  FUR_HZ_TEMP  FUR_HZ_TIME  \\\n",
       "0 -0.640264  0.172128  1.750079 -1.400609 -1.103183    -0.543827     0.768190   \n",
       "1 -0.640264  0.172128  1.750079 -1.400609 -1.103183    -0.543827     0.934547   \n",
       "2 -0.640264  0.226581  1.579297 -1.104231 -0.944443    -1.265656     0.768190   \n",
       "3 -0.640264  0.226581  1.579297 -1.104231 -0.944443    -0.158852     1.017725   \n",
       "4 -0.640264  0.496711  0.568192 -1.529801 -1.173511    -0.736315     1.267261   \n",
       "\n",
       "   FUR_SZ_TIME  FUR_TIME  ROLLING_TEMP_T5  ROLLING_DESCALING STEEL_KIND  \n",
       "0    -0.624527 -0.403553        -0.125779           -0.19688          T  \n",
       "1    -0.854151 -0.381367        -0.080379           -0.19688          T  \n",
       "2    -0.777610 -0.403553        -0.806785           -0.19688          T  \n",
       "3    -0.280090  0.350775        -0.867319           -0.19688          T  \n",
       "4    -1.045505  0.306403        -1.048921           -0.19688          T  "
      ]
     },
     "execution_count": 439,
     "metadata": {},
     "output_type": "execute_result"
    }
   ],
   "source": [
    "df_char = df_raw_final.select_dtypes(include=\"object\")\n",
    "df_numeric = df_raw_final.select_dtypes(exclude=\"object\")\n",
    "\n",
    "# Data Scailing\n",
    "scaler = StandardScaler()\n",
    "np_numeric_scaled = scaler.fit_transform(df_numeric)\n",
    "df_numeric_scaled = pd.DataFrame(np_numeric_scaled, columns=df_numeric.columns)\n",
    "\n",
    "# 문자데이터 + 숫자데이터\n",
    "df_scaled = pd.concat([df_numeric_scaled, df_char], axis=1)\n",
    "df_scaled.head()"
   ]
  },
  {
   "cell_type": "code",
   "execution_count": 440,
   "metadata": {},
   "outputs": [
    {
     "data": {
      "text/html": [
       "<div>\n",
       "<style scoped>\n",
       "    .dataframe tbody tr th:only-of-type {\n",
       "        vertical-align: middle;\n",
       "    }\n",
       "\n",
       "    .dataframe tbody tr th {\n",
       "        vertical-align: top;\n",
       "    }\n",
       "\n",
       "    .dataframe thead th {\n",
       "        text-align: right;\n",
       "    }\n",
       "</style>\n",
       "<table border=\"1\" class=\"dataframe\">\n",
       "  <thead>\n",
       "    <tr style=\"text-align: right;\">\n",
       "      <th></th>\n",
       "      <th>SCALE</th>\n",
       "      <th>PT_THK</th>\n",
       "      <th>PT_WDTH</th>\n",
       "      <th>PT_LTH</th>\n",
       "      <th>PT_WGT</th>\n",
       "      <th>FUR_HZ_TEMP</th>\n",
       "      <th>FUR_HZ_TIME</th>\n",
       "      <th>FUR_SZ_TIME</th>\n",
       "      <th>FUR_TIME</th>\n",
       "      <th>ROLLING_TEMP_T5</th>\n",
       "      <th>ROLLING_DESCALING</th>\n",
       "      <th>STEEL_KIND</th>\n",
       "    </tr>\n",
       "  </thead>\n",
       "  <tbody>\n",
       "    <tr>\n",
       "      <th>0</th>\n",
       "      <td>0.0</td>\n",
       "      <td>0.172128</td>\n",
       "      <td>1.750079</td>\n",
       "      <td>-1.400609</td>\n",
       "      <td>-1.103183</td>\n",
       "      <td>-0.543827</td>\n",
       "      <td>0.768190</td>\n",
       "      <td>-0.624527</td>\n",
       "      <td>-0.403553</td>\n",
       "      <td>-0.125779</td>\n",
       "      <td>-0.19688</td>\n",
       "      <td>T</td>\n",
       "    </tr>\n",
       "    <tr>\n",
       "      <th>1</th>\n",
       "      <td>0.0</td>\n",
       "      <td>0.172128</td>\n",
       "      <td>1.750079</td>\n",
       "      <td>-1.400609</td>\n",
       "      <td>-1.103183</td>\n",
       "      <td>-0.543827</td>\n",
       "      <td>0.934547</td>\n",
       "      <td>-0.854151</td>\n",
       "      <td>-0.381367</td>\n",
       "      <td>-0.080379</td>\n",
       "      <td>-0.19688</td>\n",
       "      <td>T</td>\n",
       "    </tr>\n",
       "    <tr>\n",
       "      <th>2</th>\n",
       "      <td>0.0</td>\n",
       "      <td>0.226581</td>\n",
       "      <td>1.579297</td>\n",
       "      <td>-1.104231</td>\n",
       "      <td>-0.944443</td>\n",
       "      <td>-1.265656</td>\n",
       "      <td>0.768190</td>\n",
       "      <td>-0.777610</td>\n",
       "      <td>-0.403553</td>\n",
       "      <td>-0.806785</td>\n",
       "      <td>-0.19688</td>\n",
       "      <td>T</td>\n",
       "    </tr>\n",
       "    <tr>\n",
       "      <th>3</th>\n",
       "      <td>0.0</td>\n",
       "      <td>0.226581</td>\n",
       "      <td>1.579297</td>\n",
       "      <td>-1.104231</td>\n",
       "      <td>-0.944443</td>\n",
       "      <td>-0.158852</td>\n",
       "      <td>1.017725</td>\n",
       "      <td>-0.280090</td>\n",
       "      <td>0.350775</td>\n",
       "      <td>-0.867319</td>\n",
       "      <td>-0.19688</td>\n",
       "      <td>T</td>\n",
       "    </tr>\n",
       "    <tr>\n",
       "      <th>4</th>\n",
       "      <td>0.0</td>\n",
       "      <td>0.496711</td>\n",
       "      <td>0.568192</td>\n",
       "      <td>-1.529801</td>\n",
       "      <td>-1.173511</td>\n",
       "      <td>-0.736315</td>\n",
       "      <td>1.267261</td>\n",
       "      <td>-1.045505</td>\n",
       "      <td>0.306403</td>\n",
       "      <td>-1.048921</td>\n",
       "      <td>-0.19688</td>\n",
       "      <td>T</td>\n",
       "    </tr>\n",
       "  </tbody>\n",
       "</table>\n",
       "</div>"
      ],
      "text/plain": [
       "   SCALE    PT_THK   PT_WDTH    PT_LTH    PT_WGT  FUR_HZ_TEMP  FUR_HZ_TIME  \\\n",
       "0    0.0  0.172128  1.750079 -1.400609 -1.103183    -0.543827     0.768190   \n",
       "1    0.0  0.172128  1.750079 -1.400609 -1.103183    -0.543827     0.934547   \n",
       "2    0.0  0.226581  1.579297 -1.104231 -0.944443    -1.265656     0.768190   \n",
       "3    0.0  0.226581  1.579297 -1.104231 -0.944443    -0.158852     1.017725   \n",
       "4    0.0  0.496711  0.568192 -1.529801 -1.173511    -0.736315     1.267261   \n",
       "\n",
       "   FUR_SZ_TIME  FUR_TIME  ROLLING_TEMP_T5  ROLLING_DESCALING STEEL_KIND  \n",
       "0    -0.624527 -0.403553        -0.125779           -0.19688          T  \n",
       "1    -0.854151 -0.381367        -0.080379           -0.19688          T  \n",
       "2    -0.777610 -0.403553        -0.806785           -0.19688          T  \n",
       "3    -0.280090  0.350775        -0.867319           -0.19688          T  \n",
       "4    -1.045505  0.306403        -1.048921           -0.19688          T  "
      ]
     },
     "execution_count": 440,
     "metadata": {},
     "output_type": "execute_result"
    }
   ],
   "source": [
    "df_scaled[\"SCALE\"] = df_raw_final[\"SCALE\"]\n",
    "df_scaled.head()"
   ]
  },
  {
   "cell_type": "code",
   "execution_count": 441,
   "metadata": {},
   "outputs": [
    {
     "name": "stdout",
     "output_type": "stream",
     "text": [
      "train data size: (502, 12)\n",
      "Test data size: (216, 12)\n"
     ]
    }
   ],
   "source": [
    "df_scaled_train, df_scaled_test = train_test_split(df_scaled,\n",
    "                                     test_size =0.3, random_state=1234)\n",
    "print(\"train data size: {}\".format(df_scaled_train.shape))\n",
    "print(\"Test data size: {}\".format(df_scaled_test.shape))"
   ]
  },
  {
   "cell_type": "code",
   "execution_count": 442,
   "metadata": {},
   "outputs": [
    {
     "name": "stdout",
     "output_type": "stream",
     "text": [
      "Optimization terminated successfully.\n",
      "         Current function value: 0.424895\n",
      "         Iterations 8\n",
      "                           Logit Regression Results                           \n",
      "==============================================================================\n",
      "Dep. Variable:                  SCALE   No. Observations:                  447\n",
      "Model:                          Logit   Df Residuals:                      436\n",
      "Method:                           MLE   Df Model:                           10\n",
      "Date:                Wed, 26 May 2021   Pseudo R-squ.:                  0.3184\n",
      "Time:                        01:22:08   Log-Likelihood:                -189.93\n",
      "converged:                       True   LL-Null:                       -278.65\n",
      "Covariance Type:            nonrobust   LLR p-value:                 7.938e-33\n",
      "======================================================================================\n",
      "                         coef    std err          z      P>|z|      [0.025      0.975]\n",
      "--------------------------------------------------------------------------------------\n",
      "Intercept             -0.8897      0.284     -3.128      0.002      -1.447      -0.332\n",
      "C(STEEL_KIND)[T.T]    -2.1696      0.953     -2.276      0.023      -4.038      -0.301\n",
      "PT_THK                 0.1522      0.443      0.344      0.731      -0.716       1.020\n",
      "PT_WDTH               -0.6824      0.183     -3.725      0.000      -1.041      -0.323\n",
      "PT_LTH                 0.7276      0.307      2.371      0.018       0.126       1.329\n",
      "PT_WGT                -0.1440      0.154     -0.937      0.349      -0.445       0.157\n",
      "FUR_HZ_TEMP            0.0415      0.156      0.267      0.790      -0.264       0.347\n",
      "FUR_HZ_TIME           -0.6392      0.173     -3.688      0.000      -0.979      -0.300\n",
      "FUR_TIME              -0.0893      0.168     -0.532      0.595      -0.418       0.240\n",
      "ROLLING_TEMP_T5        0.7605      0.259      2.942      0.003       0.254       1.267\n",
      "ROLLING_DESCALING     -0.4172      0.277     -1.505      0.132      -0.961       0.126\n",
      "======================================================================================\n"
     ]
    }
   ],
   "source": [
    "scaled_log_model = Logit.from_formula(\"\"\"SCALE ~ + PT_THK \n",
    "    + PT_WDTH + PT_LTH + PT_WGT + FUR_HZ_TEMP \n",
    "    + FUR_HZ_TIME + FUR_TIME \n",
    "    + ROLLING_TEMP_T5 + ROLLING_DESCALING + C(STEEL_KIND)\"\"\", df_scaled_train)\n",
    "scaled_log_result = scaled_log_model.fit()\n",
    "print(scaled_log_result.summary())"
   ]
  },
  {
   "cell_type": "markdown",
   "metadata": {},
   "source": [
    "## 로지스틱 회귀 분석 결과 : STEEL_KIND 변수의 영향력이 가장 크다는 것을 알 수 있다."
   ]
  },
  {
   "cell_type": "code",
   "execution_count": 443,
   "metadata": {},
   "outputs": [
    {
     "data": {
      "text/plain": [
       "<AxesSubplot:>"
      ]
     },
     "execution_count": 443,
     "metadata": {},
     "output_type": "execute_result"
    },
    {
     "data": {
      "image/png": "[encoded data removed]",
      "text/plain": [
       "<Figure size 432x288 with 1 Axes>"
      ]
     },
     "metadata": {
      "needs_background": "light"
     },
     "output_type": "display_data"
    }
   ],
   "source": [
    "df_log_scaled_coef = pd.DataFrame({\"Coef\": scaled_log_result.params.values[1:]},\n",
    "                                  index=scaled_log_model.exog_names[1:])\n",
    "df_log_scaled_coef.plot.barh(y=\"Coef\", legend= False)"
   ]
  },
  {
   "cell_type": "code",
   "execution_count": 444,
   "metadata": {},
   "outputs": [
    {
     "name": "stdout",
     "output_type": "stream",
     "text": [
      "<class 'pandas.core.frame.DataFrame'>\n",
      "Int64Index: 681 entries, 0 to 719\n",
      "Data columns (total 12 columns):\n",
      " #   Column             Non-Null Count  Dtype  \n",
      "---  ------             --------------  -----  \n",
      " 0   SCALE              681 non-null    int64  \n",
      " 1   STEEL_KIND         681 non-null    object \n",
      " 2   PT_THK             681 non-null    float64\n",
      " 3   PT_WDTH            681 non-null    int64  \n",
      " 4   PT_LTH             681 non-null    int64  \n",
      " 5   PT_WGT             681 non-null    int64  \n",
      " 6   FUR_HZ_TEMP        681 non-null    int64  \n",
      " 7   FUR_HZ_TIME        681 non-null    int64  \n",
      " 8   FUR_SZ_TIME        681 non-null    int64  \n",
      " 9   FUR_TIME           681 non-null    int64  \n",
      " 10  ROLLING_TEMP_T5    681 non-null    int64  \n",
      " 11  ROLLING_DESCALING  681 non-null    int64  \n",
      "dtypes: float64(1), int64(10), object(1)\n",
      "memory usage: 89.2+ KB\n"
     ]
    }
   ],
   "source": [
    "df_raw_final.info()"
   ]
  },
  {
   "cell_type": "code",
   "execution_count": 445,
   "metadata": {},
   "outputs": [
    {
     "data": {
      "text/plain": [
       "(681, 11)"
      ]
     },
     "execution_count": 445,
     "metadata": {},
     "output_type": "execute_result"
    }
   ],
   "source": [
    "df_raw_y = df_raw_final[\"SCALE\"]\n",
    "df_raw_x = df_raw_final.drop([\"SCALE\"], axis=1, inplace=False)\n",
    "df_raw_x.shape"
   ]
  },
  {
   "cell_type": "code",
   "execution_count": 446,
   "metadata": {},
   "outputs": [
    {
     "data": {
      "text/plain": [
       "(681, 12)"
      ]
     },
     "execution_count": 446,
     "metadata": {},
     "output_type": "execute_result"
    }
   ],
   "source": [
    "df_raw_x_dummy = pd.get_dummies(df_raw_x)\n",
    "df_raw_x_dummy.head()\n",
    "df_raw_x_dummy.shape"
   ]
  },
  {
   "cell_type": "code",
   "execution_count": 447,
   "metadata": {},
   "outputs": [
    {
     "name": "stdout",
     "output_type": "stream",
     "text": [
      "train data X size: (476, 12)\n",
      "train data Y size: (476,)\n",
      "test data X size: (205, 12)\n",
      "test data Y size: (205,)\n"
     ]
    }
   ],
   "source": [
    "df_train_x, df_test_x, df_train_y, df_test_y = train_test_split(df_raw_x_dummy, df_raw_y, \n",
    "                                                                test_size=0.3, random_state=1234)\n",
    "print(\"train data X size: {}\".format(df_train_x.shape))\n",
    "print(\"train data Y size: {}\".format(df_train_y.shape))\n",
    "print(\"test data X size: {}\".format(df_test_x.shape))\n",
    "print(\"test data Y size: {}\".format(df_test_y.shape))"
   ]
  },
  {
   "cell_type": "code",
   "execution_count": 448,
   "metadata": {},
   "outputs": [
    {
     "name": "stdout",
     "output_type": "stream",
     "text": [
      "Accuracy on training set: 1.000\n",
      "Accuracy on test set: 0.937\n"
     ]
    }
   ],
   "source": [
    "tree_graph = DecisionTreeClassifier(random_state=1234)\n",
    "dt_result = tree_graph.fit(df_train_x, df_train_y)\n",
    "\n",
    "# Train 데이터 정확도\n",
    "print(\"Accuracy on training set: {:.3f}\".format(tree_graph.score(df_train_x, df_train_y)))\n",
    "#test데이터 정확도\n",
    "print(\"Accuracy on test set: {:.3f}\".format(tree_graph.score(df_test_x, df_test_y)))"
   ]
  },
  {
   "cell_type": "markdown",
   "metadata": {},
   "source": [
    "## 의사결정트리 분석 결과"
   ]
  },
  {
   "cell_type": "code",
   "execution_count": 449,
   "metadata": {},
   "outputs": [
    {
     "name": "stdout",
     "output_type": "stream",
     "text": [
      "Accuracy:0.937\n",
      "\n",
      "Confusion Matrix: \n",
      "[[128   9]\n",
      " [  4  64]]\n"
     ]
    }
   ],
   "source": [
    "tree_pred = tree_graph.predict(df_test_x)\n",
    "\n",
    "print(\"Accuracy:{0:.3f}\\n\".format(tree_graph.score(df_test_x, df_test_y)))\n",
    "print(\"Confusion Matrix: \\n{}\".format(confusion_matrix(df_test_y, tree_pred)))"
   ]
  },
  {
   "cell_type": "markdown",
   "metadata": {},
   "source": [
    "## SCALE 변수 예측 정확도 : 93.7%\n",
    "## 정분류울 : 93.7%"
   ]
  },
  {
   "cell_type": "code",
   "execution_count": 450,
   "metadata": {},
   "outputs": [
    {
     "data": {
      "text/html": [
       "<div>\n",
       "<style scoped>\n",
       "    .dataframe tbody tr th:only-of-type {\n",
       "        vertical-align: middle;\n",
       "    }\n",
       "\n",
       "    .dataframe tbody tr th {\n",
       "        vertical-align: top;\n",
       "    }\n",
       "\n",
       "    .dataframe thead th {\n",
       "        text-align: right;\n",
       "    }\n",
       "</style>\n",
       "<table border=\"1\" class=\"dataframe\">\n",
       "  <thead>\n",
       "    <tr style=\"text-align: right;\">\n",
       "      <th></th>\n",
       "      <th>Feature</th>\n",
       "      <th>Importance</th>\n",
       "    </tr>\n",
       "  </thead>\n",
       "  <tbody>\n",
       "    <tr>\n",
       "      <th>8</th>\n",
       "      <td>ROLLING_TEMP_T5</td>\n",
       "      <td>0.708</td>\n",
       "    </tr>\n",
       "    <tr>\n",
       "      <th>0</th>\n",
       "      <td>PT_THK</td>\n",
       "      <td>0.088</td>\n",
       "    </tr>\n",
       "    <tr>\n",
       "      <th>4</th>\n",
       "      <td>FUR_HZ_TEMP</td>\n",
       "      <td>0.068</td>\n",
       "    </tr>\n",
       "    <tr>\n",
       "      <th>6</th>\n",
       "      <td>FUR_SZ_TIME</td>\n",
       "      <td>0.039</td>\n",
       "    </tr>\n",
       "    <tr>\n",
       "      <th>9</th>\n",
       "      <td>ROLLING_DESCALING</td>\n",
       "      <td>0.033</td>\n",
       "    </tr>\n",
       "    <tr>\n",
       "      <th>5</th>\n",
       "      <td>FUR_HZ_TIME</td>\n",
       "      <td>0.020</td>\n",
       "    </tr>\n",
       "    <tr>\n",
       "      <th>3</th>\n",
       "      <td>PT_WGT</td>\n",
       "      <td>0.020</td>\n",
       "    </tr>\n",
       "    <tr>\n",
       "      <th>7</th>\n",
       "      <td>FUR_TIME</td>\n",
       "      <td>0.012</td>\n",
       "    </tr>\n",
       "    <tr>\n",
       "      <th>1</th>\n",
       "      <td>PT_WDTH</td>\n",
       "      <td>0.012</td>\n",
       "    </tr>\n",
       "    <tr>\n",
       "      <th>2</th>\n",
       "      <td>PT_LTH</td>\n",
       "      <td>0.000</td>\n",
       "    </tr>\n",
       "    <tr>\n",
       "      <th>10</th>\n",
       "      <td>STEEL_KIND_C</td>\n",
       "      <td>0.000</td>\n",
       "    </tr>\n",
       "    <tr>\n",
       "      <th>11</th>\n",
       "      <td>STEEL_KIND_T</td>\n",
       "      <td>0.000</td>\n",
       "    </tr>\n",
       "  </tbody>\n",
       "</table>\n",
       "</div>"
      ],
      "text/plain": [
       "              Feature  Importance\n",
       "8     ROLLING_TEMP_T5       0.708\n",
       "0              PT_THK       0.088\n",
       "4         FUR_HZ_TEMP       0.068\n",
       "6         FUR_SZ_TIME       0.039\n",
       "9   ROLLING_DESCALING       0.033\n",
       "5         FUR_HZ_TIME       0.020\n",
       "3              PT_WGT       0.020\n",
       "7            FUR_TIME       0.012\n",
       "1             PT_WDTH       0.012\n",
       "2              PT_LTH       0.000\n",
       "10       STEEL_KIND_C       0.000\n",
       "11       STEEL_KIND_T       0.000"
      ]
     },
     "execution_count": 450,
     "metadata": {},
     "output_type": "execute_result"
    }
   ],
   "source": [
    "df_importance = pd.DataFrame()\n",
    "df_importance[\"Feature\"]=v_feature_name\n",
    "df_importance[\"Importance\"] = tree_graph.feature_importances_\n",
    "df_importance.sort_values(\"Importance\", ascending=False, inplace = True)\n",
    "df_importance.round(3)"
   ]
  },
  {
   "cell_type": "code",
   "execution_count": 451,
   "metadata": {},
   "outputs": [
    {
     "data": {
      "text/plain": [
       "Text(0, 0.5, '변수')"
      ]
     },
     "execution_count": 451,
     "metadata": {},
     "output_type": "execute_result"
    },
    {
     "name": "stderr",
     "output_type": "stream",
     "text": [
      "/Users/Daeho/opt/anaconda3/lib/python3.8/site-packages/matplotlib/backends/backend_agg.py:238: RuntimeWarning: Glyph 48320 missing from current font.\n",
      "  font.set_text(s, 0.0, flags=flags)\n",
      "/Users/Daeho/opt/anaconda3/lib/python3.8/site-packages/matplotlib/backends/backend_agg.py:238: RuntimeWarning: Glyph 49688 missing from current font.\n",
      "  font.set_text(s, 0.0, flags=flags)\n",
      "/Users/Daeho/opt/anaconda3/lib/python3.8/site-packages/matplotlib/backends/backend_agg.py:238: RuntimeWarning: Glyph 51473 missing from current font.\n",
      "  font.set_text(s, 0.0, flags=flags)\n",
      "/Users/Daeho/opt/anaconda3/lib/python3.8/site-packages/matplotlib/backends/backend_agg.py:238: RuntimeWarning: Glyph 50836 missing from current font.\n",
      "  font.set_text(s, 0.0, flags=flags)\n",
      "/Users/Daeho/opt/anaconda3/lib/python3.8/site-packages/matplotlib/backends/backend_agg.py:238: RuntimeWarning: Glyph 46020 missing from current font.\n",
      "  font.set_text(s, 0.0, flags=flags)\n",
      "/Users/Daeho/opt/anaconda3/lib/python3.8/site-packages/matplotlib/backends/backend_agg.py:201: RuntimeWarning: Glyph 48320 missing from current font.\n",
      "  font.set_text(s, 0, flags=flags)\n",
      "/Users/Daeho/opt/anaconda3/lib/python3.8/site-packages/matplotlib/backends/backend_agg.py:201: RuntimeWarning: Glyph 49688 missing from current font.\n",
      "  font.set_text(s, 0, flags=flags)\n",
      "/Users/Daeho/opt/anaconda3/lib/python3.8/site-packages/matplotlib/backends/backend_agg.py:201: RuntimeWarning: Glyph 51473 missing from current font.\n",
      "  font.set_text(s, 0, flags=flags)\n",
      "/Users/Daeho/opt/anaconda3/lib/python3.8/site-packages/matplotlib/backends/backend_agg.py:201: RuntimeWarning: Glyph 50836 missing from current font.\n",
      "  font.set_text(s, 0, flags=flags)\n",
      "/Users/Daeho/opt/anaconda3/lib/python3.8/site-packages/matplotlib/backends/backend_agg.py:201: RuntimeWarning: Glyph 46020 missing from current font.\n",
      "  font.set_text(s, 0, flags=flags)\n"
     ]
    },
    {
     "data": {
      "image/png": "[encoded data removed]",
      "text/plain": [
       "<Figure size 432x288 with 1 Axes>"
      ]
     },
     "metadata": {
      "needs_background": "light"
     },
     "output_type": "display_data"
    }
   ],
   "source": [
    "df_importance.sort_values(\"Importance\", ascending= True, inplace=True)\n",
    "coordinates=range(len(df_importance))\n",
    "plt.barh(y=coordinates, width = df_importance[\"Importance\"])\n",
    "plt.yticks(coordinates, df_importance[\"Feature\"])\n",
    "plt.xlabel(\"변수 중요도\")\n",
    "plt.ylabel(\"변수\")"
   ]
  },
  {
   "cell_type": "markdown",
   "metadata": {},
   "source": [
    "## 가장 중요한 변수는 ROOLING_TEMP_T5라는 것을 알 수 있다."
   ]
  },
  {
   "cell_type": "code",
   "execution_count": 452,
   "metadata": {},
   "outputs": [
    {
     "data": {
      "image/svg+xml": [
       "<?xml version=\"1.0\" encoding=\"UTF-8\" standalone=\"no\"?>\n",
       "<!DOCTYPE svg PUBLIC \"-//W3C//DTD SVG 1.1//EN\"\n",
       " \"http://www.w3.org/Graphics/SVG/1.1/DTD/svg11.dtd\">\n",
       "<!-- Generated by graphviz version 2.47.1 (20210417.1919)\n",
       " -->\n",
       "<!-- Title: Tree Pages: 1 -->\n",
       "<svg width=\"532pt\" height=\"477pt\"\n",
       " viewBox=\"0.00 0.00 532.00 477.00\" xmlns=\"http://www.w3.org/2000/svg\" xmlns:xlink=\"http://www.w3.org/1999/xlink\">\n",
       "<g id=\"graph0\" class=\"graph\" transform=\"scale(1 1) rotate(0) translate(4 473)\">\n",
       "<title>Tree</title>\n",
       "<polygon fill=\"white\" stroke=\"transparent\" points=\"-4,4 -4,-473 528,-473 528,4 -4,4\"/>\n",
       "<!-- 0 -->\n",
       "<g id=\"node1\" class=\"node\">\n",
       "<title>0</title>\n",
       "<polygon fill=\"#efb083\" stroke=\"black\" points=\"437.5,-469 234.5,-469 234.5,-401 437.5,-401 437.5,-469\"/>\n",
       "<text text-anchor=\"middle\" x=\"336\" y=\"-453.8\" font-family=\"Times,serif\" font-size=\"14.00\">ROLLING_TEMP_T5 &lt;= 1000.5</text>\n",
       "<text text-anchor=\"middle\" x=\"336\" y=\"-438.8\" font-family=\"Times,serif\" font-size=\"14.00\">gini = 0.397</text>\n",
       "<text text-anchor=\"middle\" x=\"336\" y=\"-423.8\" font-family=\"Times,serif\" font-size=\"14.00\">samples = 476</text>\n",
       "<text text-anchor=\"middle\" x=\"336\" y=\"-408.8\" font-family=\"Times,serif\" font-size=\"14.00\">value = [346, 130]</text>\n",
       "</g>\n",
       "<!-- 1 -->\n",
       "<g id=\"node2\" class=\"node\">\n",
       "<title>1</title>\n",
       "<polygon fill=\"#e78c4a\" stroke=\"black\" points=\"344,-365 172,-365 172,-297 344,-297 344,-365\"/>\n",
       "<text text-anchor=\"middle\" x=\"258\" y=\"-349.8\" font-family=\"Times,serif\" font-size=\"14.00\">FUR_HZ_TEMP &lt;= 1192.5</text>\n",
       "<text text-anchor=\"middle\" x=\"258\" y=\"-334.8\" font-family=\"Times,serif\" font-size=\"14.00\">gini = 0.147</text>\n",
       "<text text-anchor=\"middle\" x=\"258\" y=\"-319.8\" font-family=\"Times,serif\" font-size=\"14.00\">samples = 376</text>\n",
       "<text text-anchor=\"middle\" x=\"258\" y=\"-304.8\" font-family=\"Times,serif\" font-size=\"14.00\">value = [346, 30]</text>\n",
       "</g>\n",
       "<!-- 0&#45;&gt;1 -->\n",
       "<g id=\"edge1\" class=\"edge\">\n",
       "<title>0&#45;&gt;1</title>\n",
       "<path fill=\"none\" stroke=\"black\" d=\"M310.68,-400.88C304,-392.15 296.71,-382.62 289.75,-373.51\"/>\n",
       "<polygon fill=\"black\" stroke=\"black\" points=\"292.32,-371.12 283.46,-365.3 286.76,-375.37 292.32,-371.12\"/>\n",
       "<text text-anchor=\"middle\" x=\"280.16\" y=\"-386.38\" font-family=\"Times,serif\" font-size=\"14.00\">True</text>\n",
       "</g>\n",
       "<!-- 12 -->\n",
       "<g id=\"node13\" class=\"node\">\n",
       "<title>12</title>\n",
       "<polygon fill=\"#399de5\" stroke=\"black\" points=\"467.5,-357.5 362.5,-357.5 362.5,-304.5 467.5,-304.5 467.5,-357.5\"/>\n",
       "<text text-anchor=\"middle\" x=\"415\" y=\"-342.3\" font-family=\"Times,serif\" font-size=\"14.00\">gini = 0.0</text>\n",
       "<text text-anchor=\"middle\" x=\"415\" y=\"-327.3\" font-family=\"Times,serif\" font-size=\"14.00\">samples = 100</text>\n",
       "<text text-anchor=\"middle\" x=\"415\" y=\"-312.3\" font-family=\"Times,serif\" font-size=\"14.00\">value = [0, 100]</text>\n",
       "</g>\n",
       "<!-- 0&#45;&gt;12 -->\n",
       "<g id=\"edge12\" class=\"edge\">\n",
       "<title>0&#45;&gt;12</title>\n",
       "<path fill=\"none\" stroke=\"black\" d=\"M361.65,-400.88C370.42,-389.56 380.24,-376.88 389.04,-365.52\"/>\n",
       "<polygon fill=\"black\" stroke=\"black\" points=\"391.88,-367.57 395.23,-357.52 386.34,-363.28 391.88,-367.57\"/>\n",
       "<text text-anchor=\"middle\" x=\"398.39\" y=\"-378.62\" font-family=\"Times,serif\" font-size=\"14.00\">False</text>\n",
       "</g>\n",
       "<!-- 2 -->\n",
       "<g id=\"node3\" class=\"node\">\n",
       "<title>2</title>\n",
       "<polygon fill=\"#e78845\" stroke=\"black\" points=\"267,-261 67,-261 67,-193 267,-193 267,-261\"/>\n",
       "<text text-anchor=\"middle\" x=\"167\" y=\"-245.8\" font-family=\"Times,serif\" font-size=\"14.00\">ROLLING_DESCALING &lt;= 5.5</text>\n",
       "<text text-anchor=\"middle\" x=\"167\" y=\"-230.8\" font-family=\"Times,serif\" font-size=\"14.00\">gini = 0.104</text>\n",
       "<text text-anchor=\"middle\" x=\"167\" y=\"-215.8\" font-family=\"Times,serif\" font-size=\"14.00\">samples = 363</text>\n",
       "<text text-anchor=\"middle\" x=\"167\" y=\"-200.8\" font-family=\"Times,serif\" font-size=\"14.00\">value = [343, 20]</text>\n",
       "</g>\n",
       "<!-- 1&#45;&gt;2 -->\n",
       "<g id=\"edge2\" class=\"edge\">\n",
       "<title>1&#45;&gt;2</title>\n",
       "<path fill=\"none\" stroke=\"black\" d=\"M228.45,-296.88C220.51,-287.98 211.82,-278.24 203.54,-268.96\"/>\n",
       "<polygon fill=\"black\" stroke=\"black\" points=\"205.98,-266.43 196.71,-261.3 200.75,-271.09 205.98,-266.43\"/>\n",
       "</g>\n",
       "<!-- 7 -->\n",
       "<g id=\"node8\" class=\"node\">\n",
       "<title>7</title>\n",
       "<polygon fill=\"#74baed\" stroke=\"black\" points=\"413,-261 285,-261 285,-193 413,-193 413,-261\"/>\n",
       "<text text-anchor=\"middle\" x=\"349\" y=\"-245.8\" font-family=\"Times,serif\" font-size=\"14.00\">PT_THK &lt;= 18.365</text>\n",
       "<text text-anchor=\"middle\" x=\"349\" y=\"-230.8\" font-family=\"Times,serif\" font-size=\"14.00\">gini = 0.355</text>\n",
       "<text text-anchor=\"middle\" x=\"349\" y=\"-215.8\" font-family=\"Times,serif\" font-size=\"14.00\">samples = 13</text>\n",
       "<text text-anchor=\"middle\" x=\"349\" y=\"-200.8\" font-family=\"Times,serif\" font-size=\"14.00\">value = [3, 10]</text>\n",
       "</g>\n",
       "<!-- 1&#45;&gt;7 -->\n",
       "<g id=\"edge7\" class=\"edge\">\n",
       "<title>1&#45;&gt;7</title>\n",
       "<path fill=\"none\" stroke=\"black\" d=\"M287.55,-296.88C295.49,-287.98 304.18,-278.24 312.46,-268.96\"/>\n",
       "<polygon fill=\"black\" stroke=\"black\" points=\"315.25,-271.09 319.29,-261.3 310.02,-266.43 315.25,-271.09\"/>\n",
       "</g>\n",
       "<!-- 3 -->\n",
       "<g id=\"node4\" class=\"node\">\n",
       "<title>3</title>\n",
       "<polygon fill=\"#399de5\" stroke=\"black\" points=\"92,-149.5 0,-149.5 0,-96.5 92,-96.5 92,-149.5\"/>\n",
       "<text text-anchor=\"middle\" x=\"46\" y=\"-134.3\" font-family=\"Times,serif\" font-size=\"14.00\">gini = 0.0</text>\n",
       "<text text-anchor=\"middle\" x=\"46\" y=\"-119.3\" font-family=\"Times,serif\" font-size=\"14.00\">samples = 2</text>\n",
       "<text text-anchor=\"middle\" x=\"46\" y=\"-104.3\" font-family=\"Times,serif\" font-size=\"14.00\">value = [0, 2]</text>\n",
       "</g>\n",
       "<!-- 2&#45;&gt;3 -->\n",
       "<g id=\"edge3\" class=\"edge\">\n",
       "<title>2&#45;&gt;3</title>\n",
       "<path fill=\"none\" stroke=\"black\" d=\"M127.71,-192.88C113.76,-181.12 98.07,-167.89 84.2,-156.2\"/>\n",
       "<polygon fill=\"black\" stroke=\"black\" points=\"86.18,-153.29 76.27,-149.52 81.66,-158.64 86.18,-153.29\"/>\n",
       "</g>\n",
       "<!-- 4 -->\n",
       "<g id=\"node5\" class=\"node\">\n",
       "<title>4</title>\n",
       "<polygon fill=\"#e68843\" stroke=\"black\" points=\"248,-157 110,-157 110,-89 248,-89 248,-157\"/>\n",
       "<text text-anchor=\"middle\" x=\"179\" y=\"-141.8\" font-family=\"Times,serif\" font-size=\"14.00\">FUR_TIME &lt;= 226.0</text>\n",
       "<text text-anchor=\"middle\" x=\"179\" y=\"-126.8\" font-family=\"Times,serif\" font-size=\"14.00\">gini = 0.095</text>\n",
       "<text text-anchor=\"middle\" x=\"179\" y=\"-111.8\" font-family=\"Times,serif\" font-size=\"14.00\">samples = 361</text>\n",
       "<text text-anchor=\"middle\" x=\"179\" y=\"-96.8\" font-family=\"Times,serif\" font-size=\"14.00\">value = [343, 18]</text>\n",
       "</g>\n",
       "<!-- 2&#45;&gt;4 -->\n",
       "<g id=\"edge4\" class=\"edge\">\n",
       "<title>2&#45;&gt;4</title>\n",
       "<path fill=\"none\" stroke=\"black\" d=\"M170.9,-192.88C171.85,-184.78 172.88,-175.98 173.89,-167.47\"/>\n",
       "<polygon fill=\"black\" stroke=\"black\" points=\"177.39,-167.64 175.08,-157.3 170.44,-166.82 177.39,-167.64\"/>\n",
       "</g>\n",
       "<!-- 5 -->\n",
       "<g id=\"node6\" class=\"node\">\n",
       "<title>5</title>\n",
       "<polygon fill=\"#9ccef2\" stroke=\"black\" points=\"114,-53 22,-53 22,0 114,0 114,-53\"/>\n",
       "<text text-anchor=\"middle\" x=\"68\" y=\"-37.8\" font-family=\"Times,serif\" font-size=\"14.00\">gini = 0.444</text>\n",
       "<text text-anchor=\"middle\" x=\"68\" y=\"-22.8\" font-family=\"Times,serif\" font-size=\"14.00\">samples = 3</text>\n",
       "<text text-anchor=\"middle\" x=\"68\" y=\"-7.8\" font-family=\"Times,serif\" font-size=\"14.00\">value = [1, 2]</text>\n",
       "</g>\n",
       "<!-- 4&#45;&gt;5 -->\n",
       "<g id=\"edge5\" class=\"edge\">\n",
       "<title>4&#45;&gt;5</title>\n",
       "<path fill=\"none\" stroke=\"black\" d=\"M140.18,-88.95C129.11,-79.53 117.07,-69.27 106.05,-59.89\"/>\n",
       "<polygon fill=\"black\" stroke=\"black\" points=\"108.11,-57.05 98.23,-53.24 103.58,-62.38 108.11,-57.05\"/>\n",
       "</g>\n",
       "<!-- 6 -->\n",
       "<g id=\"node7\" class=\"node\">\n",
       "<title>6</title>\n",
       "<polygon fill=\"#e68742\" stroke=\"black\" points=\"244,-53 132,-53 132,0 244,0 244,-53\"/>\n",
       "<text text-anchor=\"middle\" x=\"188\" y=\"-37.8\" font-family=\"Times,serif\" font-size=\"14.00\">gini = 0.085</text>\n",
       "<text text-anchor=\"middle\" x=\"188\" y=\"-22.8\" font-family=\"Times,serif\" font-size=\"14.00\">samples = 358</text>\n",
       "<text text-anchor=\"middle\" x=\"188\" y=\"-7.8\" font-family=\"Times,serif\" font-size=\"14.00\">value = [342, 16]</text>\n",
       "</g>\n",
       "<!-- 4&#45;&gt;6 -->\n",
       "<g id=\"edge6\" class=\"edge\">\n",
       "<title>4&#45;&gt;6</title>\n",
       "<path fill=\"none\" stroke=\"black\" d=\"M182.15,-88.95C182.94,-80.62 183.8,-71.65 184.6,-63.2\"/>\n",
       "<polygon fill=\"black\" stroke=\"black\" points=\"188.08,-63.52 185.55,-53.24 181.12,-62.86 188.08,-63.52\"/>\n",
       "</g>\n",
       "<!-- 8 -->\n",
       "<g id=\"node9\" class=\"node\">\n",
       "<title>8</title>\n",
       "<polygon fill=\"#4da7e8\" stroke=\"black\" points=\"413.5,-157 274.5,-157 274.5,-89 413.5,-89 413.5,-157\"/>\n",
       "<text text-anchor=\"middle\" x=\"344\" y=\"-141.8\" font-family=\"Times,serif\" font-size=\"14.00\">PT_WGT &lt;= 15060.0</text>\n",
       "<text text-anchor=\"middle\" x=\"344\" y=\"-126.8\" font-family=\"Times,serif\" font-size=\"14.00\">gini = 0.165</text>\n",
       "<text text-anchor=\"middle\" x=\"344\" y=\"-111.8\" font-family=\"Times,serif\" font-size=\"14.00\">samples = 11</text>\n",
       "<text text-anchor=\"middle\" x=\"344\" y=\"-96.8\" font-family=\"Times,serif\" font-size=\"14.00\">value = [1, 10]</text>\n",
       "</g>\n",
       "<!-- 7&#45;&gt;8 -->\n",
       "<g id=\"edge8\" class=\"edge\">\n",
       "<title>7&#45;&gt;8</title>\n",
       "<path fill=\"none\" stroke=\"black\" d=\"M347.38,-192.88C346.98,-184.78 346.55,-175.98 346.13,-167.47\"/>\n",
       "<polygon fill=\"black\" stroke=\"black\" points=\"349.62,-167.12 345.63,-157.3 342.63,-167.46 349.62,-167.12\"/>\n",
       "</g>\n",
       "<!-- 11 -->\n",
       "<g id=\"node12\" class=\"node\">\n",
       "<title>11</title>\n",
       "<polygon fill=\"#e58139\" stroke=\"black\" points=\"524,-149.5 432,-149.5 432,-96.5 524,-96.5 524,-149.5\"/>\n",
       "<text text-anchor=\"middle\" x=\"478\" y=\"-134.3\" font-family=\"Times,serif\" font-size=\"14.00\">gini = 0.0</text>\n",
       "<text text-anchor=\"middle\" x=\"478\" y=\"-119.3\" font-family=\"Times,serif\" font-size=\"14.00\">samples = 2</text>\n",
       "<text text-anchor=\"middle\" x=\"478\" y=\"-104.3\" font-family=\"Times,serif\" font-size=\"14.00\">value = [2, 0]</text>\n",
       "</g>\n",
       "<!-- 7&#45;&gt;11 -->\n",
       "<g id=\"edge11\" class=\"edge\">\n",
       "<title>7&#45;&gt;11</title>\n",
       "<path fill=\"none\" stroke=\"black\" d=\"M390.88,-192.88C405.9,-181.01 422.8,-167.65 437.69,-155.88\"/>\n",
       "<polygon fill=\"black\" stroke=\"black\" points=\"440.05,-158.47 445.72,-149.52 435.71,-152.98 440.05,-158.47\"/>\n",
       "</g>\n",
       "<!-- 9 -->\n",
       "<g id=\"node10\" class=\"node\">\n",
       "<title>9</title>\n",
       "<polygon fill=\"#e58139\" stroke=\"black\" points=\"385,-53 293,-53 293,0 385,0 385,-53\"/>\n",
       "<text text-anchor=\"middle\" x=\"339\" y=\"-37.8\" font-family=\"Times,serif\" font-size=\"14.00\">gini = 0.0</text>\n",
       "<text text-anchor=\"middle\" x=\"339\" y=\"-22.8\" font-family=\"Times,serif\" font-size=\"14.00\">samples = 1</text>\n",
       "<text text-anchor=\"middle\" x=\"339\" y=\"-7.8\" font-family=\"Times,serif\" font-size=\"14.00\">value = [1, 0]</text>\n",
       "</g>\n",
       "<!-- 8&#45;&gt;9 -->\n",
       "<g id=\"edge9\" class=\"edge\">\n",
       "<title>8&#45;&gt;9</title>\n",
       "<path fill=\"none\" stroke=\"black\" d=\"M342.25,-88.95C341.82,-80.72 341.35,-71.85 340.9,-63.48\"/>\n",
       "<polygon fill=\"black\" stroke=\"black\" points=\"344.39,-63.04 340.36,-53.24 337.4,-63.41 344.39,-63.04\"/>\n",
       "</g>\n",
       "<!-- 10 -->\n",
       "<g id=\"node11\" class=\"node\">\n",
       "<title>10</title>\n",
       "<polygon fill=\"#399de5\" stroke=\"black\" points=\"501,-53 403,-53 403,0 501,0 501,-53\"/>\n",
       "<text text-anchor=\"middle\" x=\"452\" y=\"-37.8\" font-family=\"Times,serif\" font-size=\"14.00\">gini = 0.0</text>\n",
       "<text text-anchor=\"middle\" x=\"452\" y=\"-22.8\" font-family=\"Times,serif\" font-size=\"14.00\">samples = 10</text>\n",
       "<text text-anchor=\"middle\" x=\"452\" y=\"-7.8\" font-family=\"Times,serif\" font-size=\"14.00\">value = [0, 10]</text>\n",
       "</g>\n",
       "<!-- 8&#45;&gt;10 -->\n",
       "<g id=\"edge10\" class=\"edge\">\n",
       "<title>8&#45;&gt;10</title>\n",
       "<path fill=\"none\" stroke=\"black\" d=\"M381.77,-88.95C392.54,-79.53 404.26,-69.27 414.98,-59.89\"/>\n",
       "<polygon fill=\"black\" stroke=\"black\" points=\"417.37,-62.46 422.59,-53.24 412.76,-57.19 417.37,-62.46\"/>\n",
       "</g>\n",
       "</g>\n",
       "</svg>\n"
      ],
      "text/plain": [
       "<graphviz.files.Source at 0x7fa5987ddbe0>"
      ]
     },
     "metadata": {},
     "output_type": "display_data"
    }
   ],
   "source": [
    "v_feature_name = df_train_x.columns\n",
    "\n",
    "# 분리노드의 최소 자료수 설정\n",
    "tree_graph = DecisionTreeClassifier(max_depth=4, random_state=1234)\n",
    "tree_graph.fit(df_train_x, df_train_y)\n",
    "\n",
    "## Tree 구조 생성 및 저장: 모델 시각화\n",
    "export_graphviz(tree_graph, out_file = \"tree_leaf.dot\", feature_names = v_feature_name,\n",
    "                impurity=True, filled = True) # filled 색으로 영향력 표시\n",
    "\n",
    "with open(\"tree_leaf.dot\") as f:\n",
    "    dot_graph = f.read()\n",
    "display(graphviz.Source(dot_graph))"
   ]
  },
  {
   "cell_type": "markdown",
   "metadata": {},
   "source": [
    "# 랜덤포레스트"
   ]
  },
  {
   "cell_type": "code",
   "execution_count": 453,
   "metadata": {},
   "outputs": [
    {
     "name": "stdout",
     "output_type": "stream",
     "text": [
      "Accuracy on training set: 1.000\n",
      "Accuracy on test set: 0.937\n",
      "Comfusion Matrix: \n",
      "[[136   1]\n",
      " [ 12  56]]\n"
     ]
    }
   ],
   "source": [
    "rf_uncustomized = RandomForestClassifier(random_state=1234)\n",
    "rf_uncustomized.fit(df_train_x, df_train_y)\n",
    "\n",
    "rf_pred = rf_uncustomized.predict(df_test_x)\n",
    "\n",
    "# Train 데이터 정확도\n",
    "print(\"Accuracy on training set: {:.3f}\".format(rf_uncustomized.score(df_train_x, df_train_y)))\n",
    "\n",
    "#test데이터 정확도\n",
    "print(\"Accuracy on test set: {:.3f}\".format(rf_uncustomized.score(df_test_x, df_test_y)))\n",
    "# confusion Matrix\n",
    "print(\"Comfusion Matrix: \\n{}\".format(confusion_matrix(df_test_y, rf_pred)))"
   ]
  },
  {
   "cell_type": "code",
   "execution_count": 454,
   "metadata": {},
   "outputs": [
    {
     "data": {
      "text/html": [
       "<div>\n",
       "<style scoped>\n",
       "    .dataframe tbody tr th:only-of-type {\n",
       "        vertical-align: middle;\n",
       "    }\n",
       "\n",
       "    .dataframe tbody tr th {\n",
       "        vertical-align: top;\n",
       "    }\n",
       "\n",
       "    .dataframe thead th {\n",
       "        text-align: right;\n",
       "    }\n",
       "</style>\n",
       "<table border=\"1\" class=\"dataframe\">\n",
       "  <thead>\n",
       "    <tr style=\"text-align: right;\">\n",
       "      <th></th>\n",
       "      <th>Feature</th>\n",
       "      <th>Importance</th>\n",
       "    </tr>\n",
       "  </thead>\n",
       "  <tbody>\n",
       "    <tr>\n",
       "      <th>8</th>\n",
       "      <td>ROLLING_TEMP_T5</td>\n",
       "      <td>0.459</td>\n",
       "    </tr>\n",
       "    <tr>\n",
       "      <th>9</th>\n",
       "      <td>ROLLING_DESCALING</td>\n",
       "      <td>0.093</td>\n",
       "    </tr>\n",
       "    <tr>\n",
       "      <th>1</th>\n",
       "      <td>PT_WDTH</td>\n",
       "      <td>0.071</td>\n",
       "    </tr>\n",
       "    <tr>\n",
       "      <th>0</th>\n",
       "      <td>PT_THK</td>\n",
       "      <td>0.070</td>\n",
       "    </tr>\n",
       "    <tr>\n",
       "      <th>4</th>\n",
       "      <td>FUR_HZ_TEMP</td>\n",
       "      <td>0.064</td>\n",
       "    </tr>\n",
       "    <tr>\n",
       "      <th>2</th>\n",
       "      <td>PT_LTH</td>\n",
       "      <td>0.047</td>\n",
       "    </tr>\n",
       "    <tr>\n",
       "      <th>11</th>\n",
       "      <td>STEEL_KIND_T</td>\n",
       "      <td>0.046</td>\n",
       "    </tr>\n",
       "    <tr>\n",
       "      <th>3</th>\n",
       "      <td>PT_WGT</td>\n",
       "      <td>0.033</td>\n",
       "    </tr>\n",
       "    <tr>\n",
       "      <th>7</th>\n",
       "      <td>FUR_TIME</td>\n",
       "      <td>0.033</td>\n",
       "    </tr>\n",
       "    <tr>\n",
       "      <th>6</th>\n",
       "      <td>FUR_SZ_TIME</td>\n",
       "      <td>0.029</td>\n",
       "    </tr>\n",
       "    <tr>\n",
       "      <th>10</th>\n",
       "      <td>STEEL_KIND_C</td>\n",
       "      <td>0.027</td>\n",
       "    </tr>\n",
       "    <tr>\n",
       "      <th>5</th>\n",
       "      <td>FUR_HZ_TIME</td>\n",
       "      <td>0.026</td>\n",
       "    </tr>\n",
       "  </tbody>\n",
       "</table>\n",
       "</div>"
      ],
      "text/plain": [
       "              Feature  Importance\n",
       "8     ROLLING_TEMP_T5       0.459\n",
       "9   ROLLING_DESCALING       0.093\n",
       "1             PT_WDTH       0.071\n",
       "0              PT_THK       0.070\n",
       "4         FUR_HZ_TEMP       0.064\n",
       "2              PT_LTH       0.047\n",
       "11       STEEL_KIND_T       0.046\n",
       "3              PT_WGT       0.033\n",
       "7            FUR_TIME       0.033\n",
       "6         FUR_SZ_TIME       0.029\n",
       "10       STEEL_KIND_C       0.027\n",
       "5         FUR_HZ_TIME       0.026"
      ]
     },
     "execution_count": 454,
     "metadata": {},
     "output_type": "execute_result"
    }
   ],
   "source": [
    "v_feature_name = df_train_x.columns\n",
    "\n",
    "df_importance = pd.DataFrame()\n",
    "df_importance[\"Feature\"]=v_feature_name\n",
    "df_importance[\"Importance\"] = rf_uncustomized.feature_importances_\n",
    "\n",
    "df_importance.sort_values(\"Importance\", ascending=False, inplace = True)\n",
    "df_importance.round(3)"
   ]
  },
  {
   "cell_type": "markdown",
   "metadata": {},
   "source": [
    "## 랜덤포레스트에서 가장 중요한 변수는 ROLLING_TEMP_T5"
   ]
  },
  {
   "cell_type": "code",
   "execution_count": 455,
   "metadata": {},
   "outputs": [
    {
     "data": {
      "text/plain": [
       "Text(0, 0.5, '변수')"
      ]
     },
     "execution_count": 455,
     "metadata": {},
     "output_type": "execute_result"
    },
    {
     "name": "stderr",
     "output_type": "stream",
     "text": [
      "/Users/Daeho/opt/anaconda3/lib/python3.8/site-packages/matplotlib/backends/backend_agg.py:238: RuntimeWarning: Glyph 48320 missing from current font.\n",
      "  font.set_text(s, 0.0, flags=flags)\n",
      "/Users/Daeho/opt/anaconda3/lib/python3.8/site-packages/matplotlib/backends/backend_agg.py:238: RuntimeWarning: Glyph 49688 missing from current font.\n",
      "  font.set_text(s, 0.0, flags=flags)\n",
      "/Users/Daeho/opt/anaconda3/lib/python3.8/site-packages/matplotlib/backends/backend_agg.py:238: RuntimeWarning: Glyph 51473 missing from current font.\n",
      "  font.set_text(s, 0.0, flags=flags)\n",
      "/Users/Daeho/opt/anaconda3/lib/python3.8/site-packages/matplotlib/backends/backend_agg.py:238: RuntimeWarning: Glyph 50836 missing from current font.\n",
      "  font.set_text(s, 0.0, flags=flags)\n",
      "/Users/Daeho/opt/anaconda3/lib/python3.8/site-packages/matplotlib/backends/backend_agg.py:238: RuntimeWarning: Glyph 46020 missing from current font.\n",
      "  font.set_text(s, 0.0, flags=flags)\n",
      "/Users/Daeho/opt/anaconda3/lib/python3.8/site-packages/matplotlib/backends/backend_agg.py:201: RuntimeWarning: Glyph 48320 missing from current font.\n",
      "  font.set_text(s, 0, flags=flags)\n",
      "/Users/Daeho/opt/anaconda3/lib/python3.8/site-packages/matplotlib/backends/backend_agg.py:201: RuntimeWarning: Glyph 49688 missing from current font.\n",
      "  font.set_text(s, 0, flags=flags)\n",
      "/Users/Daeho/opt/anaconda3/lib/python3.8/site-packages/matplotlib/backends/backend_agg.py:201: RuntimeWarning: Glyph 51473 missing from current font.\n",
      "  font.set_text(s, 0, flags=flags)\n",
      "/Users/Daeho/opt/anaconda3/lib/python3.8/site-packages/matplotlib/backends/backend_agg.py:201: RuntimeWarning: Glyph 50836 missing from current font.\n",
      "  font.set_text(s, 0, flags=flags)\n",
      "/Users/Daeho/opt/anaconda3/lib/python3.8/site-packages/matplotlib/backends/backend_agg.py:201: RuntimeWarning: Glyph 46020 missing from current font.\n",
      "  font.set_text(s, 0, flags=flags)\n"
     ]
    },
    {
     "data": {
      "image/png": "[encoded data removed]",
      "text/plain": [
       "<Figure size 432x288 with 1 Axes>"
      ]
     },
     "metadata": {
      "needs_background": "light"
     },
     "output_type": "display_data"
    }
   ],
   "source": [
    "df_importance.sort_values(\"Importance\", ascending= True, inplace=True)\n",
    "coordinates=range(len(df_importance))\n",
    "plt.barh(y=coordinates, width = df_importance[\"Importance\"])\n",
    "plt.yticks(coordinates, df_importance[\"Feature\"])\n",
    "plt.xlabel(\"변수 중요도\")\n",
    "plt.ylabel(\"변수\")"
   ]
  },
  {
   "cell_type": "markdown",
   "metadata": {},
   "source": [
    "# 그래디언트 부스팅"
   ]
  },
  {
   "cell_type": "code",
   "execution_count": 456,
   "metadata": {},
   "outputs": [
    {
     "name": "stdout",
     "output_type": "stream",
     "text": [
      "Accuracy on training set: 1.000\n",
      "Accuracy on test set: 0.985\n",
      "Comfusion Matrix: \n",
      "[[136   1]\n",
      " [ 12  56]]\n"
     ]
    }
   ],
   "source": [
    "gb_uncustomized = GradientBoostingClassifier(random_state=1234)\n",
    "gb_uncustomized.fit(df_train_x, df_train_y)\n",
    "\n",
    "gb_pred = rf_uncustomized.predict(df_test_x)\n",
    "\n",
    "# Train 데이터 정확도\n",
    "print(\"Accuracy on training set: {:.3f}\".format(gb_uncustomized.score(df_train_x, df_train_y)))\n",
    "\n",
    "#test데이터 정확\n",
    "print(\"Accuracy on test set: {:.3f}\".format(gb_uncustomized.score(df_test_x, df_test_y)))\n",
    "\n",
    "# confusion Matrix\n",
    "print(\"Comfusion Matrix: \\n{}\".format(confusion_matrix(df_test_y, gb_pred)))"
   ]
  },
  {
   "cell_type": "code",
   "execution_count": 457,
   "metadata": {},
   "outputs": [
    {
     "data": {
      "text/html": [
       "<div>\n",
       "<style scoped>\n",
       "    .dataframe tbody tr th:only-of-type {\n",
       "        vertical-align: middle;\n",
       "    }\n",
       "\n",
       "    .dataframe tbody tr th {\n",
       "        vertical-align: top;\n",
       "    }\n",
       "\n",
       "    .dataframe thead th {\n",
       "        text-align: right;\n",
       "    }\n",
       "</style>\n",
       "<table border=\"1\" class=\"dataframe\">\n",
       "  <thead>\n",
       "    <tr style=\"text-align: right;\">\n",
       "      <th></th>\n",
       "      <th>Feature</th>\n",
       "      <th>Importance</th>\n",
       "    </tr>\n",
       "  </thead>\n",
       "  <tbody>\n",
       "    <tr>\n",
       "      <th>8</th>\n",
       "      <td>ROLLING_TEMP_T5</td>\n",
       "      <td>0.735</td>\n",
       "    </tr>\n",
       "    <tr>\n",
       "      <th>4</th>\n",
       "      <td>FUR_HZ_TEMP</td>\n",
       "      <td>0.082</td>\n",
       "    </tr>\n",
       "    <tr>\n",
       "      <th>0</th>\n",
       "      <td>PT_THK</td>\n",
       "      <td>0.061</td>\n",
       "    </tr>\n",
       "    <tr>\n",
       "      <th>9</th>\n",
       "      <td>ROLLING_DESCALING</td>\n",
       "      <td>0.053</td>\n",
       "    </tr>\n",
       "    <tr>\n",
       "      <th>1</th>\n",
       "      <td>PT_WDTH</td>\n",
       "      <td>0.019</td>\n",
       "    </tr>\n",
       "    <tr>\n",
       "      <th>7</th>\n",
       "      <td>FUR_TIME</td>\n",
       "      <td>0.019</td>\n",
       "    </tr>\n",
       "    <tr>\n",
       "      <th>3</th>\n",
       "      <td>PT_WGT</td>\n",
       "      <td>0.013</td>\n",
       "    </tr>\n",
       "    <tr>\n",
       "      <th>6</th>\n",
       "      <td>FUR_SZ_TIME</td>\n",
       "      <td>0.008</td>\n",
       "    </tr>\n",
       "    <tr>\n",
       "      <th>2</th>\n",
       "      <td>PT_LTH</td>\n",
       "      <td>0.007</td>\n",
       "    </tr>\n",
       "    <tr>\n",
       "      <th>5</th>\n",
       "      <td>FUR_HZ_TIME</td>\n",
       "      <td>0.003</td>\n",
       "    </tr>\n",
       "    <tr>\n",
       "      <th>10</th>\n",
       "      <td>STEEL_KIND_C</td>\n",
       "      <td>0.000</td>\n",
       "    </tr>\n",
       "    <tr>\n",
       "      <th>11</th>\n",
       "      <td>STEEL_KIND_T</td>\n",
       "      <td>0.000</td>\n",
       "    </tr>\n",
       "  </tbody>\n",
       "</table>\n",
       "</div>"
      ],
      "text/plain": [
       "              Feature  Importance\n",
       "8     ROLLING_TEMP_T5       0.735\n",
       "4         FUR_HZ_TEMP       0.082\n",
       "0              PT_THK       0.061\n",
       "9   ROLLING_DESCALING       0.053\n",
       "1             PT_WDTH       0.019\n",
       "7            FUR_TIME       0.019\n",
       "3              PT_WGT       0.013\n",
       "6         FUR_SZ_TIME       0.008\n",
       "2              PT_LTH       0.007\n",
       "5         FUR_HZ_TIME       0.003\n",
       "10       STEEL_KIND_C       0.000\n",
       "11       STEEL_KIND_T       0.000"
      ]
     },
     "execution_count": 457,
     "metadata": {},
     "output_type": "execute_result"
    }
   ],
   "source": [
    "v_feature_name = df_train_x.columns\n",
    "\n",
    "df_importance = pd.DataFrame()\n",
    "df_importance[\"Feature\"]=v_feature_name\n",
    "df_importance[\"Importance\"] = gb_uncustomized.feature_importances_\n",
    "\n",
    "df_importance.sort_values(\"Importance\", ascending=False, inplace = True)\n",
    "df_importance.round(3)"
   ]
  },
  {
   "cell_type": "markdown",
   "metadata": {},
   "source": [
    "## 랜덤포레스트 모델 결과에서 가장 중요한 변수는 ROLLING_TEMP_T5"
   ]
  },
  {
   "cell_type": "code",
   "execution_count": 458,
   "metadata": {},
   "outputs": [
    {
     "data": {
      "text/plain": [
       "Text(0, 0.5, '변수')"
      ]
     },
     "execution_count": 458,
     "metadata": {},
     "output_type": "execute_result"
    },
    {
     "name": "stderr",
     "output_type": "stream",
     "text": [
      "/Users/Daeho/opt/anaconda3/lib/python3.8/site-packages/matplotlib/backends/backend_agg.py:238: RuntimeWarning: Glyph 48320 missing from current font.\n",
      "  font.set_text(s, 0.0, flags=flags)\n",
      "/Users/Daeho/opt/anaconda3/lib/python3.8/site-packages/matplotlib/backends/backend_agg.py:238: RuntimeWarning: Glyph 49688 missing from current font.\n",
      "  font.set_text(s, 0.0, flags=flags)\n",
      "/Users/Daeho/opt/anaconda3/lib/python3.8/site-packages/matplotlib/backends/backend_agg.py:238: RuntimeWarning: Glyph 51473 missing from current font.\n",
      "  font.set_text(s, 0.0, flags=flags)\n",
      "/Users/Daeho/opt/anaconda3/lib/python3.8/site-packages/matplotlib/backends/backend_agg.py:238: RuntimeWarning: Glyph 50836 missing from current font.\n",
      "  font.set_text(s, 0.0, flags=flags)\n",
      "/Users/Daeho/opt/anaconda3/lib/python3.8/site-packages/matplotlib/backends/backend_agg.py:238: RuntimeWarning: Glyph 46020 missing from current font.\n",
      "  font.set_text(s, 0.0, flags=flags)\n",
      "/Users/Daeho/opt/anaconda3/lib/python3.8/site-packages/matplotlib/backends/backend_agg.py:201: RuntimeWarning: Glyph 48320 missing from current font.\n",
      "  font.set_text(s, 0, flags=flags)\n",
      "/Users/Daeho/opt/anaconda3/lib/python3.8/site-packages/matplotlib/backends/backend_agg.py:201: RuntimeWarning: Glyph 49688 missing from current font.\n",
      "  font.set_text(s, 0, flags=flags)\n",
      "/Users/Daeho/opt/anaconda3/lib/python3.8/site-packages/matplotlib/backends/backend_agg.py:201: RuntimeWarning: Glyph 51473 missing from current font.\n",
      "  font.set_text(s, 0, flags=flags)\n",
      "/Users/Daeho/opt/anaconda3/lib/python3.8/site-packages/matplotlib/backends/backend_agg.py:201: RuntimeWarning: Glyph 50836 missing from current font.\n",
      "  font.set_text(s, 0, flags=flags)\n",
      "/Users/Daeho/opt/anaconda3/lib/python3.8/site-packages/matplotlib/backends/backend_agg.py:201: RuntimeWarning: Glyph 46020 missing from current font.\n",
      "  font.set_text(s, 0, flags=flags)\n"
     ]
    },
    {
     "data": {
      "image/png": "[encoded data removed]",
      "text/plain": [
       "<Figure size 432x288 with 1 Axes>"
      ]
     },
     "metadata": {
      "needs_background": "light"
     },
     "output_type": "display_data"
    }
   ],
   "source": [
    "df_importance.sort_values(\"Importance\", ascending= True, inplace=True)\n",
    "coordinates=range(len(df_importance))\n",
    "plt.barh(y=coordinates, width = df_importance[\"Importance\"])\n",
    "plt.yticks(coordinates, df_importance[\"Feature\"])\n",
    "plt.xlabel(\"변수 중요도\")\n",
    "plt.ylabel(\"변수\")"
   ]
  },
  {
   "cell_type": "code",
   "execution_count": 459,
   "metadata": {},
   "outputs": [
    {
     "name": "stdout",
     "output_type": "stream",
     "text": [
      "Accuracy:0.873\n",
      "\n",
      "Confusion Matrix: \n",
      "[[126  11]\n",
      " [ 15  53]]\n"
     ]
    }
   ],
   "source": [
    "# 로지스틱 회귀분석\n",
    "print(\"Accuracy:{0:.3f}\\n\".format(accuracy_score(df_test[\"SCALE\"], y_pred_class)))\n",
    "print(\"Confusion Matrix: \\n{}\".format(confusion_matrix(df_test[\"SCALE\"], y_pred_class)))"
   ]
  },
  {
   "cell_type": "code",
   "execution_count": 460,
   "metadata": {},
   "outputs": [
    {
     "name": "stdout",
     "output_type": "stream",
     "text": [
      "Accuracy:0.956\n",
      "\n",
      "Confusion Matrix: \n",
      "[[128   9]\n",
      " [  4  64]]\n"
     ]
    }
   ],
   "source": [
    "# 의사결정나무\n",
    "print(\"Accuracy:{0:.3f}\\n\".format(tree_graph.score(df_test_x, df_test_y)))\n",
    "print(\"Confusion Matrix: \\n{}\".format(confusion_matrix(df_test_y, tree_pred)))"
   ]
  },
  {
   "cell_type": "code",
   "execution_count": 461,
   "metadata": {},
   "outputs": [
    {
     "name": "stdout",
     "output_type": "stream",
     "text": [
      "Accuracy on test set: 0.937\n",
      "Comfusion Matrix: \n",
      "[[136   1]\n",
      " [ 12  56]]\n"
     ]
    }
   ],
   "source": [
    "# 랜덤포레스트\n",
    "print(\"Accuracy on test set: {:.3f}\".format(rf_uncustomized.score(df_test_x, df_test_y)))\n",
    "print(\"Comfusion Matrix: \\n{}\".format(confusion_matrix(df_test_y, rf_pred)))"
   ]
  },
  {
   "cell_type": "code",
   "execution_count": 462,
   "metadata": {},
   "outputs": [
    {
     "name": "stdout",
     "output_type": "stream",
     "text": [
      "Accuracy on test set: 0.985\n",
      "Comfusion Matrix: \n",
      "[[136   1]\n",
      " [ 12  56]]\n"
     ]
    }
   ],
   "source": [
    "\n",
    "# 그레디언트 부스팅\n",
    "print(\"Accuracy on test set: {:.3f}\".format(gb_uncustomized.score(df_test_x, df_test_y)))\n",
    "print(\"Comfusion Matrix: \\n{}\".format(confusion_matrix(df_test_y, gb_pred)))"
   ]
  }
 ],
 "metadata": {
  "kernelspec": {
   "display_name": "Python 3",
   "language": "python",
   "name": "python3"
  },
  "language_info": {
   "codemirror_mode": {
    "name": "ipython",
    "version": 3
   },
   "file_extension": ".py",
   "mimetype": "text/x-python",
   "name": "python",
   "nbconvert_exporter": "python",
   "pygments_lexer": "ipython3",
   "version": "3.8.5"
  }
 },
 "nbformat": 4,
 "nbformat_minor": 4
}
