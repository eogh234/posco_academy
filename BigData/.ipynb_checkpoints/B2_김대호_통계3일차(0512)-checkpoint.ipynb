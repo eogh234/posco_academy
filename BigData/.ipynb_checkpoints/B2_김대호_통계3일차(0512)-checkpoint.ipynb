{
 "cells": [
  {
   "cell_type": "markdown",
   "metadata": {},
   "source": [
    "## 1. 평균 검정 (모집단 표준편차를 모르는 경우)\n",
    "\n",
    "### H0 = 고객만족도 평균은 78.0이다.\n",
    "### H1 = 고객만족도 평균은 78.0이 아니다.\n",
    "\n",
    "### 유의수준 = 5%\n",
    "### 임계값 = -1.96 ~ 1.96\n"
   ]
  },
  {
   "cell_type": "code",
   "execution_count": 17,
   "metadata": {},
   "outputs": [
    {
     "name": "stdout",
     "output_type": "stream",
     "text": [
      "1-Sample t-test\n",
      "t통계량 : [3.379]\n",
      "p-value : [0.008]\n"
     ]
    }
   ],
   "source": [
    "import numpy as np\n",
    "from scipy import stats\n",
    "import pandas as pd\n",
    "import statsmodels.api as sm\n",
    "import matplotlib.pyplot as plt\n",
    "import seaborn as sns\n",
    "from statsmodels.stats.proportion import proportions_ztest\n",
    "\n",
    "df = pd.DataFrame({\"sample\": [85.0, 79.0, 79.1, 79.9, 81.6, 78.6, 85.4, 83.4, 78.1, 79.2]})\n",
    "\n",
    "t_result = stats.ttest_1samp(df, 78.0)\n",
    "\n",
    "t, p = t_result.statistic.round(3), t_result.pvalue.round(3)\n",
    "\n",
    "print(\"1-Sample t-test\")\n",
    "print(\"t통계량 : {}\".format(t))\n",
    "print(\"p-value : {}\".format(p))"
   ]
  },
  {
   "cell_type": "markdown",
   "metadata": {},
   "source": [
    "## t = 3.379\n",
    "## p-value = 0.008\n",
    "### p-value가 0.05 보다 작으므로 귀무가설 기각\n",
    "\n",
    "### 결론 : 고객만족도 평균은 78.0이 아니다."
   ]
  },
  {
   "cell_type": "markdown",
   "metadata": {},
   "source": [
    "## 2. 평균 검정 (2 Sample t-test)\n",
    "\n",
    "### H0 = 공급자 간에 모평균에 차이가 없다.\n",
    "### H1 = 공급자 간에 모평균에 차이가 있다.\n",
    "\n",
    "### 유의수준 = 5%\n",
    "### 임계값 = -1.96 ~ 1.96\n"
   ]
  },
  {
   "cell_type": "code",
   "execution_count": 18,
   "metadata": {},
   "outputs": [
    {
     "name": "stdout",
     "output_type": "stream",
     "text": [
      "2-Sample t-test\n",
      "t: [1.7]\n",
      "p: [0.111]\n"
     ]
    }
   ],
   "source": [
    "df1 = pd.DataFrame({'sample': [1.883, 1.715, 1.799, 1.768, 1.711, 1.832, 1.427, 1.344]})\n",
    "df2 = pd.DataFrame({'sample': [1.435, 1.572, 1.486, 1.511, 1.457, 1.548, 1.404, 1.883]})\n",
    "\n",
    "shap1, shap2=stats.levene(df1['sample'],df2['sample'])\n",
    "\n",
    "t_result = stats.ttest_ind(df1, df2)\n",
    "\n",
    "t, p = t_result.statistic.round(3), t_result.pvalue.round(3)\n",
    "\n",
    "print(\"2-Sample t-test\")\n",
    "print(\"t: {}\".format(t))\n",
    "print(\"p: {}\".format(p))"
   ]
  },
  {
   "cell_type": "markdown",
   "metadata": {},
   "source": [
    "### 2 Sample T-Test 가정\n",
    "1. 각 데이터는 독립적이고 랜덤으로 샘플링 되어야 한다\n",
    "2. 각 데이터는 두 그룹이 각각 정규분포를 한다.\n",
    "3. 각 그룹의 분산은 같다.\n",
    "\n",
    "### Shapiro 를 이용해 정규성을 판단 => df1 이 정규 분포를 따르지 않는다.\n",
    "### 그러나 충분한 표본과 중심극한의 원리를 가정하여 정규 분포를 따른다는 가정을 한다.\n",
    "### 이후에 levene test 를 이용해 등분산성 만족을 확인한다.\n",
    "\n",
    "## 마지막으로 Student T Test를 수행하여 p - value가 0.111임을 확인했다.\n",
    "\n",
    "## t = 1.7\n",
    "## p-value = 0.111\n",
    "### p-value가 0.05 보다 크므로 대립가설 기각\n",
    "\n",
    "### 결론 : 공급자 간에 모평균에 차이가 없다.\n",
    "### => 공급자별 제품 두께로는 차별점을 구할 수 없으니 제품의 소재나 무게 등 다른 변수들을 고려하여 다시 평균 검정을 진행한다."
   ]
  },
  {
   "cell_type": "markdown",
   "metadata": {},
   "source": [
    "## 3. 평균 검정 (Paired t-test)\n",
    "\n",
    "### H0 = 학원가기 전과 후에 영어점수 차이가 없다.\n",
    "### H1 = 학원가기 전과 후에 영어점수 차이가 있다.\n",
    "\n",
    "### 유의수준 = 5%\n",
    "### 임계값 = -1.96 1.96\n"
   ]
  },
  {
   "cell_type": "code",
   "execution_count": 19,
   "metadata": {},
   "outputs": [
    {
     "name": "stdout",
     "output_type": "stream",
     "text": [
      "Paired t-test\n",
      "t: [-2.266]\n",
      "p: [0.05]\n"
     ]
    }
   ],
   "source": [
    "df1 = pd.DataFrame({\"before\": [720, 589, 780, 648, 720, 589, 780, 648, 780, 648]})\n",
    "df2 = pd.DataFrame({\"after\": [710, 580, 787, 712, 750, 600, 782, 670, 790, 680]})\n",
    "\n",
    "t_result = stats.ttest_rel(df1, df2)\n",
    "\n",
    "t, p = t_result.statistic.round(3), t_result.pvalue.round(3)\n",
    "\n",
    "print(\"Paired t-test\")\n",
    "print(\"t: {}\".format(t))\n",
    "print(\"p: {}\".format(p))"
   ]
  },
  {
   "cell_type": "markdown",
   "metadata": {},
   "source": [
    "## t = -2.266\n",
    "## p-value = 0.05\n",
    "### p-value가 0.05로 유의수준 0.05와 같다.  \n",
    "\n",
    "### 결론 : 학원가기 전과 후에 영어점수 평균 차이가 없다\n",
    "### => 성적이 향상된 회사원들의 공통점을 찾아본다."
   ]
  },
  {
   "cell_type": "markdown",
   "metadata": {},
   "source": [
    "## 4. 1 Proportion test\n",
    "\n",
    "### H0 = 앞면이 나올 확률은 50%이다.\n",
    "### H1 = 앞면이 나올 확률은 50%가 아니다.\n",
    "\n",
    "### 유의수준 = 5%\n",
    "### 임계값 = -1.96 1.96\n"
   ]
  },
  {
   "cell_type": "code",
   "execution_count": 20,
   "metadata": {},
   "outputs": [
    {
     "name": "stdout",
     "output_type": "stream",
     "text": [
      "1 Proportion test\n",
      "z: -2.041\n",
      "p: 0.041\n"
     ]
    }
   ],
   "source": [
    "count = 40\n",
    "n_obs = 100\n",
    "value = 0.5\n",
    "\n",
    "stat, pval = proportions_ztest(count, n_obs, value)\n",
    "\n",
    "print(\"1 Proportion test\")\n",
    "print('z: {0:0.3f}'.format(stat))\n",
    "print('p: {0:0.3f}'.format(pval))"
   ]
  },
  {
   "cell_type": "markdown",
   "metadata": {},
   "source": [
    "## z = -2.041\n",
    "## p-value = 0.041\n",
    "### p-value가 0.05 보다 작으므로 귀무가설 기각\n",
    "\n",
    "### 결론 : 동전 앞면이 나올 확률은 50%가 아니다.\n",
    "### => 동전을 던졌을 때 앞면이 더 많이 나오고 있으므로 동전을 주조할 때\n",
    "### 동전의 무게나 모양 등의 공정에 문제가 있는지 확인해보아야 한다."
   ]
  },
  {
   "cell_type": "markdown",
   "metadata": {},
   "source": [
    "## 5. 2 Proportion test\n",
    "\n",
    "### H0 = 두 공장의 불량률은 같다\n",
    "### H1 = 두 공장의 불량률은 같지 않다.\n",
    "\n",
    "### 유의수준 = 5%\n",
    "### 임계값 = -1.96 1.96\n"
   ]
  },
  {
   "cell_type": "code",
   "execution_count": 21,
   "metadata": {},
   "outputs": [
    {
     "name": "stdout",
     "output_type": "stream",
     "text": [
      "2 Proportion test\n",
      "z: -0.187\n",
      "p: 0.852\n"
     ]
    }
   ],
   "source": [
    "count = np.array([14, 15])\n",
    "nobs = np.array([1200, 1200])\n",
    "\n",
    "stat, pval = proportions_ztest(count, nobs)\n",
    "\n",
    "print(\"2 Proportion test\")\n",
    "\n",
    "print('z: {0:0.3f}'.format(stat))\n",
    "print('p: {0:0.3f}'.format(pval))"
   ]
  },
  {
   "cell_type": "markdown",
   "metadata": {},
   "source": [
    "## z = -0.187\n",
    "## p-value = 0.852\n",
    "### p-value가 0.05 보다 크므로 대립가설 기각\n",
    "\n",
    "### 결론 : 두 공장의 불량률은 같다.\n",
    "### => 동일한 제품에 대한 두 공장의 불량률이 같기 때문에 생산량 할당에 대한 고민없이 하나의 공장처럼 운영할 수 있다."
   ]
  },
  {
   "cell_type": "markdown",
   "metadata": {},
   "source": [
    "## 6. 카이제곱 검정\n",
    "\n",
    "### H0 = 제품별 이미지에 대해 차이가 없다.\n",
    "### H1 = 제품별 이미지에 대해 차이가 있다.\n",
    "\n",
    "### 유의수준 = 5%\n",
    "### 임계값 = -1.96 1.96"
   ]
  },
  {
   "cell_type": "code",
   "execution_count": 22,
   "metadata": {},
   "outputs": [
    {
     "name": "stdout",
     "output_type": "stream",
     "text": [
      "chi-square test\n",
      " chisq: 98.274\n",
      " p: 0.000\n",
      " degree pf freedom: 30\n",
      " expected value: \n",
      "[[11.004  8.21   5.24   3.843  1.921  9.782]\n",
      " [ 8.528  6.362  4.061  2.978  1.489  7.581]\n",
      " [10.454  7.799  4.978  3.651  1.825  9.293]\n",
      " [ 8.253  6.157  3.93   2.882  1.441  7.336]\n",
      " [ 7.978  5.952  3.799  2.786  1.393  7.092]\n",
      " [ 8.803  6.568  4.192  3.074  1.537  7.825]\n",
      " [ 7.978  5.952  3.799  2.786  1.393  7.092]]\n"
     ]
    }
   ],
   "source": [
    "df = pd.DataFrame({'AS':[18, 8, 4, 4, 3, 3], '가격':[1, 2, 1, 1, 1, 25], '성능': [8, 14, 3, 2 ,3 ,8], '확장성': [7, 5, 4, 3, 1, 10], '디자인': [10, 5, 9, 2, 1, 2], '안정성':[9,9,5,7,1,1], '기능성':[10,4,4,3,1,7]})\n",
    "\n",
    "chi, pval, dof, expected = stats.chi2_contingency(df.T)\n",
    "\n",
    "print(\"chi-square test\")\n",
    "print(' chisq: {0:0.3f}'.format(chi))\n",
    "print(' p: {0:0.3f}'.format(pval))\n",
    "print(' degree pf freedom: {}'.format(dof))\n",
    "print(' expected value: \\n{}'.format(expected.round(3)))"
   ]
  },
  {
   "cell_type": "markdown",
   "metadata": {},
   "source": [
    "## chisq = 98.274\n",
    "## p-value = 0.000\n",
    "## 자유도 = 30\n",
    "### p-value가 0.05 보다 작으므로 귀무가설 기각\n",
    "\n",
    "### 결론 : 제품에 대한 이미지에 차이가 있다. 즉 제품별로 가지고 있는 장점의 차이가 있다.\n",
    "### => 소비자는 자신에게 필요한 기능을 생각하고 제품별로 비교를 해서 선택해야 한다."
   ]
  },
  {
   "cell_type": "markdown",
   "metadata": {},
   "source": [
    "## 7. One Way ANOVA\n",
    "\n",
    "### H0 = 강종별 2차정련 시간에 차이가 없다.\n",
    "### H1 = 강종별 2차정련 시간에 차이가 있다.\n",
    "\n",
    "### H0 = type별 2차정련 시간에 차이가 없다.\n",
    "### H1 = type별 2차정련 시간에 차이가 있다.\n",
    "\n",
    "### 유의수준 = 5%\n",
    "### 임계값 = -1.96 1.96\n"
   ]
  },
  {
   "cell_type": "code",
   "execution_count": 23,
   "metadata": {},
   "outputs": [
    {
     "name": "stdout",
     "output_type": "stream",
     "text": [
      "One-way\n",
      "F 통계량 : 9.654\n",
      "p-value : 0.005\n"
     ]
    },
    {
     "data": {
      "image/png": "[encoded data removed]",
      "text/plain": [
       "<Figure size 432x288 with 1 Axes>"
      ]
     },
     "metadata": {
      "needs_background": "light"
     },
     "output_type": "display_data"
    }
   ],
   "source": [
    "ds_anova = pd.read_csv(\"ANOVA.csv\", engine=\"python\")\n",
    "df_type = ds_anova[['time', 'type']]\n",
    "df_type.groupby('type').boxplot('time')\n",
    "f_result = stats.f_oneway(list(df_type.groupby('type'))[0][1]['time'], list(df_type.groupby('type'))[1][1]['time'])\n",
    "f, p = f_result.statistic.round(3), f_result.pvalue.round(3)\n",
    "\n",
    "print(\"One-way\")\n",
    "print(\"F 통계량 : {}\".format(f))\n",
    "print(\"p-value : {}\".format(p))"
   ]
  },
  {
   "cell_type": "markdown",
   "metadata": {},
   "source": [
    "### type 별 2차 정련 시간의 p-value는 0.005로 0.05보다 작다.\n",
    "### 그러므로 귀무가설을 기각하여 type에 따라 2차 정련 시간의 차이가 존재한다."
   ]
  },
  {
   "cell_type": "code",
   "execution_count": 24,
   "metadata": {},
   "outputs": [
    {
     "name": "stdout",
     "output_type": "stream",
     "text": [
      "One-way\n",
      "F 통계량 : 4.172\n",
      "p-value : 0.019\n"
     ]
    },
    {
     "data": {
      "image/png": "[encoded data removed]",
      "text/plain": [
       "<Figure size 432x288 with 1 Axes>"
      ]
     },
     "metadata": {
      "needs_background": "light"
     },
     "output_type": "display_data"
    }
   ],
   "source": [
    "ds_anova = pd.read_csv(\"ANOVA.csv\", engine=\"python\")\n",
    "df_gangjong = ds_anova[['time', 'gangjong']]\n",
    "df_gangjong.groupby('gangjong').boxplot('time')\n",
    "f_result = stats.f_oneway(list(df_gangjong.groupby('gangjong'))[0][1]['time'], list(df_gangjong.groupby('gangjong'))[1][1]['time'], list(df_gangjong.groupby('gangjong'))[2][1]['time'], list(df_gangjong.groupby('gangjong'))[3][1]['time'])\n",
    "f, p = f_result.statistic.round(3), f_result.pvalue.round(3)\n",
    "\n",
    "print(\"One-way\")\n",
    "print(\"F 통계량 : {}\".format(f))\n",
    "print(\"p-value : {}\".format(p))"
   ]
  },
  {
   "cell_type": "markdown",
   "metadata": {},
   "source": [
    "### 강종 별 2차 정련 시간의 p-value는 0.088로 0.05보다 크다.\n",
    "### 그러므로 대립가설을 기각하여 강종에 따라 2차 정련 시간의 차이는 존재하지 않는다."
   ]
  },
  {
   "cell_type": "markdown",
   "metadata": {},
   "source": [
    "## 8. 상관 분석\n",
    "\n",
    "### 초코칩의 강도와 재료 반죽 온도 간에 관계를 분석하기 위한 상관분석\n",
    "### 두 변수 간의 상관 관계를 파악하기 위해 상관 분석을 진행\n"
   ]
  },
  {
   "cell_type": "code",
   "execution_count": 25,
   "metadata": {},
   "outputs": [
    {
     "name": "stdout",
     "output_type": "stream",
     "text": [
      "Correlation Analysis\n",
      "corr: -0.723\n",
      "p-value:0.000\n"
     ]
    }
   ],
   "source": [
    "df1 = [37.6, 38.6, 37.2, 36.4, 38.6, 39, 37.2, 36.1, 35.9, 37.1, 36.9, 37.5, 36.3, 38.1, 39, 36.9, 36.8, 37.6, 33, 33.5]\n",
    "df2 = [14, 15, 14, 16, 17, 14, 17, 16, 15, 16, 14, 16, 18, 13, 15, 17, 14, 16, 20 ,21]\n",
    "\n",
    "corr, pval = stats.pearsonr(df1, df2)\n",
    "\n",
    "print(\"Correlation Analysis\")\n",
    "print(\"corr: {0:0.3f}\".format(corr)) # 상관계수\n",
    "print(\"p-value:{0:0.3f}\".format(pval)) # P < 0.05 -> 의미가 있다"
   ]
  },
  {
   "cell_type": "markdown",
   "metadata": {},
   "source": [
    "### correlation 이 -0.723 이므로 음의선형관계를 갖는다.\n",
    "### p-value가 0이므로 이 상관관계는 '의미 있다'라고 해석할 수 있다.\n",
    "### 결론 : 재료 반죽의 온도에 따라서 초코칩의 강도에 꽤 큰 영향을 준다고 생각할 수 있다."
   ]
  },
  {
   "cell_type": "markdown",
   "metadata": {},
   "source": [
    "## 9. Simple Linear Regression\n",
    "\n",
    "### 초코칩의 강도와 굽는 시간과의 인과관계를 분석하기 위한 회귀분석 실시와 회귀식 도출\n",
    "\n",
    "### 1. 데이터 구성하기"
   ]
  },
  {
   "cell_type": "code",
   "execution_count": 26,
   "metadata": {},
   "outputs": [],
   "source": [
    "import pandas as pd\n",
    "import numpy as np\n",
    "import matplotlib.pyplot as plt\n",
    "import seaborn as sns\n",
    "\n",
    "from statsmodels.formula.api import ols\n",
    "from statsmodels.api import qqplot, add_constant\n",
    "import statsmodels.formula.api as smf"
   ]
  },
  {
   "cell_type": "code",
   "execution_count": 27,
   "metadata": {},
   "outputs": [
    {
     "data": {
      "text/plain": [
       "<AxesSubplot:xlabel='strength', ylabel='b_time'>"
      ]
     },
     "execution_count": 27,
     "metadata": {},
     "output_type": "execute_result"
    },
    {
     "data": {
      "image/png": "[encoded data removed]",
      "text/plain": [
       "<Figure size 432x288 with 1 Axes>"
      ]
     },
     "metadata": {
      "needs_background": "light"
     },
     "output_type": "display_data"
    }
   ],
   "source": [
    "df_raw = pd.read_csv(\"correaltion.csv\")\n",
    "\n",
    "df_raw.plot.scatter(x = \"strength\", y = \"b_time\")"
   ]
  },
  {
   "cell_type": "code",
   "execution_count": 28,
   "metadata": {},
   "outputs": [
    {
     "data": {
      "text/html": [
       "<div>\n",
       "<style scoped>\n",
       "    .dataframe tbody tr th:only-of-type {\n",
       "        vertical-align: middle;\n",
       "    }\n",
       "\n",
       "    .dataframe tbody tr th {\n",
       "        vertical-align: top;\n",
       "    }\n",
       "\n",
       "    .dataframe thead th {\n",
       "        text-align: right;\n",
       "    }\n",
       "</style>\n",
       "<table border=\"1\" class=\"dataframe\">\n",
       "  <thead>\n",
       "    <tr style=\"text-align: right;\">\n",
       "      <th></th>\n",
       "      <th>strength</th>\n",
       "      <th>temp</th>\n",
       "      <th>Quantity</th>\n",
       "      <th>b_time</th>\n",
       "      <th>Oven_TMP</th>\n",
       "    </tr>\n",
       "  </thead>\n",
       "  <tbody>\n",
       "    <tr>\n",
       "      <th>strength</th>\n",
       "      <td>1.000</td>\n",
       "      <td>-0.899</td>\n",
       "      <td>0.703</td>\n",
       "      <td>0.966</td>\n",
       "      <td>0.037</td>\n",
       "    </tr>\n",
       "    <tr>\n",
       "      <th>temp</th>\n",
       "      <td>-0.899</td>\n",
       "      <td>1.000</td>\n",
       "      <td>-0.639</td>\n",
       "      <td>-0.873</td>\n",
       "      <td>-0.064</td>\n",
       "    </tr>\n",
       "    <tr>\n",
       "      <th>Quantity</th>\n",
       "      <td>0.703</td>\n",
       "      <td>-0.639</td>\n",
       "      <td>1.000</td>\n",
       "      <td>0.690</td>\n",
       "      <td>-0.151</td>\n",
       "    </tr>\n",
       "    <tr>\n",
       "      <th>b_time</th>\n",
       "      <td>0.966</td>\n",
       "      <td>-0.873</td>\n",
       "      <td>0.690</td>\n",
       "      <td>1.000</td>\n",
       "      <td>0.099</td>\n",
       "    </tr>\n",
       "    <tr>\n",
       "      <th>Oven_TMP</th>\n",
       "      <td>0.037</td>\n",
       "      <td>-0.064</td>\n",
       "      <td>-0.151</td>\n",
       "      <td>0.099</td>\n",
       "      <td>1.000</td>\n",
       "    </tr>\n",
       "  </tbody>\n",
       "</table>\n",
       "</div>"
      ],
      "text/plain": [
       "          strength   temp  Quantity  b_time  Oven_TMP\n",
       "strength     1.000 -0.899     0.703   0.966     0.037\n",
       "temp        -0.899  1.000    -0.639  -0.873    -0.064\n",
       "Quantity     0.703 -0.639     1.000   0.690    -0.151\n",
       "b_time       0.966 -0.873     0.690   1.000     0.099\n",
       "Oven_TMP     0.037 -0.064    -0.151   0.099     1.000"
      ]
     },
     "execution_count": 28,
     "metadata": {},
     "output_type": "execute_result"
    }
   ],
   "source": [
    "df_raw.corr(method = \"pearson\").round(3)"
   ]
  },
  {
   "cell_type": "code",
   "execution_count": 29,
   "metadata": {},
   "outputs": [
    {
     "name": "stdout",
     "output_type": "stream",
     "text": [
      "                            OLS Regression Results                            \n",
      "==============================================================================\n",
      "Dep. Variable:                 b_time   R-squared:                       0.933\n",
      "Model:                            OLS   Adj. R-squared:                  0.932\n",
      "Method:                 Least Squares   F-statistic:                     1169.\n",
      "Date:                Thu, 13 May 2021   Prob (F-statistic):           4.60e-51\n",
      "Time:                        02:55:47   Log-Likelihood:                 221.75\n",
      "No. Observations:                  86   AIC:                            -439.5\n",
      "Df Residuals:                      84   BIC:                            -434.6\n",
      "Df Model:                           1                                         \n",
      "Covariance Type:            nonrobust                                         \n",
      "==============================================================================\n",
      "                 coef    std err          t      P>|t|      [0.025      0.975]\n",
      "------------------------------------------------------------------------------\n",
      "Intercept      0.0012      0.020      0.063      0.950      -0.038       0.041\n",
      "strength       0.0209      0.001     34.186      0.000       0.020       0.022\n",
      "==============================================================================\n",
      "Omnibus:                        6.509   Durbin-Watson:                   1.504\n",
      "Prob(Omnibus):                  0.039   Jarque-Bera (JB):                2.713\n",
      "Skew:                           0.022   Prob(JB):                        0.258\n",
      "Kurtosis:                       2.131   Cond. No.                         320.\n",
      "==============================================================================\n",
      "\n",
      "Notes:\n",
      "[1] Standard Errors assume that the covariance matrix of the errors is correctly specified.\n"
     ]
    }
   ],
   "source": [
    "reg_model = smf.ols(formula = \"b_time ~ strength\", data = df_raw)\n",
    "reg_result = reg_model.fit()\n",
    "print(reg_result.summary())"
   ]
  },
  {
   "cell_type": "markdown",
   "metadata": {},
   "source": [
    "##  분석 자료 수 = 86\n",
    "## 잔차 자유도 = 84\n",
    "## 모델 자유도 = 1\n",
    "\n",
    "### p 값이 유의 수준 0.05보다 작으므로 회귀모델로서 유의하다.\n",
    "### 설명력 : 0.933 => 초코칩의 강도로 굽는 시간의 변동의 93.3%를 설명할 수 있다.\n",
    "\n",
    "## 회귀계수 검정\n",
    "### Strength의 P 값이 0.05보다 작으므로 유의하다.\n",
    "### 절편의 유의성은 검토하지 않는다."
   ]
  },
  {
   "cell_type": "code",
   "execution_count": 30,
   "metadata": {},
   "outputs": [
    {
     "data": {
      "text/plain": [
       "<matplotlib.lines.Line2D at 0x7fcd8cc90ee0>"
      ]
     },
     "execution_count": 30,
     "metadata": {},
     "output_type": "execute_result"
    },
    {
     "data": {
      "image/png": "[encoded data removed]",
      "text/plain": [
       "<Figure size 432x288 with 1 Axes>"
      ]
     },
     "metadata": {
      "needs_background": "light"
     },
     "output_type": "display_data"
    }
   ],
   "source": [
    "plt.scatter(reg_result.fittedvalues, reg_result.resid)\n",
    "plt.xlabel(\"fitted value\")\n",
    "plt.ylabel(\"residual\")\n",
    "plt.axhline(y = 0, linestyle = \"--\")"
   ]
  },
  {
   "cell_type": "code",
   "execution_count": 31,
   "metadata": {},
   "outputs": [
    {
     "data": {
      "text/plain": [
       "<matplotlib.lines.Line2D at 0x7fcd8ef98f40>"
      ]
     },
     "execution_count": 31,
     "metadata": {},
     "output_type": "execute_result"
    },
    {
     "data": {
      "image/png": "[encoded data removed]",
      "text/plain": [
       "<Figure size 432x288 with 1 Axes>"
      ]
     },
     "metadata": {
      "needs_background": "light"
     },
     "output_type": "display_data"
    }
   ],
   "source": [
    "plt.scatter(df_raw[\"b_time\"], reg_result.resid, marker=\"o\")\n",
    "plt.xlabel(\"Data\")\n",
    "plt.ylabel(\"residual\")\n",
    "plt.axhline(y=0,linestyle=\"-\")\n",
    "plt.axhline(y= 3 * np.std(reg_result.resid),linestyle=\"--\")\n",
    "plt.axhline(y= 3 * np.std(reg_result.resid),linestyle=\"--\")"
   ]
  },
  {
   "cell_type": "markdown",
   "metadata": {},
   "source": [
    "### 잔차가 y = 0을 기준으로 무작위로 산포되어 있으므로 등분산성과 독립성을 만족한다\n",
    "\n"
   ]
  },
  {
   "cell_type": "code",
   "execution_count": 32,
   "metadata": {},
   "outputs": [
    {
     "data": {
      "text/plain": [
       "NormaltestResult(statistic=6.508867568020077, pvalue=0.038602671926623006)"
      ]
     },
     "execution_count": 32,
     "metadata": {},
     "output_type": "execute_result"
    },
    {
     "data": {
      "image/png": "[encoded data removed]",
      "text/plain": [
       "<Figure size 432x288 with 1 Axes>"
      ]
     },
     "metadata": {
      "needs_background": "light"
     },
     "output_type": "display_data"
    }
   ],
   "source": [
    "qqplot(reg_result.resid, line=\"q\")\n",
    "\n",
    "from statsmodels.stats.stattools import omni_normtest\n",
    "omni_normtest(reg_result.resid, axis=0)"
   ]
  },
  {
   "cell_type": "markdown",
   "metadata": {},
   "source": [
    "### 정규분포 직선을 중심으로 분포하고 검정 통계량이 귀무가설을 채택하므로 정규분포를 따른다."
   ]
  },
  {
   "cell_type": "markdown",
   "metadata": {},
   "source": [
    "## 결론 : y^= 0.0012 + 0.0209 * Baking Time\n",
    "## => 강도가 1증가할 때 0.0209 증가"
   ]
  }
 ],
 "metadata": {
  "kernelspec": {
   "display_name": "Python 3",
   "language": "python",
   "name": "python3"
  },
  "language_info": {
   "codemirror_mode": {
    "name": "ipython",
    "version": 3
   },
   "file_extension": ".py",
   "mimetype": "text/x-python",
   "name": "python",
   "nbconvert_exporter": "python",
   "pygments_lexer": "ipython3",
   "version": "3.8.5"
  }
 },
 "nbformat": 4,
 "nbformat_minor": 4
}
