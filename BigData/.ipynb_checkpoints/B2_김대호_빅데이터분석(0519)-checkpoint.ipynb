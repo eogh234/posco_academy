{
 "cells": [
  {
   "cell_type": "code",
   "execution_count": 67,
   "metadata": {},
   "outputs": [],
   "source": [
    "# 데이터 구성 : Series, DataFrame\n",
    "import pandas as pd\n",
    "# 데이터 시각화 \n",
    "import matplotlib.pyplot as plt\n",
    "import matplotlib\n",
    "# export_graphviz: 나무 구조 생성 및 저장 \n",
    "from sklearn.tree import export_graphviz\n",
    "from sklearn.model_selection import train_test_split\n",
    "from sklearn.ensemble import GradientBoostingRegressor\n",
    "from sklearn.model_selection import GridSearchCV\n",
    "#graphviz: 나무구조 시각화(.dot확장자 파일 불러오기 등)\n",
    "import graphviz"
   ]
  },
  {
   "cell_type": "code",
   "execution_count": 68,
   "metadata": {},
   "outputs": [
    {
     "data": {
      "text/html": [
       "<div>\n",
       "<style scoped>\n",
       "    .dataframe tbody tr th:only-of-type {\n",
       "        vertical-align: middle;\n",
       "    }\n",
       "\n",
       "    .dataframe tbody tr th {\n",
       "        vertical-align: top;\n",
       "    }\n",
       "\n",
       "    .dataframe thead th {\n",
       "        text-align: right;\n",
       "    }\n",
       "</style>\n",
       "<table border=\"1\" class=\"dataframe\">\n",
       "  <thead>\n",
       "    <tr style=\"text-align: right;\">\n",
       "      <th></th>\n",
       "      <th>Y</th>\n",
       "      <th>AGE</th>\n",
       "      <th>GENDER</th>\n",
       "      <th>BMI</th>\n",
       "      <th>BP</th>\n",
       "      <th>CHOLESTEROL</th>\n",
       "      <th>LDL</th>\n",
       "      <th>HDL</th>\n",
       "      <th>TCH</th>\n",
       "      <th>LTG</th>\n",
       "      <th>GLUCOSE</th>\n",
       "    </tr>\n",
       "  </thead>\n",
       "  <tbody>\n",
       "    <tr>\n",
       "      <th>0</th>\n",
       "      <td>151</td>\n",
       "      <td>59</td>\n",
       "      <td>2</td>\n",
       "      <td>32.1</td>\n",
       "      <td>101.0</td>\n",
       "      <td>157</td>\n",
       "      <td>93.2</td>\n",
       "      <td>38.0</td>\n",
       "      <td>4.0</td>\n",
       "      <td>4.8598</td>\n",
       "      <td>87</td>\n",
       "    </tr>\n",
       "    <tr>\n",
       "      <th>1</th>\n",
       "      <td>75</td>\n",
       "      <td>48</td>\n",
       "      <td>1</td>\n",
       "      <td>21.6</td>\n",
       "      <td>87.0</td>\n",
       "      <td>183</td>\n",
       "      <td>103.2</td>\n",
       "      <td>70.0</td>\n",
       "      <td>3.0</td>\n",
       "      <td>3.8918</td>\n",
       "      <td>69</td>\n",
       "    </tr>\n",
       "    <tr>\n",
       "      <th>2</th>\n",
       "      <td>141</td>\n",
       "      <td>72</td>\n",
       "      <td>2</td>\n",
       "      <td>30.5</td>\n",
       "      <td>93.0</td>\n",
       "      <td>156</td>\n",
       "      <td>93.6</td>\n",
       "      <td>41.0</td>\n",
       "      <td>4.0</td>\n",
       "      <td>4.6728</td>\n",
       "      <td>85</td>\n",
       "    </tr>\n",
       "    <tr>\n",
       "      <th>3</th>\n",
       "      <td>206</td>\n",
       "      <td>24</td>\n",
       "      <td>1</td>\n",
       "      <td>25.3</td>\n",
       "      <td>84.0</td>\n",
       "      <td>198</td>\n",
       "      <td>131.4</td>\n",
       "      <td>40.0</td>\n",
       "      <td>5.0</td>\n",
       "      <td>4.8903</td>\n",
       "      <td>89</td>\n",
       "    </tr>\n",
       "    <tr>\n",
       "      <th>4</th>\n",
       "      <td>135</td>\n",
       "      <td>50</td>\n",
       "      <td>1</td>\n",
       "      <td>23.0</td>\n",
       "      <td>101.0</td>\n",
       "      <td>192</td>\n",
       "      <td>125.4</td>\n",
       "      <td>52.0</td>\n",
       "      <td>4.0</td>\n",
       "      <td>4.2905</td>\n",
       "      <td>80</td>\n",
       "    </tr>\n",
       "  </tbody>\n",
       "</table>\n",
       "</div>"
      ],
      "text/plain": [
       "     Y  AGE  GENDER   BMI     BP  CHOLESTEROL    LDL   HDL  TCH     LTG  \\\n",
       "0  151   59       2  32.1  101.0          157   93.2  38.0  4.0  4.8598   \n",
       "1   75   48       1  21.6   87.0          183  103.2  70.0  3.0  3.8918   \n",
       "2  141   72       2  30.5   93.0          156   93.6  41.0  4.0  4.6728   \n",
       "3  206   24       1  25.3   84.0          198  131.4  40.0  5.0  4.8903   \n",
       "4  135   50       1  23.0  101.0          192  125.4  52.0  4.0  4.2905   \n",
       "\n",
       "   GLUCOSE  \n",
       "0       87  \n",
       "1       69  \n",
       "2       85  \n",
       "3       89  \n",
       "4       80  "
      ]
     },
     "execution_count": 68,
     "metadata": {},
     "output_type": "execute_result"
    }
   ],
   "source": [
    "df_raw = pd.read_csv(\"3. Big Data 분석/DIABETES.csv\",encoding= 'cp949')\n",
    "df_raw.head()"
   ]
  },
  {
   "cell_type": "code",
   "execution_count": 69,
   "metadata": {},
   "outputs": [],
   "source": [
    "df_raw_y = df_raw[\"Y\"]\n",
    "df_raw_x = df_raw.drop(\"Y\", axis =1, inplace =False)\n",
    "df_train_x,df_test_x,df_train_y,df_test_y = train_test_split(df_raw_x,df_raw_y,test_size=0.4,random_state=1234)"
   ]
  },
  {
   "cell_type": "code",
   "execution_count": 70,
   "metadata": {},
   "outputs": [
    {
     "name": "stdout",
     "output_type": "stream",
     "text": [
      "Score on training set: 0.893\n",
      "Score on test set: 0.458\n"
     ]
    }
   ],
   "source": [
    "tree_uncustomized = GradientBoostingRegressor(random_state=1234)\n",
    "tree_uncustomized.fit(df_train_x,df_train_y)\n",
    "print(\"Score on training set: {:.3f}\".format(tree_uncustomized.score(df_train_x,df_train_y)))\n",
    "print(\"Score on test set: {:.3f}\".format(tree_uncustomized.score(df_test_x,df_test_y)))"
   ]
  },
  {
   "cell_type": "code",
   "execution_count": null,
   "metadata": {},
   "outputs": [],
   "source": [
    "train_score =[]; test_score=[]\n",
    "#min_samples_leaf: 입사귀 최소 자료수\n",
    "para_n_tree = [n_tree * 1 for n_tree in range(1,1001)]\n",
    "for v_n_estimators in para_n_tree:\n",
    "    gb = GradientBoostingRegressor(random_state=1234, n_estimators=v_n_estimators)\n",
    "    gb.fit(df_train_x,df_train_y)\n",
    "    train_score.append(gb.score(df_train_x,df_train_y))\n",
    "    test_score.append(gb.score(df_test_x,df_test_y))\n",
    "    \n",
    "#결과저장\n",
    "df_score_n = pd.DataFrame()\n",
    "df_score_n[\"Estimators\"]= para_n_tree\n",
    "df_score_n[\"TrainScore\"]= train_score\n",
    "df_score_n[\"TestScore\"]=test_score"
   ]
  },
  {
   "cell_type": "code",
   "execution_count": 87,
   "metadata": {},
   "outputs": [
    {
     "data": {
      "text/plain": [
       "<matplotlib.legend.Legend at 0x7fbfec186700>"
      ]
     },
     "execution_count": 87,
     "metadata": {},
     "output_type": "execute_result"
    },
    {
     "data": {
      "image/png": "[encoded data removed]",
      "text/plain": [
       "<Figure size 432x288 with 1 Axes>"
      ]
     },
     "metadata": {
      "needs_background": "light"
     },
     "output_type": "display_data"
    }
   ],
   "source": [
    "df_score_n.round(3)\n",
    "\n",
    "plt.plot(para_n_tree,train_score,linestyle=\"-\", label = \"Train Score\")\n",
    "plt.plot(para_n_tree,test_score,linestyle=\"--\", label = \"Test Score\")\n",
    "plt.ylabel(\"score\")\n",
    "plt.xlabel(\"n_estimators\")\n",
    "plt.legend()"
   ]
  },
  {
   "cell_type": "code",
   "execution_count": 74,
   "metadata": {},
   "outputs": [],
   "source": [
    "train_score =[]; test_score=[]\n",
    "#min_samples_leaf: 입사귀 최소 자료수\n",
    "para_leaf = [n_leaf * 1 for n_leaf in range(1,20)]\n",
    "for v_min_samples_leaf in para_leaf:\n",
    "    rf = GradientBoostingRegressor(random_state=1234,min_samples_leaf = v_min_samples_leaf)\n",
    "    rf.fit(df_train_x,df_train_y)\n",
    "    train_score.append(rf.score(df_train_x,df_train_y))\n",
    "    test_score.append(rf.score(df_test_x,df_test_y))\n",
    "    \n",
    "#결과저장\n",
    "df_score_leaf = pd.DataFrame()\n",
    "df_score_leaf[\"MinSamplesLeaf\"]= para_leaf\n",
    "df_score_leaf[\"TrainScore\"]= train_score\n",
    "df_score_leaf[\"TestScore\"]=test_score"
   ]
  },
  {
   "cell_type": "code",
   "execution_count": 75,
   "metadata": {},
   "outputs": [
    {
     "data": {
      "text/plain": [
       "<matplotlib.legend.Legend at 0x7fbfeb94b430>"
      ]
     },
     "execution_count": 75,
     "metadata": {},
     "output_type": "execute_result"
    },
    {
     "data": {
      "image/png": "[encoded data removed]",
      "text/plain": [
       "<Figure size 432x288 with 1 Axes>"
      ]
     },
     "metadata": {
      "needs_background": "light"
     },
     "output_type": "display_data"
    }
   ],
   "source": [
    "df_score_leaf.round(3)\n",
    "\n",
    "plt.plot(para_leaf,train_score,linestyle=\"-\", label = \"Train Score\")\n",
    "plt.plot(para_leaf,test_score,linestyle=\"--\", label = \"Test Score\")\n",
    "plt.ylabel(\"score\")\n",
    "plt.xlabel(\"min samples leaf\")\n",
    "plt.legend()"
   ]
  },
  {
   "cell_type": "code",
   "execution_count": 76,
   "metadata": {},
   "outputs": [],
   "source": [
    "#train 및 test설명력 결과저장\n",
    "train_score =[]; test_score=[]\n",
    "#min_samples_split: 분리 노드의 최소자료수\n",
    "para_split =[n_split *2 for n_split in range(1,21)]\n",
    "for v_min_samples_split in para_split:\n",
    "    gb = GradientBoostingRegressor(random_state=1234, n_estimators = 30, min_samples_leaf=8,min_samples_split=v_min_samples_split)\n",
    "    gb.fit(df_train_x,df_train_y)\n",
    "    train_score.append(gb.score(df_train_x,df_train_y))\n",
    "    test_score.append(gb.score(df_test_x,df_test_y))\n",
    "\n",
    "df_score_split = pd.DataFrame()\n",
    "df_score_split[\"MinSamplesSplit\"]= para_split\n",
    "df_score_split[\"TrainScore\"]= train_score\n",
    "df_score_split[\"TestScore\"]= test_score"
   ]
  },
  {
   "cell_type": "code",
   "execution_count": 77,
   "metadata": {},
   "outputs": [
    {
     "data": {
      "text/plain": [
       "<matplotlib.legend.Legend at 0x7fbfebc6ad00>"
      ]
     },
     "execution_count": 77,
     "metadata": {},
     "output_type": "execute_result"
    },
    {
     "data": {
      "image/png": "[encoded data removed]",
      "text/plain": [
       "<Figure size 432x288 with 1 Axes>"
      ]
     },
     "metadata": {
      "needs_background": "light"
     },
     "output_type": "display_data"
    }
   ],
   "source": [
    "plt.plot(para_split,train_score,linestyle=\"-\", label = \"Train Score\")\n",
    "plt.plot(para_split,test_score,linestyle=\"--\", label = \"Test Score\")\n",
    "plt.ylabel(\"score\")\n",
    "plt.xlabel(\"min samples split\")\n",
    "plt.legend()"
   ]
  },
  {
   "cell_type": "code",
   "execution_count": 78,
   "metadata": {},
   "outputs": [],
   "source": [
    "# max_depth: 최대 깊이 변경에 따른 모델 성능\n",
    "#train 및 test설명력 결과 저장\n",
    "train_score =[]; test_score=[]\n",
    "#max_depth: 최대 깊이 변경\n",
    "para_depth =[depth for depth in range(1,11)]\n",
    "for v_max_depth in para_depth:\n",
    "    gb=GradientBoostingRegressor(random_state=1234, n_estimators = 30, min_samples_leaf=11, min_samples_split=22,max_depth=v_max_depth)\n",
    "    gb.fit(df_train_x,df_train_y)\n",
    "    train_score.append(gb.score(df_train_x,df_train_y))\n",
    "    test_score.append(gb.score(df_test_x,df_test_y))\n",
    "    \n",
    "#데이터 테이블로 저장\n",
    "df_score_depth= pd.DataFrame()\n",
    "df_score_depth[\"Depth\"]=para_depth\n",
    "df_score_depth[\"TrainScore\"]=train_score\n",
    "df_score_depth[\"TestScore\"]=test_score"
   ]
  },
  {
   "cell_type": "code",
   "execution_count": 79,
   "metadata": {},
   "outputs": [
    {
     "data": {
      "text/plain": [
       "<matplotlib.legend.Legend at 0x7fbfebcfd3d0>"
      ]
     },
     "execution_count": 79,
     "metadata": {},
     "output_type": "execute_result"
    },
    {
     "data": {
      "image/png": "[encoded data removed]",
      "text/plain": [
       "<Figure size 432x288 with 1 Axes>"
      ]
     },
     "metadata": {
      "needs_background": "light"
     },
     "output_type": "display_data"
    }
   ],
   "source": [
    "df_score_depth.round(3)\n",
    "\n",
    "plt.plot(para_depth,train_score,linestyle=\"-\",label =\"Train Score\")\n",
    "plt.plot(para_depth,test_score,linestyle=\"--\",label= \"Test Score\")\n",
    "plt.ylabel(\"score\")\n",
    "plt.xlabel(\"depth\")\n",
    "plt.legend()"
   ]
  },
  {
   "cell_type": "code",
   "execution_count": 80,
   "metadata": {},
   "outputs": [],
   "source": [
    "# max_depth: 최대 깊이 변경에 따른 모델 성능\n",
    "#train 및 test설명력 결과 저장\n",
    "train_score =[]; test_score=[]\n",
    "#max_depth: 최대 깊이 변경\n",
    "para_l =[lr * 0.1 for lr in range(1,10)]\n",
    "for v_learning_rate in para_l:\n",
    "    gb=GradientBoostingRegressor(random_state=1234,min_samples_leaf=8, min_samples_split=20,max_depth=4, learning_rate=v_learning_rate)\n",
    "    gb.fit(df_train_x,df_train_y)\n",
    "    train_score.append(gb.score(df_train_x,df_train_y))\n",
    "    test_score.append(gb.score(df_test_x,df_test_y))\n",
    "    \n",
    "#데이터 테이블로 저장\n",
    "df_score_lr= pd.DataFrame()\n",
    "df_score_lr[\"LearningRate\"]=para_l\n",
    "df_score_lr[\"TrainScore\"]=train_score\n",
    "df_score_lr[\"TestScore\"]=test_score"
   ]
  },
  {
   "cell_type": "code",
   "execution_count": 82,
   "metadata": {},
   "outputs": [
    {
     "data": {
      "text/plain": [
       "<matplotlib.legend.Legend at 0x7fbfebe4eeb0>"
      ]
     },
     "execution_count": 82,
     "metadata": {},
     "output_type": "execute_result"
    },
    {
     "data": {
      "image/png": "[encoded data removed]",
      "text/plain": [
       "<Figure size 432x288 with 1 Axes>"
      ]
     },
     "metadata": {
      "needs_background": "light"
     },
     "output_type": "display_data"
    }
   ],
   "source": [
    "#모델 설명력 확인\n",
    "df_score_lr.round(3)\n",
    "#모델 설명력 그래프 확인\n",
    "plt.plot(para_l,train_score,linestyle=\"-\",label =\"Train Score\")\n",
    "plt.plot(para_l,test_score,linestyle=\"--\",label= \"Test Score\")\n",
    "plt.ylabel(\"score\")\n",
    "plt.xlabel(\"learning rate\")\n",
    "plt.legend()"
   ]
  },
  {
   "cell_type": "code",
   "execution_count": 83,
   "metadata": {},
   "outputs": [
    {
     "name": "stdout",
     "output_type": "stream",
     "text": [
      "Score on training set: 0.901\n",
      "Score on test set: 0.431\n"
     ]
    }
   ],
   "source": [
    "gb_final = GradientBoostingRegressor(learning_rate=0.1 ,min_samples_leaf=8,min_samples_split=20,max_depth=4,random_state=1234)\n",
    "gb_final.fit(df_train_x,df_train_y)\n",
    "\n",
    "print(\"Score on training set: {:.3f}\".format(gb_final.score(df_train_x,df_train_y)))\n",
    "print(\"Score on test set: {:.3f}\".format(gb_final.score(df_test_x,df_test_y)))"
   ]
  },
  {
   "cell_type": "code",
   "execution_count": 84,
   "metadata": {},
   "outputs": [
    {
     "data": {
      "text/html": [
       "<div>\n",
       "<style scoped>\n",
       "    .dataframe tbody tr th:only-of-type {\n",
       "        vertical-align: middle;\n",
       "    }\n",
       "\n",
       "    .dataframe tbody tr th {\n",
       "        vertical-align: top;\n",
       "    }\n",
       "\n",
       "    .dataframe thead th {\n",
       "        text-align: right;\n",
       "    }\n",
       "</style>\n",
       "<table border=\"1\" class=\"dataframe\">\n",
       "  <thead>\n",
       "    <tr style=\"text-align: right;\">\n",
       "      <th></th>\n",
       "      <th>Feature</th>\n",
       "      <th>Importance</th>\n",
       "    </tr>\n",
       "  </thead>\n",
       "  <tbody>\n",
       "    <tr>\n",
       "      <th>2</th>\n",
       "      <td>BMI</td>\n",
       "      <td>0.353</td>\n",
       "    </tr>\n",
       "    <tr>\n",
       "      <th>8</th>\n",
       "      <td>LTG</td>\n",
       "      <td>0.198</td>\n",
       "    </tr>\n",
       "    <tr>\n",
       "      <th>3</th>\n",
       "      <td>BP</td>\n",
       "      <td>0.100</td>\n",
       "    </tr>\n",
       "    <tr>\n",
       "      <th>9</th>\n",
       "      <td>GLUCOSE</td>\n",
       "      <td>0.072</td>\n",
       "    </tr>\n",
       "    <tr>\n",
       "      <th>0</th>\n",
       "      <td>AGE</td>\n",
       "      <td>0.066</td>\n",
       "    </tr>\n",
       "    <tr>\n",
       "      <th>6</th>\n",
       "      <td>HDL</td>\n",
       "      <td>0.065</td>\n",
       "    </tr>\n",
       "    <tr>\n",
       "      <th>5</th>\n",
       "      <td>LDL</td>\n",
       "      <td>0.059</td>\n",
       "    </tr>\n",
       "    <tr>\n",
       "      <th>4</th>\n",
       "      <td>CHOLESTEROL</td>\n",
       "      <td>0.038</td>\n",
       "    </tr>\n",
       "    <tr>\n",
       "      <th>1</th>\n",
       "      <td>GENDER</td>\n",
       "      <td>0.027</td>\n",
       "    </tr>\n",
       "    <tr>\n",
       "      <th>7</th>\n",
       "      <td>TCH</td>\n",
       "      <td>0.023</td>\n",
       "    </tr>\n",
       "  </tbody>\n",
       "</table>\n",
       "</div>"
      ],
      "text/plain": [
       "       Feature  Importance\n",
       "2          BMI       0.353\n",
       "8          LTG       0.198\n",
       "3           BP       0.100\n",
       "9      GLUCOSE       0.072\n",
       "0          AGE       0.066\n",
       "6          HDL       0.065\n",
       "5          LDL       0.059\n",
       "4  CHOLESTEROL       0.038\n",
       "1       GENDER       0.027\n",
       "7          TCH       0.023"
      ]
     },
     "execution_count": 84,
     "metadata": {},
     "output_type": "execute_result"
    }
   ],
   "source": [
    "v_feature_name = df_train_x.columns\n",
    "\n",
    "df_importance = pd.DataFrame()\n",
    "df_importance[\"Feature\"] = v_feature_name\n",
    "df_importance[\"Importance\"] = gb_final.feature_importances_\n",
    "\n",
    "df_importance.sort_values(\"Importance\", ascending=False, inplace = True)\n",
    "df_importance.round(3)"
   ]
  },
  {
   "cell_type": "code",
   "execution_count": 85,
   "metadata": {},
   "outputs": [
    {
     "data": {
      "text/plain": [
       "Text(0, 0.5, '변수')"
      ]
     },
     "execution_count": 85,
     "metadata": {},
     "output_type": "execute_result"
    },
    {
     "name": "stderr",
     "output_type": "stream",
     "text": [
      "/Users/Daeho/opt/anaconda3/lib/python3.8/site-packages/matplotlib/backends/backend_agg.py:238: RuntimeWarning: Glyph 48320 missing from current font.\n",
      "  font.set_text(s, 0.0, flags=flags)\n",
      "/Users/Daeho/opt/anaconda3/lib/python3.8/site-packages/matplotlib/backends/backend_agg.py:238: RuntimeWarning: Glyph 49688 missing from current font.\n",
      "  font.set_text(s, 0.0, flags=flags)\n",
      "/Users/Daeho/opt/anaconda3/lib/python3.8/site-packages/matplotlib/backends/backend_agg.py:238: RuntimeWarning: Glyph 51473 missing from current font.\n",
      "  font.set_text(s, 0.0, flags=flags)\n",
      "/Users/Daeho/opt/anaconda3/lib/python3.8/site-packages/matplotlib/backends/backend_agg.py:238: RuntimeWarning: Glyph 50836 missing from current font.\n",
      "  font.set_text(s, 0.0, flags=flags)\n",
      "/Users/Daeho/opt/anaconda3/lib/python3.8/site-packages/matplotlib/backends/backend_agg.py:238: RuntimeWarning: Glyph 46020 missing from current font.\n",
      "  font.set_text(s, 0.0, flags=flags)\n",
      "/Users/Daeho/opt/anaconda3/lib/python3.8/site-packages/matplotlib/backends/backend_agg.py:201: RuntimeWarning: Glyph 48320 missing from current font.\n",
      "  font.set_text(s, 0, flags=flags)\n",
      "/Users/Daeho/opt/anaconda3/lib/python3.8/site-packages/matplotlib/backends/backend_agg.py:201: RuntimeWarning: Glyph 49688 missing from current font.\n",
      "  font.set_text(s, 0, flags=flags)\n",
      "/Users/Daeho/opt/anaconda3/lib/python3.8/site-packages/matplotlib/backends/backend_agg.py:201: RuntimeWarning: Glyph 51473 missing from current font.\n",
      "  font.set_text(s, 0, flags=flags)\n",
      "/Users/Daeho/opt/anaconda3/lib/python3.8/site-packages/matplotlib/backends/backend_agg.py:201: RuntimeWarning: Glyph 50836 missing from current font.\n",
      "  font.set_text(s, 0, flags=flags)\n",
      "/Users/Daeho/opt/anaconda3/lib/python3.8/site-packages/matplotlib/backends/backend_agg.py:201: RuntimeWarning: Glyph 46020 missing from current font.\n",
      "  font.set_text(s, 0, flags=flags)\n"
     ]
    },
    {
     "data": {
      "image/png": "[encoded data removed]",
      "text/plain": [
       "<Figure size 432x288 with 1 Axes>"
      ]
     },
     "metadata": {
      "needs_background": "light"
     },
     "output_type": "display_data"
    }
   ],
   "source": [
    "#설명변수 중요도 그래프\n",
    "#중요도가 높은 변수를 상위에 그림\n",
    "df_importance.sort_values(\"Importance\",ascending=True,inplace= True)\n",
    "coordinates= range(len(df_importance))\n",
    "plt.barh(y= coordinates,width=df_importance[\"Importance\"])\n",
    "plt.yticks(coordinates,df_importance[\"Feature\"])\n",
    "plt.xlabel(\"변수 중요도\")\n",
    "plt.ylabel(\"변수\")"
   ]
  },
  {
   "cell_type": "code",
   "execution_count": null,
   "metadata": {},
   "outputs": [],
   "source": []
  }
 ],
 "metadata": {
  "kernelspec": {
   "display_name": "Python 3",
   "language": "python",
   "name": "python3"
  },
  "language_info": {
   "codemirror_mode": {
    "name": "ipython",
    "version": 3
   },
   "file_extension": ".py",
   "mimetype": "text/x-python",
   "name": "python",
   "nbconvert_exporter": "python",
   "pygments_lexer": "ipython3",
   "version": "3.8.5"
  }
 },
 "nbformat": 4,
 "nbformat_minor": 4
}
