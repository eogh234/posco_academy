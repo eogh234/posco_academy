{
 "cells": [
  {
   "cell_type": "code",
   "execution_count": null,
   "metadata": {},
   "outputs": [],
   "source": [
    "f = open(\"new.txt\", \"a\")\n",
    "for i in range(1, 6):\n",
    "    data = \"%dline\\n\" % i\n",
    "    f.write(data)\n",
    "f.close()"
   ]
  },
  {
   "cell_type": "code",
   "execution_count": 5,
   "metadata": {},
   "outputs": [
    {
     "name": "stdout",
     "output_type": "stream",
     "text": [
      "1line\n",
      "\n",
      "2line\n",
      "\n",
      "3line\n",
      "\n",
      "4line\n",
      "\n",
      "5line\n",
      "\n",
      "1line\n",
      "\n",
      "2line\n",
      "\n",
      "3line\n",
      "\n",
      "4line\n",
      "\n",
      "5line\n",
      "\n"
     ]
    }
   ],
   "source": [
    "f = open(\"new.txt\", \"r\")\n",
    "for sen in f:\n",
    "    print(sen)\n",
    "f.close()"
   ]
  },
  {
   "cell_type": "code",
   "execution_count": 7,
   "metadata": {},
   "outputs": [
    {
     "data": {
      "text/plain": [
       "True"
      ]
     },
     "execution_count": 7,
     "metadata": {},
     "output_type": "execute_result"
    }
   ],
   "source": [
    "import os\n",
    "\n",
    "os.path.exists(\"new.txt\")"
   ]
  },
  {
   "cell_type": "code",
   "execution_count": 12,
   "metadata": {},
   "outputs": [
    {
     "name": "stdout",
     "output_type": "stream",
     "text": [
      "6 14\n"
     ]
    }
   ],
   "source": [
    "a = [5, 5, 6, 7, 8, 3]\n",
    "b = 'Life is short.'\n",
    "\n",
    "count_a = 0\n",
    "count_b = 0\n",
    "\n",
    "for n in a:\n",
    "    count_a += 1\n",
    "for n in b:\n",
    "    count_b += 1\n",
    "    \n",
    "print(count_a, count_b)"
   ]
  },
  {
   "cell_type": "code",
   "execution_count": 13,
   "metadata": {},
   "outputs": [
    {
     "name": "stdout",
     "output_type": "stream",
     "text": [
      "6 14\n",
      "6 14\n"
     ]
    }
   ],
   "source": [
    "def my_len(l):\n",
    "    length = 0\n",
    "    for e in l:\n",
    "        length += 1\n",
    "    return length\n",
    "\n",
    "print(len(a), len(b))\n",
    "print(my_len(a), my_len(b))"
   ]
  },
  {
   "cell_type": "code",
   "execution_count": 15,
   "metadata": {},
   "outputs": [
    {
     "name": "stdout",
     "output_type": "stream",
     "text": [
      "3 -1 2 0\n"
     ]
    }
   ],
   "source": [
    "def add(a, b):\n",
    "    return a + b\n",
    "def sub(a, b):\n",
    "    return a - b\n",
    "def mul(a, b):\n",
    "    return a * b\n",
    "def div(a, b):\n",
    "    return a // b\n",
    "\n",
    "a = 1\n",
    "b = 2\n",
    "\n",
    "c = add(a, b)\n",
    "d = sub(a, b)\n",
    "e = mul(a, b)\n",
    "f = div(a, b)\n",
    "\n",
    "print(c, d, e, f)"
   ]
  },
  {
   "cell_type": "code",
   "execution_count": null,
   "metadata": {},
   "outputs": [],
   "source": []
  }
 ],
 "metadata": {
  "kernelspec": {
   "display_name": "Python 3",
   "language": "python",
   "name": "python3"
  },
  "language_info": {
   "codemirror_mode": {
    "name": "ipython",
    "version": 3
   },
   "file_extension": ".py",
   "mimetype": "text/x-python",
   "name": "python",
   "nbconvert_exporter": "python",
   "pygments_lexer": "ipython3",
   "version": "3.8.5"
  }
 },
 "nbformat": 4,
 "nbformat_minor": 4
}
