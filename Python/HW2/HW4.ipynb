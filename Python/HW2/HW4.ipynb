{
 "cells": [
  {
   "cell_type": "markdown",
   "metadata": {},
   "source": [
    "## FILE\n",
    "### 실습 1\n",
    "파일에 있는 각각의 단어 수 구하기"
   ]
  },
  {
   "cell_type": "code",
   "execution_count": 21,
   "metadata": {},
   "outputs": [
    {
     "name": "stdout",
     "output_type": "stream",
     "text": [
      "first 1\n",
      "line 3\n",
      "second 1\n",
      "third 1\n"
     ]
    }
   ],
   "source": [
    "f = open(\"test.txt\", \"r\")\n",
    "d = dict()\n",
    "\n",
    "while True:\n",
    "    line = f.readline()\n",
    "    \n",
    "    if line == '':\n",
    "        break\n",
    "    words = line.split()\n",
    "    for word in words:\n",
    "        if word in d:\n",
    "            d[word] = d[word] + 1\n",
    "        else:\n",
    "            d[word] = 1\n",
    "for key, value in d.items():\n",
    "    print(key, value)\n",
    "    \n",
    "f.close()"
   ]
  },
  {
   "cell_type": "markdown",
   "metadata": {},
   "source": [
    "### 실습 2\n",
    "파일명을 입력 받아, 해당 파일을 한 줄씩 읽어 파일의 내용을 모두 대문자로 출력하는 프로그램을 작성하시오.\n",
    "단, 파일이 없는 경우 \"파일이 존재하지 않는다\" 정도의 아래 메시지를 출력할 것!"
   ]
  },
  {
   "cell_type": "code",
   "execution_count": 24,
   "metadata": {},
   "outputs": [
    {
     "name": "stdout",
     "output_type": "stream",
     "text": [
      "test.txt\n",
      "FIRST LINE\n",
      "\n",
      "SECOND LINE\n",
      "\n",
      "THIRD LINE\n"
     ]
    }
   ],
   "source": [
    "import os\n",
    "resp = input()\n",
    "\n",
    "if os.path.exists(resp):\n",
    "    f = open(resp, \"r\")\n",
    "    for sen in f:\n",
    "        print(sen.upper())\n",
    "else:\n",
    "    print(\"파일이 존재하지 않습니다.\")\n",
    "    \n",
    "f.close()"
   ]
  },
  {
   "cell_type": "markdown",
   "metadata": {},
   "source": [
    "### 실습 4\n",
    "아래의 score.txt를 읽어서 학생들의 성적을 처리하여 그 결과를 report.txt로 출력하는 프로그램을 작성하시오.\n",
    "\n",
    "(총점) 중간고사 40%, 기말고사 60%\n",
    "\n",
    "(학점기준)\n",
    "총점이 90이상이면 A\n",
    "\n",
    "80이상 ~ 90미만이면 B\n",
    "\n",
    "70이상 ~ 80미만이면 C\n",
    "\n",
    "60이상 ~ 70미만이면 D\n",
    "\n",
    "60미만이면 F"
   ]
  },
  {
   "cell_type": "code",
   "execution_count": 6,
   "metadata": {},
   "outputs": [],
   "source": [
    "fr = open(\"score.txt\", \"r\")\n",
    "fw = open(\"report.txt\", \"a\")\n",
    "for human in fr:\n",
    "    num, mid, final = human.split()\n",
    "    fw.write(num + ' ')\n",
    "    fw.write(mid + ' ')\n",
    "    fw.write(final + ' ')\n",
    "    avg = int(mid) * 0.4 + int(final) * 0.6\n",
    "    fw.write(str(avg))\n",
    "    if avg >= 90:\n",
    "        fw.write(\"(A)\\n\")\n",
    "    elif avg >= 80:\n",
    "        fw.write(\"(B)\\n\")\n",
    "    elif avg >= 70:\n",
    "        fw.write(\"(C)\\n\")    \n",
    "    elif avg >= 60:\n",
    "        fw.write(\"(D)\\n\")\n",
    "    else:\n",
    "        fw.write(\"(F)\\n\")\n",
    "    \n",
    "fr.close()\n",
    "fw.close()"
   ]
  }
 ],
 "metadata": {
  "kernelspec": {
   "display_name": "Python 3",
   "language": "python",
   "name": "python3"
  },
  "language_info": {
   "codemirror_mode": {
    "name": "ipython",
    "version": 3
   },
   "file_extension": ".py",
   "mimetype": "text/x-python",
   "name": "python",
   "nbconvert_exporter": "python",
   "pygments_lexer": "ipython3",
   "version": "3.8.5"
  }
 },
 "nbformat": 4,
 "nbformat_minor": 4
}
