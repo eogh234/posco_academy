{
 "cells": [
  {
   "cell_type": "code",
   "execution_count": 47,
   "metadata": {},
   "outputs": [
    {
     "name": "stdout",
     "output_type": "stream",
     "text": [
      "13는 소수입니다.\n",
      "15는 소수가 아닙니다.\n"
     ]
    }
   ],
   "source": [
    "def check_prime(num):\n",
    "    for i in range(2, num):\n",
    "        if num % i == 0:\n",
    "            return False\n",
    "    return True\n",
    "\n",
    "def main():\n",
    "    a = 13\n",
    "    b = 15\n",
    "    \n",
    "    if check_prime(a):\n",
    "        print(str(a) + '는 소수입니다.')\n",
    "    else:\n",
    "        print(str(a) + '는 소수가 아닙니다.')\n",
    "    \n",
    "    \n",
    "    if check_prime(b):\n",
    "        print(str(b) + '는 소수입니다.')\n",
    "    else:\n",
    "        print(str(b) + '는 소수가 아닙니다.')\n",
    "        \n",
    "main()"
   ]
  },
  {
   "cell_type": "code",
   "execution_count": 9,
   "metadata": {},
   "outputs": [
    {
     "name": "stdout",
     "output_type": "stream",
     "text": [
      "1,234\n",
      "12,345,678\n",
      "12\n"
     ]
    }
   ],
   "source": [
    "def add_comma(val):\n",
    "    cnt = 0\n",
    "    val = str(val)\n",
    "    \n",
    "    for i in range(len(val) - 1, -1, -1):\n",
    "        cnt += 1\n",
    "        if cnt > 2:\n",
    "            val = val[:i] + ',' + val[i:]\n",
    "            cnt = 0\n",
    "    return val\n",
    "def main():\n",
    "    comma_added_1234 = add_comma(1234)\n",
    "    comma_added_12345678 = add_comma(12345678)\n",
    "    comma_added_12 = add_comma(12)\n",
    "    \n",
    "    print(comma_added_1234)\n",
    "    print(comma_added_12345678)\n",
    "    print(comma_added_12)\n",
    "    \n",
    "main()"
   ]
  },
  {
   "cell_type": "code",
   "execution_count": 46,
   "metadata": {
    "scrolled": false
   },
   "outputs": [
    {
     "name": "stdout",
     "output_type": "stream",
     "text": [
      "[]\n",
      "['There was', 'was a', 'a farmer', 'farmer who', 'who had', 'had a', 'a dog', 'dog .']\n"
     ]
    }
   ],
   "source": [
    "def tokenize(trg, N=1):\n",
    "    raw = trg.split()\n",
    "    token_list = []\n",
    "    for word in raw:\n",
    "        token_list.append(word)\n",
    "    for i in range(len(raw) - N + 1):\n",
    "        for j in range(N - 1):\n",
    "            token_list[i] = (' ').join(raw[i:i+N])\n",
    "    return token_list[:-N+1]\n",
    "\n",
    "def main():\n",
    "    a=\"There was a farmer who had a dog .\"\n",
    "    print(tokenize(a))\n",
    "    print(tokenize(a, 2))\n",
    "    \n",
    "main()"
   ]
  },
  {
   "cell_type": "code",
   "execution_count": 14,
   "metadata": {},
   "outputs": [
    {
     "name": "stdout",
     "output_type": "stream",
     "text": [
      "평균:  [0.5, 0.5]\n",
      "분산:  [0.16666666666666666, 0.16666666666666666]\n"
     ]
    }
   ],
   "source": [
    "def mean_and_var(*val):\n",
    "    x = 0\n",
    "    y = 0\n",
    "    for i in val:\n",
    "        x += i[0]\n",
    "        y += i[1]\n",
    "    avg = [x / len(val), y / len(val)]\n",
    "    \n",
    "    x_sum = 0\n",
    "    y_sum = 0\n",
    "    for i in val:\n",
    "        x_sum += (i[0] - avg[0]) ** 2\n",
    "        y_sum += (i[1] - avg[1]) ** 2\n",
    "    var = []\n",
    "    var.append(x_sum / len(val))\n",
    "    var.append(y_sum / len(val))\n",
    "    return avg, var\n",
    "\n",
    "def main():\n",
    "    v1=(0, 1)\n",
    "    v2=(0.5, 0.5)\n",
    "    v3=(1, 0)\n",
    "    m, var = mean_and_var(v1, v2, v3)\n",
    "    print('평균: ', m)\n",
    "    print('분산: ', var)\n",
    "main()"
   ]
  },
  {
   "cell_type": "code",
   "execution_count": null,
   "metadata": {},
   "outputs": [],
   "source": []
  }
 ],
 "metadata": {
  "kernelspec": {
   "display_name": "Python 3",
   "language": "python",
   "name": "python3"
  },
  "language_info": {
   "codemirror_mode": {
    "name": "ipython",
    "version": 3
   },
   "file_extension": ".py",
   "mimetype": "text/x-python",
   "name": "python",
   "nbconvert_exporter": "python",
   "pygments_lexer": "ipython3",
   "version": "3.8.5"
  }
 },
 "nbformat": 4,
 "nbformat_minor": 4
}
