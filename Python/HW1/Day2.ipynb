{
 "cells": [
  {
   "cell_type": "code",
   "execution_count": 1,
   "metadata": {},
   "outputs": [
    {
     "data": {
      "text/plain": [
       "'n'"
      ]
     },
     "execution_count": 1,
     "metadata": {},
     "output_type": "execute_result"
    }
   ],
   "source": [
    "word = 'Python'\n",
    "word[-1]"
   ]
  },
  {
   "cell_type": "code",
   "execution_count": 2,
   "metadata": {},
   "outputs": [
    {
     "data": {
      "text/plain": [
       "'y'"
      ]
     },
     "execution_count": 2,
     "metadata": {},
     "output_type": "execute_result"
    }
   ],
   "source": [
    "word[1:2]"
   ]
  },
  {
   "cell_type": "code",
   "execution_count": 3,
   "metadata": {},
   "outputs": [
    {
     "data": {
      "text/plain": [
       "'Pto'"
      ]
     },
     "execution_count": 3,
     "metadata": {},
     "output_type": "execute_result"
    }
   ],
   "source": [
    "word[::2]"
   ]
  },
  {
   "cell_type": "code",
   "execution_count": 4,
   "metadata": {},
   "outputs": [
    {
     "name": "stdout",
     "output_type": "stream",
     "text": [
      "o\n",
      "o\n"
     ]
    }
   ],
   "source": [
    "word = \"Hello\"\n",
    "print(word[-1])\n",
    "print(word[len(word) - 1])"
   ]
  },
  {
   "cell_type": "code",
   "execution_count": 12,
   "metadata": {},
   "outputs": [
    {
     "name": "stdout",
     "output_type": "stream",
     "text": [
      "날짜 입력 : 2020/07/28\n",
      "입력한 날짜의 10년 후는 2030년 7월 28일\n"
     ]
    }
   ],
   "source": [
    "date = input(\"날짜 입력 : \")\n",
    "year, month, day = map(int, date.split('/'))\n",
    "print('입력한 날짜의 10년 후는 %d년 %s월 %s일' % (year + 10, month, day))"
   ]
  },
  {
   "cell_type": "code",
   "execution_count": 21,
   "metadata": {},
   "outputs": [
    {
     "name": "stdout",
     "output_type": "stream",
     "text": [
      "영어 점수 입력: 40\n",
      "수학 점수 입력: 40\n",
      "불합격: 총합 점수 부족\n"
     ]
    }
   ],
   "source": [
    "eng = int(input(\"영어 점수 입력: \"))\n",
    "math = int(input(\"수학 점수 입력: \"))\n",
    "\n",
    "if eng + math < 110:\n",
    "    print(\"불합격: 총합 점수 부족\")\n",
    "elif eng < 40:\n",
    "    print(\"불합격: 영어 점수 부족\")\n",
    "elif math < 40:\n",
    "    print(\"불합격: 수학 점수 부족\")\n",
    "else:\n",
    "    print(\"합격\")"
   ]
  },
  {
   "cell_type": "code",
   "execution_count": 24,
   "metadata": {},
   "outputs": [
    {
     "name": "stdout",
     "output_type": "stream",
     "text": [
      "세 개의 수를 입력하시오: 30 22 50\n",
      "가장 큰 수는 50입니다.\n"
     ]
    }
   ],
   "source": [
    "n1, n2, n3 = map(int, input(\"세 개의 수를 입력하시오: \").split())\n",
    "print(\"가장 큰 수는 %d입니다.\" % (max(n1, n2, n3)))"
   ]
  },
  {
   "cell_type": "code",
   "execution_count": 25,
   "metadata": {},
   "outputs": [
    {
     "name": "stdout",
     "output_type": "stream",
     "text": [
      "1부터 10까지의 합: 55\n"
     ]
    }
   ],
   "source": [
    "count = 1\n",
    "total = 0\n",
    "while count <= 10:\n",
    "    total += count\n",
    "    count += 1\n",
    "print(\"1부터 10까지의 합: %d\" % (total))"
   ]
  },
  {
   "cell_type": "code",
   "execution_count": 28,
   "metadata": {},
   "outputs": [
    {
     "name": "stdout",
     "output_type": "stream",
     "text": [
      "Input an integer: 3159\n",
      "***\n",
      "\n",
      "*\n",
      "\n",
      "*****\n",
      "\n",
      "*********\n",
      "\n"
     ]
    }
   ],
   "source": [
    "data = input(\"Input an integer: \")\n",
    "for i in data:\n",
    "    for j in range(int(i)):\n",
    "        print(\"*\", end=\"\")\n",
    "    print(\"\\n\")"
   ]
  },
  {
   "cell_type": "code",
   "execution_count": 29,
   "metadata": {},
   "outputs": [
    {
     "data": {
      "text/plain": [
       "['red', 'green', 'blue']"
      ]
     },
     "execution_count": 29,
     "metadata": {},
     "output_type": "execute_result"
    }
   ],
   "source": [
    "colors = list()\n",
    "colors.append('red')\n",
    "colors.append('green')\n",
    "colors.append('blue')\n",
    "colors"
   ]
  },
  {
   "cell_type": "code",
   "execution_count": 33,
   "metadata": {},
   "outputs": [
    {
     "data": {
      "text/plain": [
       "['green', 'blue']"
      ]
     },
     "execution_count": 33,
     "metadata": {},
     "output_type": "execute_result"
    }
   ],
   "source": [
    "colors.remove('red')\n",
    "colors"
   ]
  },
  {
   "cell_type": "code",
   "execution_count": 35,
   "metadata": {},
   "outputs": [
    {
     "data": {
      "text/plain": [
       "['blue', 'green']"
      ]
     },
     "execution_count": 35,
     "metadata": {},
     "output_type": "execute_result"
    }
   ],
   "source": [
    "colors.sort()\n",
    "colors"
   ]
  },
  {
   "cell_type": "code",
   "execution_count": null,
   "metadata": {},
   "outputs": [],
   "source": [
    "d = {'youn': 1, 'park': 2, 'kim'}"
   ]
  },
  {
   "cell_type": "code",
   "execution_count": null,
   "metadata": {},
   "outputs": [],
   "source": [
    "s = input()"
   ]
  }
 ],
 "metadata": {
  "kernelspec": {
   "display_name": "Python 3",
   "language": "python",
   "name": "python3"
  },
  "language_info": {
   "codemirror_mode": {
    "name": "ipython",
    "version": 3
   },
   "file_extension": ".py",
   "mimetype": "text/x-python",
   "name": "python",
   "nbconvert_exporter": "python",
   "pygments_lexer": "ipython3",
   "version": "3.8.5"
  }
 },
 "nbformat": 4,
 "nbformat_minor": 4
}
