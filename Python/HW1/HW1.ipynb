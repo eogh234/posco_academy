{
 "cells": [
  {
   "cell_type": "markdown",
   "metadata": {},
   "source": [
    "## HW1"
   ]
  },
  {
   "cell_type": "markdown",
   "metadata": {},
   "source": [
    "### 1\n",
    "화씨온도(℉)를 입력 받아서 섭씨온도(℃)로 바꾸는 프로그\n",
    "램을 작성하시오.\n",
    "\n",
    "C = (F - 32) * 5/9"
   ]
  },
  {
   "cell_type": "code",
   "execution_count": 2,
   "metadata": {},
   "outputs": [
    {
     "name": "stdout",
     "output_type": "stream",
     "text": [
      "화씨온도: 100\n",
      "섭씨온도:  37.77777777777778\n"
     ]
    }
   ],
   "source": [
    "F = int(input(\"화씨온도: \"))\n",
    "\n",
    "C = (F - 32) * (5 / 9)\n",
    "\n",
    "print(\"섭씨온도: \", C)"
   ]
  },
  {
   "cell_type": "markdown",
   "metadata": {},
   "source": [
    "### 2\n",
    "사용자로부터 투입한 돈과 물건 값을 입력 받아, 잔돈을\n",
    "계산하여 출력한다. 단, 동전의 개수는 최소화 할 것\n",
    "(가정)\n",
    "- 물건 값은 100원 단위\n",
    "- 자판기의 동전은 500원, 100원만 있음"
   ]
  },
  {
   "cell_type": "code",
   "execution_count": 3,
   "metadata": {},
   "outputs": [
    {
     "name": "stdout",
     "output_type": "stream",
     "text": [
      "투입한 돈: 5000\n",
      "물건값: 2700\n",
      "거스름돈:  2300\n",
      "500원짜리:  4 개\n",
      "100원짜리:  3 개\n"
     ]
    }
   ],
   "source": [
    "total = int(input(\"투입한 돈: \"))\n",
    "price = int(input(\"물건값: \"))\n",
    "change = total - price\n",
    "print(\"거스름돈: \", change)\n",
    "print(\"500원짜리: \", change // 500,\"개\")\n",
    "print(\"100원짜리: \", change % 500 // 100,\"개\")"
   ]
  },
  {
   "cell_type": "markdown",
   "metadata": {},
   "source": [
    "### 3\n",
    "원의 반지름을 r을 입력 받아, 원의 둘레와 넓\n",
    "이를 구하는 프로그램을 작성하시오\n",
    "\n",
    "원 둘레: 2 * pi * r (pi = 3.141592)\n",
    "원 넓이: pi * r * r"
   ]
  },
  {
   "cell_type": "code",
   "execution_count": 4,
   "metadata": {},
   "outputs": [
    {
     "name": "stdout",
     "output_type": "stream",
     "text": [
      "반지름을 입력하시오: 5\n",
      "원 둘레:  31.41592\n",
      "원 넓이:  78.5398\n"
     ]
    }
   ],
   "source": [
    "PI = 3.141592\n",
    "r = int(input(\"반지름을 입력하시오: \"))\n",
    "print(\"원 둘레: \", 2 * PI * r)\n",
    "print(\"원 넓이: \", PI * r * r)"
   ]
  },
  {
   "cell_type": "markdown",
   "metadata": {},
   "source": [
    "### 4\n",
    "2개의 정수를 입력 받아, 사칙연산 및 나머지\n",
    "연산의 결과를 아래와 같이 출력하는 프로그램을 작성\n",
    "하시오."
   ]
  },
  {
   "cell_type": "code",
   "execution_count": 9,
   "metadata": {},
   "outputs": [
    {
     "name": "stdout",
     "output_type": "stream",
     "text": [
      "Enter two integers: 8 5\n",
      "8 + 5 = 13\n",
      "8 - 5 = 3\n",
      "8 * 5 = 40\n",
      "8 / 5 = 1\n",
      "8 % 5 = 3\n"
     ]
    }
   ],
   "source": [
    "a, b = map(int, input(\"Enter two integers: \").split())\n",
    "print(\"%d + %d = %d\" % (a, b, a + b))\n",
    "print(\"%d - %d = %d\" % (a, b, a - b))\n",
    "print(\"%d * %d = %d\" % (a, b, a * b))\n",
    "print(\"%d / %d = %d\" % (a, b, a / b))\n",
    "print(\"%d %% %d = %d\" % (a, b, a % b))"
   ]
  },
  {
   "cell_type": "markdown",
   "metadata": {},
   "source": [
    "### 5\n",
    "두 정수를 입력 받아, 합과 평균을 구하여 출\n",
    "력하는 프로그램을 작성하시오."
   ]
  },
  {
   "cell_type": "code",
   "execution_count": 15,
   "metadata": {},
   "outputs": [
    {
     "name": "stdout",
     "output_type": "stream",
     "text": [
      "Enter two integers: 70 91\n",
      "The sum of 70 and 91 is 161\n",
      "The average of numbers is 80.5\n"
     ]
    }
   ],
   "source": [
    "numbers = list(map(int, input(\"Enter two integers: \").split()))\n",
    "print(\"The sum of %d and %d is %d\" % (numbers[0], numbers[1], sum(numbers)))\n",
    "print(\"The average of numbers is %.1f\" % (sum(numbers) / len(numbers)))"
   ]
  },
  {
   "cell_type": "markdown",
   "metadata": {},
   "source": [
    "### 6\n",
    "날짜(연/월/일)입력: 2021/04/15\n",
    "입력한 날짜의 10년 후는 2021년 4월 15일"
   ]
  },
  {
   "cell_type": "code",
   "execution_count": 16,
   "metadata": {},
   "outputs": [
    {
     "name": "stdout",
     "output_type": "stream",
     "text": [
      "날짜 입력 : 2021/04/15\n",
      "입력한 날짜의 10년 후는 2031년 4월 15일\n"
     ]
    }
   ],
   "source": [
    "date = input(\"날짜 입력 : \")\n",
    "year, month, day = map(int, date.split('/'))\n",
    "print('입력한 날짜의 10년 후는 %d년 %s월 %s일' % (year + 10, month, day))"
   ]
  },
  {
   "cell_type": "markdown",
   "metadata": {},
   "source": [
    "### 2. 따라 해보기\n",
    "range() 함수: 숫자 리스트를 자동으로 만들어 줌"
   ]
  },
  {
   "cell_type": "code",
   "execution_count": 21,
   "metadata": {},
   "outputs": [
    {
     "data": {
      "text/plain": [
       "[0, 1, 2, 3, 4]"
      ]
     },
     "execution_count": 21,
     "metadata": {},
     "output_type": "execute_result"
    }
   ],
   "source": [
    "list(range(5))"
   ]
  },
  {
   "cell_type": "code",
   "execution_count": 20,
   "metadata": {},
   "outputs": [
    {
     "data": {
      "text/plain": [
       "[1, 2, 3, 4, 5]"
      ]
     },
     "execution_count": 20,
     "metadata": {},
     "output_type": "execute_result"
    }
   ],
   "source": [
    "list(range(1, 6))"
   ]
  },
  {
   "cell_type": "code",
   "execution_count": 19,
   "metadata": {},
   "outputs": [
    {
     "data": {
      "text/plain": [
       "[1, 3, 5]"
      ]
     },
     "execution_count": 19,
     "metadata": {},
     "output_type": "execute_result"
    }
   ],
   "source": [
    "list(range(1, 7, 2))"
   ]
  },
  {
   "cell_type": "markdown",
   "metadata": {},
   "source": [
    "range(start, stop, step)"
   ]
  },
  {
   "cell_type": "code",
   "execution_count": 22,
   "metadata": {},
   "outputs": [
    {
     "data": {
      "text/plain": [
       "[0, 1, 2, 3, 4, 5, 6, 7, 8, 9]"
      ]
     },
     "execution_count": 22,
     "metadata": {},
     "output_type": "execute_result"
    }
   ],
   "source": [
    "list(range(10))"
   ]
  },
  {
   "cell_type": "code",
   "execution_count": 23,
   "metadata": {},
   "outputs": [
    {
     "data": {
      "text/plain": [
       "[1, 2, 3, 4, 5]"
      ]
     },
     "execution_count": 23,
     "metadata": {},
     "output_type": "execute_result"
    }
   ],
   "source": [
    "list(range(1, 6))"
   ]
  },
  {
   "cell_type": "markdown",
   "metadata": {},
   "source": [
    "##### 실습 1) 1부터 10까지의 리스트 생성"
   ]
  },
  {
   "cell_type": "code",
   "execution_count": 24,
   "metadata": {},
   "outputs": [
    {
     "data": {
      "text/plain": [
       "[1, 2, 3, 4, 5, 6, 7, 8, 9, 10]"
      ]
     },
     "execution_count": 24,
     "metadata": {},
     "output_type": "execute_result"
    }
   ],
   "source": [
    "list(range(1, 11))"
   ]
  },
  {
   "cell_type": "markdown",
   "metadata": {},
   "source": [
    "##### 실습 2) 10부터 1까지의 리스트 생성"
   ]
  },
  {
   "cell_type": "code",
   "execution_count": 25,
   "metadata": {},
   "outputs": [
    {
     "data": {
      "text/plain": [
       "[10, 9, 8, 7, 6, 5, 4, 3, 2, 1]"
      ]
     },
     "execution_count": 25,
     "metadata": {},
     "output_type": "execute_result"
    }
   ],
   "source": [
    "list(range(10, 0, -1))"
   ]
  },
  {
   "cell_type": "markdown",
   "metadata": {},
   "source": [
    "##### 실습 3) 1부터 10까지의 짝수 리스트 생성"
   ]
  },
  {
   "cell_type": "code",
   "execution_count": 30,
   "metadata": {},
   "outputs": [
    {
     "data": {
      "text/plain": [
       "[2, 4, 6, 8, 10]"
      ]
     },
     "execution_count": 30,
     "metadata": {},
     "output_type": "execute_result"
    }
   ],
   "source": [
    "even_list = list(range(2, 11, 2))\n",
    "even_list"
   ]
  },
  {
   "cell_type": "markdown",
   "metadata": {},
   "source": [
    "##### 실습 4) 1부터 10까지의 홀수 리스트 생성"
   ]
  },
  {
   "cell_type": "code",
   "execution_count": 29,
   "metadata": {},
   "outputs": [
    {
     "data": {
      "text/plain": [
       "[1, 3, 5, 7, 9]"
      ]
     },
     "execution_count": 29,
     "metadata": {},
     "output_type": "execute_result"
    }
   ],
   "source": [
    "odd_list = list(range(1, 11, 2))\n",
    "odd_list"
   ]
  },
  {
   "cell_type": "markdown",
   "metadata": {},
   "source": [
    "##### 실습 5) 리스트 더하기"
   ]
  },
  {
   "cell_type": "code",
   "execution_count": 31,
   "metadata": {},
   "outputs": [
    {
     "data": {
      "text/plain": [
       "[2, 4, 6, 8, 10, 1, 3, 5, 7, 9]"
      ]
     },
     "execution_count": 31,
     "metadata": {},
     "output_type": "execute_result"
    }
   ],
   "source": [
    "even_list + odd_list"
   ]
  },
  {
   "cell_type": "code",
   "execution_count": null,
   "metadata": {},
   "outputs": [],
   "source": []
  }
 ],
 "metadata": {
  "kernelspec": {
   "display_name": "Python 3",
   "language": "python",
   "name": "python3"
  },
  "language_info": {
   "codemirror_mode": {
    "name": "ipython",
    "version": 3
   },
   "file_extension": ".py",
   "mimetype": "text/x-python",
   "name": "python",
   "nbconvert_exporter": "python",
   "pygments_lexer": "ipython3",
   "version": "3.8.5"
  }
 },
 "nbformat": 4,
 "nbformat_minor": 4
}
