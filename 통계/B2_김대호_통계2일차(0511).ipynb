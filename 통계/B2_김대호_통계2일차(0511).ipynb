{
 "cells": [
  {
   "cell_type": "markdown",
   "metadata": {},
   "source": [
    "## B2_김대호_통계2일차(0511)\n",
    "### 1. 정규분포의 확률 계산\n",
    "#### (1) 1리터를 가지고 9km 이상 15km 이하를 달릴 확률\n",
    "#### (2) 1리터를 가지고 15km 이상을 달릴 확률"
   ]
  },
  {
   "cell_type": "code",
   "execution_count": 3,
   "metadata": {},
   "outputs": [
    {
     "ename": "NameError",
     "evalue": "name 'prob2' is not defined",
     "output_type": "error",
     "traceback": [
      "\u001b[0;31m---------------------------------------------------------------------------\u001b[0m",
      "\u001b[0;31mNameError\u001b[0m                                 Traceback (most recent call last)",
      "\u001b[0;32m<ipython-input-3-1ecd24a49702>\u001b[0m in \u001b[0;36m<module>\u001b[0;34m\u001b[0m\n\u001b[1;32m     16\u001b[0m \u001b[0mprob1\u001b[0m \u001b[0;34m=\u001b[0m \u001b[0mstats\u001b[0m\u001b[0;34m.\u001b[0m\u001b[0mnorm\u001b[0m\u001b[0;34m.\u001b[0m\u001b[0mcdf\u001b[0m\u001b[0;34m(\u001b[0m\u001b[0mx1\u001b[0m\u001b[0;34m,\u001b[0m \u001b[0mmu\u001b[0m\u001b[0;34m,\u001b[0m \u001b[0msigma\u001b[0m\u001b[0;34m)\u001b[0m\u001b[0;34m\u001b[0m\u001b[0;34m\u001b[0m\u001b[0m\n\u001b[1;32m     17\u001b[0m \u001b[0;34m\u001b[0m\u001b[0m\n\u001b[0;32m---> 18\u001b[0;31m \u001b[0mprint\u001b[0m\u001b[0;34m(\u001b[0m\u001b[0;34m\"{0}km 이상 {1}km 이하를 달릴 확률은 {2:.1f}에 해당함\"\u001b[0m\u001b[0;34m.\u001b[0m\u001b[0mformat\u001b[0m\u001b[0;34m(\u001b[0m\u001b[0mx1\u001b[0m\u001b[0;34m,\u001b[0m \u001b[0mx2\u001b[0m\u001b[0;34m,\u001b[0m \u001b[0mprob2\u001b[0m \u001b[0;34m-\u001b[0m \u001b[0mprob1\u001b[0m\u001b[0;34m)\u001b[0m\u001b[0;34m)\u001b[0m\u001b[0;34m\u001b[0m\u001b[0;34m\u001b[0m\u001b[0m\n\u001b[0m\u001b[1;32m     19\u001b[0m \u001b[0mprint\u001b[0m\u001b[0;34m(\u001b[0m\u001b[0;34m\"{0}km 이상을 달릴 확률은 {1:.1f}에 해당함\"\u001b[0m\u001b[0;34m.\u001b[0m\u001b[0mformat\u001b[0m\u001b[0;34m(\u001b[0m\u001b[0mx2\u001b[0m\u001b[0;34m,\u001b[0m \u001b[0;34m(\u001b[0m\u001b[0;36m1\u001b[0m \u001b[0;34m-\u001b[0m \u001b[0mprob2\u001b[0m\u001b[0;34m)\u001b[0m\u001b[0;34m)\u001b[0m\u001b[0;34m)\u001b[0m\u001b[0;34m\u001b[0m\u001b[0;34m\u001b[0m\u001b[0m\n",
      "\u001b[0;31mNameError\u001b[0m: name 'prob2' is not defined"
     ]
    }
   ],
   "source": [
    "import numpy as np\n",
    "from scipy import stats\n",
    "import pandas as pd\n",
    "import statsmodels.api as sm\n",
    "import matplotlib.pyplot as plt\n",
    "import seaborn as sns\n",
    "from statsmodels.stats.proportion import proportions_ztest\n",
    "\n",
    "mu = 12\n",
    "sigma = 3\n",
    "x1 = 9\n",
    "x2 = 15\n",
    "\n",
    "prob1 = stats.norm.cdf(x1, mu, sigma)\n",
    "\n",
    "print(\"{0}km 이상 {1}km 이하를 달릴 확률은 {2:.1f}에 해당함\".format(x1, x2, prob2 - prob1))\n",
    "print(\"{0}km 이상을 달릴 확률은 {1:.1f}에 해당함\".format(x2, (1 - prob2)))"
   ]
  },
  {
   "cell_type": "code",
   "execution_count": 9,
   "metadata": {},
   "outputs": [
    {
     "data": {
      "text/plain": [
       "0.9999999999999912"
      ]
     },
     "execution_count": 9,
     "metadata": {},
     "output_type": "execute_result"
    }
   ],
   "source": [
    "import numpy as np\n",
    "from scipy import stats\n",
    "import pandas as pd\n",
    "import statsmodels.api as sm\n",
    "import matplotlib.pyplot as plt\n",
    "import seaborn as sns\n",
    "from statsmodels.stats.proportion import proportions_ztest\n",
    "\n",
    "ds_anova = pd.read_csv(\"./시험_예제/전표처리시간.csv\", engine=\"python\")\n",
    "\n",
    "mu = 12\n",
    "sigma = 3\n",
    "x1 = 35\n",
    "\n",
    "prob1 = stats.norm.cdf(x1, mu, sigma)\n",
    "prob1\n",
    "\n",
    "# print(\"{0}km 이상 {1}km 이하를 달릴 확률은 {2:.1f}에 해당함\".format(x1, x2, prob2 - prob1))\n",
    "# print(\"{0}km 이상을 달릴 확률은 {1:.1f}에 해당함\".format(x2, (1 - prob2)))"
   ]
  },
  {
   "cell_type": "markdown",
   "metadata": {},
   "source": [
    "### 자동차 1리터당 주행거리 평균은 12km, 표준편차는 3km인 정규분포이다.\n",
    "#### 정규분포의 그래프의 면적은 확률을 의미한다.\n",
    "1. stats.norm.cdf 를 이용해서 자동차가 1리터로 15km 이하를 달릴 확률을 구한다. 약 0.16가 나온다\n",
    "   stats.norm.cdf 를 이용해서 자동차가 1리터로 9km 이하를 달릴 확률을 구한다. 약 0.84가 나온다\n",
    "   15km 이하를 달릴 확률에서 9km 이하를 달릴 확률을 빼면 9km 이상 15km 이하를 달릴 확률을 구할 수 있다.\n",
    "\n",
    "\n",
    "2. stats.norm.cdf 를 이용해서 자동차가 1리터로 15km 이하를 달릴 확률을 구한다. 약 0.16가 나온다\n",
    "   자동차가 달릴 전체 확률인 1에서 15km 이하로 달릴 확률을 빼면 15km 이상을 달릴 확률을 구할 수 있다.\n",
    "   약 0.2가 나온다.\n",
    "   \n",
    "### 결론 : 주행거리가 길어질수록 자동차가 1리터로 갈 확률이 줄어든다."
   ]
  },
  {
   "cell_type": "markdown",
   "metadata": {},
   "source": [
    "## 2. 포아송 분포\n",
    "### 일정한 시간 또는 공간에서 발생하는 성공횟수에 대한 이산확률분포\n",
    "#### 한 상점 (일정한 공간) 에서 평균 1시간에 3명씩 포아송분포로 손님이 도착한다.\n",
    "\n",
    "#### 10시에서 11시 사이에 (일정한 시간)에 다음이 발생할 확률을 구하시오\n",
    "\n",
    "1) 2명의 손님이 도착\n",
    "\n",
    "2) 1명 이하의 손님이 도착\n",
    "\n",
    "3) 3명 이상의 손님이 도착"
   ]
  },
  {
   "cell_type": "code",
   "execution_count": 55,
   "metadata": {
    "scrolled": true
   },
   "outputs": [
    {
     "name": "stdout",
     "output_type": "stream",
     "text": [
      "10시에서 11시 사이에 2명의 손님이 도착할 확률: 0.2\n",
      "10시에서 11시 사이에 1명 이하의 손님이 도착할 확률: 0.2\n",
      "10시에서 11시 사이에 3명 이상의 손님이 도착할 확률: 0.6\n"
     ]
    }
   ],
   "source": [
    "mu = 3\n",
    "prob = stats.poisson.pmf(2, mu)\n",
    "cdf_prob1 = stats.poisson.cdf(1, mu)\n",
    "cdf_prob2 = stats.poisson.cdf(3, mu)\n",
    "\n",
    "print(\"10시에서 11시 사이에 {0}명의 손님이 도착할 확률: {1:.1f}\".format(2, prob))\n",
    "print(\"10시에서 11시 사이에 {0}명 이하의 손님이 도착할 확률: {1:.1f}\".format(1, cdf_prob1))\n",
    "print(\"10시에서 11시 사이에 {0}명 이상의 손님이 도착할 확률: {1:.1f}\".format(3, cdf_prob2))"
   ]
  },
  {
   "cell_type": "markdown",
   "metadata": {},
   "source": [
    "## 1시간에 평균 3명\n",
    "\n",
    "### 확률밀도함수 Pr(X = x) 이용\n",
    "\n",
    "### 2명의 손님이 도착할 확률 = pmf(2, mu)\n",
    "### 1명 이하의 손님이 도착할 확률 = cdf(1, mu)\n",
    "### 3명 이상의 손님이 도착할 확률 = 1 - (3명 이하의 손님이 도착할 확률 cdf(3,mu))"
   ]
  },
  {
   "cell_type": "markdown",
   "metadata": {},
   "source": [
    "## 3. 정규성 검정\n",
    "\n",
    "### 정규성 검정결과 (95% 신뢰수준 사용시) p-value가 0.05보다 크면 정규, 0.05보다 작으면 비정규\n",
    "\n",
    "####  Mat_A의 p-value > 0.05 이므로 정규\n",
    "####  Mat_B의 p-value > 0.05 이므로 정규"
   ]
  },
  {
   "cell_type": "code",
   "execution_count": 54,
   "metadata": {},
   "outputs": [
    {
     "data": {
      "text/plain": [
       "ShapiroResult(statistic=0.9062636494636536, pvalue=0.2562994360923767)"
      ]
     },
     "execution_count": 54,
     "metadata": {},
     "output_type": "execute_result"
    }
   ],
   "source": [
    "from scipy.stats import shapiro\n",
    "ds_mat = pd.read_csv(\"2sample_t_test.csv\", engine=\"python\")\n",
    "mat_a = ds_mat.dropna()\n",
    "mat_a = mat_a['Mat_A']\n",
    "\n",
    "shapiro(mat_a)"
   ]
  },
  {
   "cell_type": "code",
   "execution_count": 44,
   "metadata": {},
   "outputs": [
    {
     "data": {
      "text/plain": [
       "ShapiroResult(statistic=0.9729753732681274, pvalue=0.9169777035713196)"
      ]
     },
     "execution_count": 44,
     "metadata": {},
     "output_type": "execute_result"
    }
   ],
   "source": [
    "from scipy.stats import shapiro\n",
    "ds_mat = pd.read_csv(\"2sample_t_test.csv\", engine=\"python\")\n",
    "mat_b = ds_mat.dropna()\n",
    "mat_b = mat_b['Mat_B']\n",
    "\n",
    "shapiro(mat_b)"
   ]
  },
  {
   "cell_type": "markdown",
   "metadata": {},
   "source": [
    "## 4. 모평균 추정 (모표준편차 아는 경우)\n",
    "### 모표준편차는 3.8이다.\n",
    "### 정규분포 구간 추정 함수를 실행해 95% 신뢰도와 3.8의 표준편차를 갖는 모평균을 추정한다."
   ]
  },
  {
   "cell_type": "code",
   "execution_count": 56,
   "metadata": {},
   "outputs": [
    {
     "name": "stdout",
     "output_type": "stream",
     "text": [
      "신뢰구간: ([19.38],[19.62])\n"
     ]
    }
   ],
   "source": [
    "df = pd.DataFrame({\"sample\": [18, 18, 20, 21, 20, 23, 19, 18, 17, 21, 22, 20, 20, 21, 20, 19, 19, 18, 17, 19]})\n",
    "df.head()\n",
    "\n",
    "lower, upper = stats.norm.interval(0.95, loc = np.mean(df), scale=0.38/np.sqrt(40))\n",
    "print(\"신뢰구간: ({0},{1})\".format(lower.round(2), upper.round(2)))"
   ]
  },
  {
   "cell_type": "markdown",
   "metadata": {},
   "source": [
    "### 95% 신뢰 구간은 19.38 ~ 19.62 으로 추정한다"
   ]
  },
  {
   "cell_type": "markdown",
   "metadata": {},
   "source": [
    "## 5. 모평균 추정(모표준편차 모르는 경우)\n",
    "### 평균 인장강도 = 70 kg/mm^2 기대\n",
    "\n",
    "#### 모평균값의 95% 신뢰구간을 추정"
   ]
  },
  {
   "cell_type": "code",
   "execution_count": 50,
   "metadata": {},
   "outputs": [
    {
     "name": "stdout",
     "output_type": "stream",
     "text": [
      "신뢰구간: ([70.6],[72.4])\n"
     ]
    }
   ],
   "source": [
    "df = pd.DataFrame({'sample':[73, 71, 74, 69, 70, 73, 70, 68, 75, 72, 70, 72, 73, 70, 70, 72, 71, 70, 75, 72]})\n",
    "    \n",
    "lower, upper = stats.t.interval(0.95, len(df) - 1, loc = np.mean(df), scale = stats.sem(df))\n",
    "print(\"신뢰구간: ({0},{1})\".format(lower.round(2), upper.round(2)))"
   ]
  },
  {
   "cell_type": "markdown",
   "metadata": {},
   "source": [
    "### 95% 신뢰구간은 70.6 ~ 72.4 으로 추정한다."
   ]
  }
 ],
 "metadata": {
  "kernelspec": {
   "display_name": "Python 3",
   "language": "python",
   "name": "python3"
  },
  "language_info": {
   "codemirror_mode": {
    "name": "ipython",
    "version": 3
   },
   "file_extension": ".py",
   "mimetype": "text/x-python",
   "name": "python",
   "nbconvert_exporter": "python",
   "pygments_lexer": "ipython3",
   "version": "3.8.5"
  }
 },
 "nbformat": 4,
 "nbformat_minor": 4
}
